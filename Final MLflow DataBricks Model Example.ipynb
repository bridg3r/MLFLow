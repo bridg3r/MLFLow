{
 "cells": [
  {
   "cell_type": "markdown",
   "metadata": {
    "application/vnd.databricks.v1+cell": {
     "cellMetadata": {
      "byteLimit": 2048000,
      "rowLimit": 10000
     },
     "inputWidgets": {},
     "nuid": "8b3b8239-523f-45aa-95e2-597755fcac09",
     "showTitle": false,
     "title": ""
    }
   },
   "source": [
    "#### Using MLflow in DataBricks\n",
    "We will be using a dataset from [Kaggle](https://www.kaggle.com/datasets/aungpyaeap/fish-market/download?datasetVersionNumber=2) for predicting the weights of fish using a linear regression model. Using this model, we will learn how to track and register a machine learning model in DataBricks."
   ]
  },
  {
   "cell_type": "code",
   "execution_count": 0,
   "metadata": {
    "application/vnd.databricks.v1+cell": {
     "cellMetadata": {
      "byteLimit": 2048000,
      "rowLimit": 10000
     },
     "inputWidgets": {},
     "nuid": "ff6df5fb-4973-4e67-904b-a630578865f5",
     "showTitle": false,
     "title": ""
    }
   },
   "outputs": [
    {
     "output_type": "stream",
     "name": "stdout",
     "output_type": "stream",
     "text": [
      "Python interpreter will be restarted.\nRequirement already satisfied: mlflow in /local_disk0/.ephemeral_nfs/envs/pythonEnv-ff020f89-57c9-4151-905c-f7c1c642c3a0/lib/python3.9/site-packages (2.4.1)\nRequirement already satisfied: gunicorn<21 in /local_disk0/.ephemeral_nfs/envs/pythonEnv-ff020f89-57c9-4151-905c-f7c1c642c3a0/lib/python3.9/site-packages (from mlflow) (20.1.0)\nRequirement already satisfied: docker<7,>=4.0.0 in /local_disk0/.ephemeral_nfs/envs/pythonEnv-ff020f89-57c9-4151-905c-f7c1c642c3a0/lib/python3.9/site-packages (from mlflow) (6.1.3)\nRequirement already satisfied: pytz<2024 in /databricks/python3/lib/python3.9/site-packages (from mlflow) (2021.3)\nRequirement already satisfied: pyyaml<7,>=5.1 in /local_disk0/.ephemeral_nfs/envs/pythonEnv-ff020f89-57c9-4151-905c-f7c1c642c3a0/lib/python3.9/site-packages (from mlflow) (6.0)\nRequirement already satisfied: gitpython<4,>=2.1.0 in /local_disk0/.ephemeral_nfs/envs/pythonEnv-ff020f89-57c9-4151-905c-f7c1c642c3a0/lib/python3.9/site-packages (from mlflow) (3.1.31)\nRequirement already satisfied: cloudpickle<3 in /local_disk0/.ephemeral_nfs/envs/pythonEnv-ff020f89-57c9-4151-905c-f7c1c642c3a0/lib/python3.9/site-packages (from mlflow) (2.2.1)\nRequirement already satisfied: protobuf<5,>=3.12.0 in /databricks/python3/lib/python3.9/site-packages (from mlflow) (4.21.5)\nRequirement already satisfied: requests<3,>=2.17.3 in /databricks/python3/lib/python3.9/site-packages (from mlflow) (2.26.0)\nRequirement already satisfied: numpy<2 in /databricks/python3/lib/python3.9/site-packages (from mlflow) (1.20.3)\nRequirement already satisfied: alembic!=1.10.0,<2 in /local_disk0/.ephemeral_nfs/envs/pythonEnv-ff020f89-57c9-4151-905c-f7c1c642c3a0/lib/python3.9/site-packages (from mlflow) (1.11.1)\nRequirement already satisfied: Jinja2<4,>=2.11 in /local_disk0/.ephemeral_nfs/envs/pythonEnv-ff020f89-57c9-4151-905c-f7c1c642c3a0/lib/python3.9/site-packages (from mlflow) (3.1.2)\nRequirement already satisfied: scipy<2 in /databricks/python3/lib/python3.9/site-packages (from mlflow) (1.7.1)\nRequirement already satisfied: Flask<3 in /local_disk0/.ephemeral_nfs/envs/pythonEnv-ff020f89-57c9-4151-905c-f7c1c642c3a0/lib/python3.9/site-packages (from mlflow) (2.3.2)\nRequirement already satisfied: pyarrow<13,>=4.0.0 in /databricks/python3/lib/python3.9/site-packages (from mlflow) (7.0.0)\nRequirement already satisfied: matplotlib<4 in /databricks/python3/lib/python3.9/site-packages (from mlflow) (3.4.3)\nRequirement already satisfied: scikit-learn<2 in /databricks/python3/lib/python3.9/site-packages (from mlflow) (0.24.2)\nRequirement already satisfied: entrypoints<1 in /databricks/python3/lib/python3.9/site-packages (from mlflow) (0.3)\nRequirement already satisfied: markdown<4,>=3.3 in /local_disk0/.ephemeral_nfs/envs/pythonEnv-ff020f89-57c9-4151-905c-f7c1c642c3a0/lib/python3.9/site-packages (from mlflow) (3.4.3)\nRequirement already satisfied: pandas<3 in /databricks/python3/lib/python3.9/site-packages (from mlflow) (1.3.4)\nRequirement already satisfied: querystring-parser<2 in /local_disk0/.ephemeral_nfs/envs/pythonEnv-ff020f89-57c9-4151-905c-f7c1c642c3a0/lib/python3.9/site-packages (from mlflow) (1.2.4)\nRequirement already satisfied: importlib-metadata!=4.7.0,<7,>=3.7.0 in /local_disk0/.ephemeral_nfs/cluster_libraries/python/lib/python3.9/site-packages (from mlflow) (6.6.0)\nRequirement already satisfied: sqlalchemy<3,>=1.4.0 in /local_disk0/.ephemeral_nfs/envs/pythonEnv-ff020f89-57c9-4151-905c-f7c1c642c3a0/lib/python3.9/site-packages (from mlflow) (2.0.16)\nRequirement already satisfied: packaging<24 in /databricks/python3/lib/python3.9/site-packages (from mlflow) (21.0)\nRequirement already satisfied: sqlparse<1,>=0.4.0 in /local_disk0/.ephemeral_nfs/envs/pythonEnv-ff020f89-57c9-4151-905c-f7c1c642c3a0/lib/python3.9/site-packages (from mlflow) (0.4.4)\nRequirement already satisfied: databricks-cli<1,>=0.8.7 in /local_disk0/.ephemeral_nfs/envs/pythonEnv-ff020f89-57c9-4151-905c-f7c1c642c3a0/lib/python3.9/site-packages (from mlflow) (0.17.7)\nRequirement already satisfied: click<9,>=7.0 in /local_disk0/.ephemeral_nfs/envs/pythonEnv-ff020f89-57c9-4151-905c-f7c1c642c3a0/lib/python3.9/site-packages (from mlflow) (8.1.3)\nRequirement already satisfied: Mako in /local_disk0/.ephemeral_nfs/envs/pythonEnv-ff020f89-57c9-4151-905c-f7c1c642c3a0/lib/python3.9/site-packages (from alembic!=1.10.0,<2->mlflow) (1.2.4)\nRequirement already satisfied: typing-extensions>=4 in /local_disk0/.ephemeral_nfs/envs/pythonEnv-ff020f89-57c9-4151-905c-f7c1c642c3a0/lib/python3.9/site-packages (from alembic!=1.10.0,<2->mlflow) (4.6.3)\nRequirement already satisfied: urllib3<2.0.0,>=1.26.7 in /databricks/python3/lib/python3.9/site-packages (from databricks-cli<1,>=0.8.7->mlflow) (1.26.7)\nRequirement already satisfied: tabulate>=0.7.7 in /local_disk0/.ephemeral_nfs/envs/pythonEnv-ff020f89-57c9-4151-905c-f7c1c642c3a0/lib/python3.9/site-packages (from databricks-cli<1,>=0.8.7->mlflow) (0.9.0)\nRequirement already satisfied: six>=1.10.0 in /databricks/python3/lib/python3.9/site-packages (from databricks-cli<1,>=0.8.7->mlflow) (1.16.0)\nRequirement already satisfied: oauthlib>=3.1.0 in /local_disk0/.ephemeral_nfs/envs/pythonEnv-ff020f89-57c9-4151-905c-f7c1c642c3a0/lib/python3.9/site-packages (from databricks-cli<1,>=0.8.7->mlflow) (3.2.2)\nRequirement already satisfied: pyjwt>=1.7.0 in /local_disk0/.ephemeral_nfs/envs/pythonEnv-ff020f89-57c9-4151-905c-f7c1c642c3a0/lib/python3.9/site-packages (from databricks-cli<1,>=0.8.7->mlflow) (2.7.0)\nRequirement already satisfied: websocket-client>=0.32.0 in /local_disk0/.ephemeral_nfs/envs/pythonEnv-ff020f89-57c9-4151-905c-f7c1c642c3a0/lib/python3.9/site-packages (from docker<7,>=4.0.0->mlflow) (1.6.0)\nRequirement already satisfied: Werkzeug>=2.3.3 in /local_disk0/.ephemeral_nfs/envs/pythonEnv-ff020f89-57c9-4151-905c-f7c1c642c3a0/lib/python3.9/site-packages (from Flask<3->mlflow) (2.3.6)\nRequirement already satisfied: itsdangerous>=2.1.2 in /local_disk0/.ephemeral_nfs/envs/pythonEnv-ff020f89-57c9-4151-905c-f7c1c642c3a0/lib/python3.9/site-packages (from Flask<3->mlflow) (2.1.2)\nRequirement already satisfied: blinker>=1.6.2 in /local_disk0/.ephemeral_nfs/envs/pythonEnv-ff020f89-57c9-4151-905c-f7c1c642c3a0/lib/python3.9/site-packages (from Flask<3->mlflow) (1.6.2)\nRequirement already satisfied: gitdb<5,>=4.0.1 in /local_disk0/.ephemeral_nfs/envs/pythonEnv-ff020f89-57c9-4151-905c-f7c1c642c3a0/lib/python3.9/site-packages (from gitpython<4,>=2.1.0->mlflow) (4.0.10)\nRequirement already satisfied: smmap<6,>=3.0.1 in /local_disk0/.ephemeral_nfs/envs/pythonEnv-ff020f89-57c9-4151-905c-f7c1c642c3a0/lib/python3.9/site-packages (from gitdb<5,>=4.0.1->gitpython<4,>=2.1.0->mlflow) (5.0.0)\nRequirement already satisfied: setuptools>=3.0 in /usr/local/lib/python3.9/dist-packages (from gunicorn<21->mlflow) (58.0.4)\nRequirement already satisfied: zipp>=0.5 in /local_disk0/.ephemeral_nfs/cluster_libraries/python/lib/python3.9/site-packages (from importlib-metadata!=4.7.0,<7,>=3.7.0->mlflow) (3.15.0)\nRequirement already satisfied: MarkupSafe>=2.0 in /local_disk0/.ephemeral_nfs/envs/pythonEnv-ff020f89-57c9-4151-905c-f7c1c642c3a0/lib/python3.9/site-packages (from Jinja2<4,>=2.11->mlflow) (2.1.3)\nRequirement already satisfied: python-dateutil>=2.7 in /databricks/python3/lib/python3.9/site-packages (from matplotlib<4->mlflow) (2.8.2)\nRequirement already satisfied: kiwisolver>=1.0.1 in /databricks/python3/lib/python3.9/site-packages (from matplotlib<4->mlflow) (1.3.1)\nRequirement already satisfied: pyparsing>=2.2.1 in /databricks/python3/lib/python3.9/site-packages (from matplotlib<4->mlflow) (3.0.4)\nRequirement already satisfied: cycler>=0.10 in /databricks/python3/lib/python3.9/site-packages (from matplotlib<4->mlflow) (0.10.0)\nRequirement already satisfied: pillow>=6.2.0 in /databricks/python3/lib/python3.9/site-packages (from matplotlib<4->mlflow) (8.4.0)\nRequirement already satisfied: idna<4,>=2.5 in /databricks/python3/lib/python3.9/site-packages (from requests<3,>=2.17.3->mlflow) (3.2)\nRequirement already satisfied: charset-normalizer~=2.0.0 in /databricks/python3/lib/python3.9/site-packages (from requests<3,>=2.17.3->mlflow) (2.0.4)\nRequirement already satisfied: certifi>=2017.4.17 in /databricks/python3/lib/python3.9/site-packages (from requests<3,>=2.17.3->mlflow) (2021.10.8)\nRequirement already satisfied: threadpoolctl>=2.0.0 in /databricks/python3/lib/python3.9/site-packages (from scikit-learn<2->mlflow) (2.2.0)\nRequirement already satisfied: joblib>=0.11 in /databricks/python3/lib/python3.9/site-packages (from scikit-learn<2->mlflow) (1.0.1)\nRequirement already satisfied: greenlet!=0.4.17 in /local_disk0/.ephemeral_nfs/envs/pythonEnv-ff020f89-57c9-4151-905c-f7c1c642c3a0/lib/python3.9/site-packages (from sqlalchemy<3,>=1.4.0->mlflow) (2.0.2)\nPython interpreter will be restarted.\n"
     ]
    }
   ],
   "source": [
    "# Install the mlflow library if it's not already installed on your compute. \n",
    "# %pip install mlflow"
   ]
  },
  {
   "cell_type": "code",
   "execution_count": 0,
   "metadata": {
    "application/vnd.databricks.v1+cell": {
     "cellMetadata": {
      "byteLimit": 2048000,
      "rowLimit": 10000
     },
     "inputWidgets": {},
     "nuid": "a1e63a10-278b-4816-93b7-2a87a08e4c3a",
     "showTitle": false,
     "title": ""
    }
   },
   "outputs": [],
   "source": [
    "import requests\n",
    "import pyspark.sql.functions as F\n",
    "import mlflow"
   ]
  },
  {
   "cell_type": "code",
   "execution_count": 0,
   "metadata": {
    "application/vnd.databricks.v1+cell": {
     "cellMetadata": {
      "byteLimit": 2048000,
      "rowLimit": 10000
     },
     "inputWidgets": {},
     "nuid": "e87c0174-5857-4905-8a1b-73809e74f878",
     "showTitle": false,
     "title": ""
    }
   },
   "outputs": [
    {
     "output_type": "display_data",
     "data": {
      "text/html": [
       "<style scoped>\n",
       "  .table-result-container {\n",
       "    max-height: 300px;\n",
       "    overflow: auto;\n",
       "  }\n",
       "  table, th, td {\n",
       "    border: 1px solid black;\n",
       "    border-collapse: collapse;\n",
       "  }\n",
       "  th, td {\n",
       "    padding: 5px;\n",
       "  }\n",
       "  th {\n",
       "    text-align: left;\n",
       "  }\n",
       "</style><div class='table-result-container'><table class='table-result'><thead style='background-color: white'><tr><th>Species</th><th>Weight</th><th>Length1</th><th>Length2</th><th>Length3</th><th>Height</th><th>Width</th></tr></thead><tbody><tr><td>Bream</td><td>242</td><td>23.2</td><td>25.4</td><td>30</td><td>11.52</td><td>4.02</td></tr><tr><td>Bream</td><td>290</td><td>24</td><td>26.3</td><td>31.2</td><td>12.48</td><td>4.3056</td></tr><tr><td>Bream</td><td>340</td><td>23.9</td><td>26.5</td><td>31.1</td><td>12.3778</td><td>4.6961</td></tr><tr><td>Bream</td><td>363</td><td>26.3</td><td>29</td><td>33.5</td><td>12.73</td><td>4.4555</td></tr><tr><td>Bream</td><td>430</td><td>26.5</td><td>29</td><td>34</td><td>12.444</td><td>5.134</td></tr><tr><td>Bream</td><td>450</td><td>26.8</td><td>29.7</td><td>34.7</td><td>13.6024</td><td>4.9274</td></tr><tr><td>Bream</td><td>500</td><td>26.8</td><td>29.7</td><td>34.5</td><td>14.1795</td><td>5.2785</td></tr><tr><td>Bream</td><td>390</td><td>27.6</td><td>30</td><td>35</td><td>12.67</td><td>4.69</td></tr><tr><td>Bream</td><td>450</td><td>27.6</td><td>30</td><td>35.1</td><td>14.0049</td><td>4.8438</td></tr><tr><td>Bream</td><td>500</td><td>28.5</td><td>30.7</td><td>36.2</td><td>14.2266</td><td>4.9594</td></tr><tr><td>Bream</td><td>475</td><td>28.4</td><td>31</td><td>36.2</td><td>14.2628</td><td>5.1042</td></tr><tr><td>Bream</td><td>500</td><td>28.7</td><td>31</td><td>36.2</td><td>14.3714</td><td>4.8146</td></tr><tr><td>Bream</td><td>500</td><td>29.1</td><td>31.5</td><td>36.4</td><td>13.7592</td><td>4.368</td></tr><tr><td>Bream</td><td>340</td><td>29.5</td><td>32</td><td>37.3</td><td>13.9129</td><td>5.0728</td></tr><tr><td>Bream</td><td>600</td><td>29.4</td><td>32</td><td>37.2</td><td>14.9544</td><td>5.1708</td></tr><tr><td>Bream</td><td>600</td><td>29.4</td><td>32</td><td>37.2</td><td>15.438</td><td>5.58</td></tr><tr><td>Bream</td><td>700</td><td>30.4</td><td>33</td><td>38.3</td><td>14.8604</td><td>5.2854</td></tr><tr><td>Bream</td><td>700</td><td>30.4</td><td>33</td><td>38.5</td><td>14.938</td><td>5.1975</td></tr><tr><td>Bream</td><td>610</td><td>30.9</td><td>33.5</td><td>38.6</td><td>15.633</td><td>5.1338</td></tr><tr><td>Bream</td><td>650</td><td>31</td><td>33.5</td><td>38.7</td><td>14.4738</td><td>5.7276</td></tr><tr><td>Bream</td><td>575</td><td>31.3</td><td>34</td><td>39.5</td><td>15.1285</td><td>5.5695</td></tr><tr><td>Bream</td><td>685</td><td>31.4</td><td>34</td><td>39.2</td><td>15.9936</td><td>5.3704</td></tr><tr><td>Bream</td><td>620</td><td>31.5</td><td>34.5</td><td>39.7</td><td>15.5227</td><td>5.2801</td></tr><tr><td>Bream</td><td>680</td><td>31.8</td><td>35</td><td>40.6</td><td>15.4686</td><td>6.1306</td></tr><tr><td>Bream</td><td>700</td><td>31.9</td><td>35</td><td>40.5</td><td>16.2405</td><td>5.589</td></tr><tr><td>Bream</td><td>725</td><td>31.8</td><td>35</td><td>40.9</td><td>16.36</td><td>6.0532</td></tr><tr><td>Bream</td><td>720</td><td>32</td><td>35</td><td>40.6</td><td>16.3618</td><td>6.09</td></tr><tr><td>Bream</td><td>714</td><td>32.7</td><td>36</td><td>41.5</td><td>16.517</td><td>5.8515</td></tr><tr><td>Bream</td><td>850</td><td>32.8</td><td>36</td><td>41.6</td><td>16.8896</td><td>6.1984</td></tr><tr><td>Bream</td><td>1000</td><td>33.5</td><td>37</td><td>42.6</td><td>18.957</td><td>6.603</td></tr><tr><td>Bream</td><td>920</td><td>35</td><td>38.5</td><td>44.1</td><td>18.0369</td><td>6.3063</td></tr><tr><td>Bream</td><td>955</td><td>35</td><td>38.5</td><td>44</td><td>18.084</td><td>6.292</td></tr><tr><td>Bream</td><td>925</td><td>36.2</td><td>39.5</td><td>45.3</td><td>18.7542</td><td>6.7497</td></tr><tr><td>Bream</td><td>975</td><td>37.4</td><td>41</td><td>45.9</td><td>18.6354</td><td>6.7473</td></tr><tr><td>Bream</td><td>950</td><td>38</td><td>41</td><td>46.5</td><td>17.6235</td><td>6.3705</td></tr><tr><td>Roach</td><td>40</td><td>12.9</td><td>14.1</td><td>16.2</td><td>4.1472</td><td>2.268</td></tr><tr><td>Roach</td><td>69</td><td>16.5</td><td>18.2</td><td>20.3</td><td>5.2983</td><td>2.8217</td></tr><tr><td>Roach</td><td>78</td><td>17.5</td><td>18.8</td><td>21.2</td><td>5.5756</td><td>2.9044</td></tr><tr><td>Roach</td><td>87</td><td>18.2</td><td>19.8</td><td>22.2</td><td>5.6166</td><td>3.1746</td></tr><tr><td>Roach</td><td>120</td><td>18.6</td><td>20</td><td>22.2</td><td>6.216</td><td>3.5742</td></tr><tr><td>Roach</td><td>0</td><td>19</td><td>20.5</td><td>22.8</td><td>6.4752</td><td>3.3516</td></tr><tr><td>Roach</td><td>110</td><td>19.1</td><td>20.8</td><td>23.1</td><td>6.1677</td><td>3.3957</td></tr><tr><td>Roach</td><td>120</td><td>19.4</td><td>21</td><td>23.7</td><td>6.1146</td><td>3.2943</td></tr><tr><td>Roach</td><td>150</td><td>20.4</td><td>22</td><td>24.7</td><td>5.8045</td><td>3.7544</td></tr><tr><td>Roach</td><td>145</td><td>20.5</td><td>22</td><td>24.3</td><td>6.6339</td><td>3.5478</td></tr><tr><td>Roach</td><td>160</td><td>20.5</td><td>22.5</td><td>25.3</td><td>7.0334</td><td>3.8203</td></tr><tr><td>Roach</td><td>140</td><td>21</td><td>22.5</td><td>25</td><td>6.55</td><td>3.325</td></tr><tr><td>Roach</td><td>160</td><td>21.1</td><td>22.5</td><td>25</td><td>6.4</td><td>3.8</td></tr><tr><td>Roach</td><td>169</td><td>22</td><td>24</td><td>27.2</td><td>7.5344</td><td>3.8352</td></tr><tr><td>Roach</td><td>161</td><td>22</td><td>23.4</td><td>26.7</td><td>6.9153</td><td>3.6312</td></tr><tr><td>Roach</td><td>200</td><td>22.1</td><td>23.5</td><td>26.8</td><td>7.3968</td><td>4.1272</td></tr><tr><td>Roach</td><td>180</td><td>23.6</td><td>25.2</td><td>27.9</td><td>7.0866</td><td>3.906</td></tr><tr><td>Roach</td><td>290</td><td>24</td><td>26</td><td>29.2</td><td>8.8768</td><td>4.4968</td></tr><tr><td>Roach</td><td>272</td><td>25</td><td>27</td><td>30.6</td><td>8.568</td><td>4.7736</td></tr><tr><td>Roach</td><td>390</td><td>29.5</td><td>31.7</td><td>35</td><td>9.485</td><td>5.355</td></tr><tr><td>Whitefish</td><td>270</td><td>23.6</td><td>26</td><td>28.7</td><td>8.3804</td><td>4.2476</td></tr><tr><td>Whitefish</td><td>270</td><td>24.1</td><td>26.5</td><td>29.3</td><td>8.1454</td><td>4.2485</td></tr><tr><td>Whitefish</td><td>306</td><td>25.6</td><td>28</td><td>30.8</td><td>8.778</td><td>4.6816</td></tr><tr><td>Whitefish</td><td>540</td><td>28.5</td><td>31</td><td>34</td><td>10.744</td><td>6.562</td></tr><tr><td>Whitefish</td><td>800</td><td>33.7</td><td>36.4</td><td>39.6</td><td>11.7612</td><td>6.5736</td></tr><tr><td>Whitefish</td><td>1000</td><td>37.3</td><td>40</td><td>43.5</td><td>12.354</td><td>6.525</td></tr><tr><td>Parkki</td><td>55</td><td>13.5</td><td>14.7</td><td>16.5</td><td>6.8475</td><td>2.3265</td></tr><tr><td>Parkki</td><td>60</td><td>14.3</td><td>15.5</td><td>17.4</td><td>6.5772</td><td>2.3142</td></tr><tr><td>Parkki</td><td>90</td><td>16.3</td><td>17.7</td><td>19.8</td><td>7.4052</td><td>2.673</td></tr><tr><td>Parkki</td><td>120</td><td>17.5</td><td>19</td><td>21.3</td><td>8.3922</td><td>2.9181</td></tr><tr><td>Parkki</td><td>150</td><td>18.4</td><td>20</td><td>22.4</td><td>8.8928</td><td>3.2928</td></tr><tr><td>Parkki</td><td>140</td><td>19</td><td>20.7</td><td>23.2</td><td>8.5376</td><td>3.2944</td></tr><tr><td>Parkki</td><td>170</td><td>19</td><td>20.7</td><td>23.2</td><td>9.396</td><td>3.4104</td></tr><tr><td>Parkki</td><td>145</td><td>19.8</td><td>21.5</td><td>24.1</td><td>9.7364</td><td>3.1571</td></tr><tr><td>Parkki</td><td>200</td><td>21.2</td><td>23</td><td>25.8</td><td>10.3458</td><td>3.6636</td></tr><tr><td>Parkki</td><td>273</td><td>23</td><td>25</td><td>28</td><td>11.088</td><td>4.144</td></tr><tr><td>Parkki</td><td>300</td><td>24</td><td>26</td><td>29</td><td>11.368</td><td>4.234</td></tr><tr><td>Perch</td><td>5.9</td><td>7.5</td><td>8.4</td><td>8.8</td><td>2.112</td><td>1.408</td></tr><tr><td>Perch</td><td>32</td><td>12.5</td><td>13.7</td><td>14.7</td><td>3.528</td><td>1.9992</td></tr><tr><td>Perch</td><td>40</td><td>13.8</td><td>15</td><td>16</td><td>3.824</td><td>2.432</td></tr><tr><td>Perch</td><td>51.5</td><td>15</td><td>16.2</td><td>17.2</td><td>4.5924</td><td>2.6316</td></tr><tr><td>Perch</td><td>70</td><td>15.7</td><td>17.4</td><td>18.5</td><td>4.588</td><td>2.9415</td></tr><tr><td>Perch</td><td>100</td><td>16.2</td><td>18</td><td>19.2</td><td>5.2224</td><td>3.3216</td></tr><tr><td>Perch</td><td>78</td><td>16.8</td><td>18.7</td><td>19.4</td><td>5.1992</td><td>3.1234</td></tr><tr><td>Perch</td><td>80</td><td>17.2</td><td>19</td><td>20.2</td><td>5.6358</td><td>3.0502</td></tr><tr><td>Perch</td><td>85</td><td>17.8</td><td>19.6</td><td>20.8</td><td>5.1376</td><td>3.0368</td></tr><tr><td>Perch</td><td>85</td><td>18.2</td><td>20</td><td>21</td><td>5.082</td><td>2.772</td></tr><tr><td>Perch</td><td>110</td><td>19</td><td>21</td><td>22.5</td><td>5.6925</td><td>3.555</td></tr><tr><td>Perch</td><td>115</td><td>19</td><td>21</td><td>22.5</td><td>5.9175</td><td>3.3075</td></tr><tr><td>Perch</td><td>125</td><td>19</td><td>21</td><td>22.5</td><td>5.6925</td><td>3.6675</td></tr><tr><td>Perch</td><td>130</td><td>19.3</td><td>21.3</td><td>22.8</td><td>6.384</td><td>3.534</td></tr><tr><td>Perch</td><td>120</td><td>20</td><td>22</td><td>23.5</td><td>6.11</td><td>3.4075</td></tr><tr><td>Perch</td><td>120</td><td>20</td><td>22</td><td>23.5</td><td>5.64</td><td>3.525</td></tr><tr><td>Perch</td><td>130</td><td>20</td><td>22</td><td>23.5</td><td>6.11</td><td>3.525</td></tr><tr><td>Perch</td><td>135</td><td>20</td><td>22</td><td>23.5</td><td>5.875</td><td>3.525</td></tr><tr><td>Perch</td><td>110</td><td>20</td><td>22</td><td>23.5</td><td>5.5225</td><td>3.995</td></tr><tr><td>Perch</td><td>130</td><td>20.5</td><td>22.5</td><td>24</td><td>5.856</td><td>3.624</td></tr><tr><td>Perch</td><td>150</td><td>20.5</td><td>22.5</td><td>24</td><td>6.792</td><td>3.624</td></tr><tr><td>Perch</td><td>145</td><td>20.7</td><td>22.7</td><td>24.2</td><td>5.9532</td><td>3.63</td></tr><tr><td>Perch</td><td>150</td><td>21</td><td>23</td><td>24.5</td><td>5.2185</td><td>3.626</td></tr><tr><td>Perch</td><td>170</td><td>21.5</td><td>23.5</td><td>25</td><td>6.275</td><td>3.725</td></tr><tr><td>Perch</td><td>225</td><td>22</td><td>24</td><td>25.5</td><td>7.293</td><td>3.723</td></tr><tr><td>Perch</td><td>145</td><td>22</td><td>24</td><td>25.5</td><td>6.375</td><td>3.825</td></tr><tr><td>Perch</td><td>188</td><td>22.6</td><td>24.6</td><td>26.2</td><td>6.7334</td><td>4.1658</td></tr><tr><td>Perch</td><td>180</td><td>23</td><td>25</td><td>26.5</td><td>6.4395</td><td>3.6835</td></tr><tr><td>Perch</td><td>197</td><td>23.5</td><td>25.6</td><td>27</td><td>6.561</td><td>4.239</td></tr><tr><td>Perch</td><td>218</td><td>25</td><td>26.5</td><td>28</td><td>7.168</td><td>4.144</td></tr><tr><td>Perch</td><td>300</td><td>25.2</td><td>27.3</td><td>28.7</td><td>8.323</td><td>5.1373</td></tr><tr><td>Perch</td><td>260</td><td>25.4</td><td>27.5</td><td>28.9</td><td>7.1672</td><td>4.335</td></tr><tr><td>Perch</td><td>265</td><td>25.4</td><td>27.5</td><td>28.9</td><td>7.0516</td><td>4.335</td></tr><tr><td>Perch</td><td>250</td><td>25.4</td><td>27.5</td><td>28.9</td><td>7.2828</td><td>4.5662</td></tr><tr><td>Perch</td><td>250</td><td>25.9</td><td>28</td><td>29.4</td><td>7.8204</td><td>4.2042</td></tr><tr><td>Perch</td><td>300</td><td>26.9</td><td>28.7</td><td>30.1</td><td>7.5852</td><td>4.6354</td></tr><tr><td>Perch</td><td>320</td><td>27.8</td><td>30</td><td>31.6</td><td>7.6156</td><td>4.7716</td></tr><tr><td>Perch</td><td>514</td><td>30.5</td><td>32.8</td><td>34</td><td>10.03</td><td>6.018</td></tr><tr><td>Perch</td><td>556</td><td>32</td><td>34.5</td><td>36.5</td><td>10.2565</td><td>6.3875</td></tr><tr><td>Perch</td><td>840</td><td>32.5</td><td>35</td><td>37.3</td><td>11.4884</td><td>7.7957</td></tr><tr><td>Perch</td><td>685</td><td>34</td><td>36.5</td><td>39</td><td>10.881</td><td>6.864</td></tr><tr><td>Perch</td><td>700</td><td>34</td><td>36</td><td>38.3</td><td>10.6091</td><td>6.7408</td></tr><tr><td>Perch</td><td>700</td><td>34.5</td><td>37</td><td>39.4</td><td>10.835</td><td>6.2646</td></tr><tr><td>Perch</td><td>690</td><td>34.6</td><td>37</td><td>39.3</td><td>10.5717</td><td>6.3666</td></tr><tr><td>Perch</td><td>900</td><td>36.5</td><td>39</td><td>41.4</td><td>11.1366</td><td>7.4934</td></tr><tr><td>Perch</td><td>650</td><td>36.5</td><td>39</td><td>41.4</td><td>11.1366</td><td>6.003</td></tr><tr><td>Perch</td><td>820</td><td>36.6</td><td>39</td><td>41.3</td><td>12.4313</td><td>7.3514</td></tr><tr><td>Perch</td><td>850</td><td>36.9</td><td>40</td><td>42.3</td><td>11.9286</td><td>7.1064</td></tr><tr><td>Perch</td><td>900</td><td>37</td><td>40</td><td>42.5</td><td>11.73</td><td>7.225</td></tr><tr><td>Perch</td><td>1015</td><td>37</td><td>40</td><td>42.4</td><td>12.3808</td><td>7.4624</td></tr><tr><td>Perch</td><td>820</td><td>37.1</td><td>40</td><td>42.5</td><td>11.135</td><td>6.63</td></tr><tr><td>Perch</td><td>1100</td><td>39</td><td>42</td><td>44.6</td><td>12.8002</td><td>6.8684</td></tr><tr><td>Perch</td><td>1000</td><td>39.8</td><td>43</td><td>45.2</td><td>11.9328</td><td>7.2772</td></tr><tr><td>Perch</td><td>1100</td><td>40.1</td><td>43</td><td>45.5</td><td>12.5125</td><td>7.4165</td></tr><tr><td>Perch</td><td>1000</td><td>40.2</td><td>43.5</td><td>46</td><td>12.604</td><td>8.142</td></tr><tr><td>Perch</td><td>1000</td><td>41.1</td><td>44</td><td>46.6</td><td>12.4888</td><td>7.5958</td></tr><tr><td>Pike</td><td>200</td><td>30</td><td>32.3</td><td>34.8</td><td>5.568</td><td>3.3756</td></tr><tr><td>Pike</td><td>300</td><td>31.7</td><td>34</td><td>37.8</td><td>5.7078</td><td>4.158</td></tr><tr><td>Pike</td><td>300</td><td>32.7</td><td>35</td><td>38.8</td><td>5.9364</td><td>4.3844</td></tr><tr><td>Pike</td><td>300</td><td>34.8</td><td>37.3</td><td>39.8</td><td>6.2884</td><td>4.0198</td></tr><tr><td>Pike</td><td>430</td><td>35.5</td><td>38</td><td>40.5</td><td>7.29</td><td>4.5765</td></tr><tr><td>Pike</td><td>345</td><td>36</td><td>38.5</td><td>41</td><td>6.396</td><td>3.977</td></tr><tr><td>Pike</td><td>456</td><td>40</td><td>42.5</td><td>45.5</td><td>7.28</td><td>4.3225</td></tr><tr><td>Pike</td><td>510</td><td>40</td><td>42.5</td><td>45.5</td><td>6.825</td><td>4.459</td></tr><tr><td>Pike</td><td>540</td><td>40.1</td><td>43</td><td>45.8</td><td>7.786</td><td>5.1296</td></tr><tr><td>Pike</td><td>500</td><td>42</td><td>45</td><td>48</td><td>6.96</td><td>4.896</td></tr><tr><td>Pike</td><td>567</td><td>43.2</td><td>46</td><td>48.7</td><td>7.792</td><td>4.87</td></tr><tr><td>Pike</td><td>770</td><td>44.8</td><td>48</td><td>51.2</td><td>7.68</td><td>5.376</td></tr><tr><td>Pike</td><td>950</td><td>48.3</td><td>51.7</td><td>55.1</td><td>8.9262</td><td>6.1712</td></tr><tr><td>Pike</td><td>1250</td><td>52</td><td>56</td><td>59.7</td><td>10.6863</td><td>6.9849</td></tr><tr><td>Pike</td><td>1600</td><td>56</td><td>60</td><td>64</td><td>9.6</td><td>6.144</td></tr><tr><td>Pike</td><td>1550</td><td>56</td><td>60</td><td>64</td><td>9.6</td><td>6.144</td></tr><tr><td>Pike</td><td>1650</td><td>59</td><td>63.4</td><td>68</td><td>10.812</td><td>7.48</td></tr><tr><td>Smelt</td><td>6.7</td><td>9.3</td><td>9.8</td><td>10.8</td><td>1.7388</td><td>1.0476</td></tr><tr><td>Smelt</td><td>7.5</td><td>10</td><td>10.5</td><td>11.6</td><td>1.972</td><td>1.16</td></tr><tr><td>Smelt</td><td>7</td><td>10.1</td><td>10.6</td><td>11.6</td><td>1.7284</td><td>1.1484</td></tr><tr><td>Smelt</td><td>9.7</td><td>10.4</td><td>11</td><td>12</td><td>2.196</td><td>1.38</td></tr><tr><td>Smelt</td><td>9.8</td><td>10.7</td><td>11.2</td><td>12.4</td><td>2.0832</td><td>1.2772</td></tr><tr><td>Smelt</td><td>8.7</td><td>10.8</td><td>11.3</td><td>12.6</td><td>1.9782</td><td>1.2852</td></tr><tr><td>Smelt</td><td>10</td><td>11.3</td><td>11.8</td><td>13.1</td><td>2.2139</td><td>1.2838</td></tr><tr><td>Smelt</td><td>9.9</td><td>11.3</td><td>11.8</td><td>13.1</td><td>2.2139</td><td>1.1659</td></tr><tr><td>Smelt</td><td>9.8</td><td>11.4</td><td>12</td><td>13.2</td><td>2.2044</td><td>1.1484</td></tr><tr><td>Smelt</td><td>12.2</td><td>11.5</td><td>12.2</td><td>13.4</td><td>2.0904</td><td>1.3936</td></tr><tr><td>Smelt</td><td>13.4</td><td>11.7</td><td>12.4</td><td>13.5</td><td>2.43</td><td>1.269</td></tr><tr><td>Smelt</td><td>12.2</td><td>12.1</td><td>13</td><td>13.8</td><td>2.277</td><td>1.2558</td></tr><tr><td>Smelt</td><td>19.7</td><td>13.2</td><td>14.3</td><td>15.2</td><td>2.8728</td><td>2.0672</td></tr><tr><td>Smelt</td><td>19.9</td><td>13.8</td><td>15</td><td>16.2</td><td>2.9322</td><td>1.8792</td></tr></tbody></table></div>"
      ]
     },
     "metadata": {
      "application/vnd.databricks.v1+output": {
       "addedWidgets": {},
       "aggData": [],
       "aggError": "",
       "aggOverflow": false,
       "aggSchema": [],
       "aggSeriesLimitReached": false,
       "aggType": "",
       "arguments": {},
       "columnCustomDisplayInfos": {},
       "data": [
        [
         "Bream",
         "242",
         "23.2",
         "25.4",
         "30",
         "11.52",
         "4.02"
        ],
        [
         "Bream",
         "290",
         "24",
         "26.3",
         "31.2",
         "12.48",
         "4.3056"
        ],
        [
         "Bream",
         "340",
         "23.9",
         "26.5",
         "31.1",
         "12.3778",
         "4.6961"
        ],
        [
         "Bream",
         "363",
         "26.3",
         "29",
         "33.5",
         "12.73",
         "4.4555"
        ],
        [
         "Bream",
         "430",
         "26.5",
         "29",
         "34",
         "12.444",
         "5.134"
        ],
        [
         "Bream",
         "450",
         "26.8",
         "29.7",
         "34.7",
         "13.6024",
         "4.9274"
        ],
        [
         "Bream",
         "500",
         "26.8",
         "29.7",
         "34.5",
         "14.1795",
         "5.2785"
        ],
        [
         "Bream",
         "390",
         "27.6",
         "30",
         "35",
         "12.67",
         "4.69"
        ],
        [
         "Bream",
         "450",
         "27.6",
         "30",
         "35.1",
         "14.0049",
         "4.8438"
        ],
        [
         "Bream",
         "500",
         "28.5",
         "30.7",
         "36.2",
         "14.2266",
         "4.9594"
        ],
        [
         "Bream",
         "475",
         "28.4",
         "31",
         "36.2",
         "14.2628",
         "5.1042"
        ],
        [
         "Bream",
         "500",
         "28.7",
         "31",
         "36.2",
         "14.3714",
         "4.8146"
        ],
        [
         "Bream",
         "500",
         "29.1",
         "31.5",
         "36.4",
         "13.7592",
         "4.368"
        ],
        [
         "Bream",
         "340",
         "29.5",
         "32",
         "37.3",
         "13.9129",
         "5.0728"
        ],
        [
         "Bream",
         "600",
         "29.4",
         "32",
         "37.2",
         "14.9544",
         "5.1708"
        ],
        [
         "Bream",
         "600",
         "29.4",
         "32",
         "37.2",
         "15.438",
         "5.58"
        ],
        [
         "Bream",
         "700",
         "30.4",
         "33",
         "38.3",
         "14.8604",
         "5.2854"
        ],
        [
         "Bream",
         "700",
         "30.4",
         "33",
         "38.5",
         "14.938",
         "5.1975"
        ],
        [
         "Bream",
         "610",
         "30.9",
         "33.5",
         "38.6",
         "15.633",
         "5.1338"
        ],
        [
         "Bream",
         "650",
         "31",
         "33.5",
         "38.7",
         "14.4738",
         "5.7276"
        ],
        [
         "Bream",
         "575",
         "31.3",
         "34",
         "39.5",
         "15.1285",
         "5.5695"
        ],
        [
         "Bream",
         "685",
         "31.4",
         "34",
         "39.2",
         "15.9936",
         "5.3704"
        ],
        [
         "Bream",
         "620",
         "31.5",
         "34.5",
         "39.7",
         "15.5227",
         "5.2801"
        ],
        [
         "Bream",
         "680",
         "31.8",
         "35",
         "40.6",
         "15.4686",
         "6.1306"
        ],
        [
         "Bream",
         "700",
         "31.9",
         "35",
         "40.5",
         "16.2405",
         "5.589"
        ],
        [
         "Bream",
         "725",
         "31.8",
         "35",
         "40.9",
         "16.36",
         "6.0532"
        ],
        [
         "Bream",
         "720",
         "32",
         "35",
         "40.6",
         "16.3618",
         "6.09"
        ],
        [
         "Bream",
         "714",
         "32.7",
         "36",
         "41.5",
         "16.517",
         "5.8515"
        ],
        [
         "Bream",
         "850",
         "32.8",
         "36",
         "41.6",
         "16.8896",
         "6.1984"
        ],
        [
         "Bream",
         "1000",
         "33.5",
         "37",
         "42.6",
         "18.957",
         "6.603"
        ],
        [
         "Bream",
         "920",
         "35",
         "38.5",
         "44.1",
         "18.0369",
         "6.3063"
        ],
        [
         "Bream",
         "955",
         "35",
         "38.5",
         "44",
         "18.084",
         "6.292"
        ],
        [
         "Bream",
         "925",
         "36.2",
         "39.5",
         "45.3",
         "18.7542",
         "6.7497"
        ],
        [
         "Bream",
         "975",
         "37.4",
         "41",
         "45.9",
         "18.6354",
         "6.7473"
        ],
        [
         "Bream",
         "950",
         "38",
         "41",
         "46.5",
         "17.6235",
         "6.3705"
        ],
        [
         "Roach",
         "40",
         "12.9",
         "14.1",
         "16.2",
         "4.1472",
         "2.268"
        ],
        [
         "Roach",
         "69",
         "16.5",
         "18.2",
         "20.3",
         "5.2983",
         "2.8217"
        ],
        [
         "Roach",
         "78",
         "17.5",
         "18.8",
         "21.2",
         "5.5756",
         "2.9044"
        ],
        [
         "Roach",
         "87",
         "18.2",
         "19.8",
         "22.2",
         "5.6166",
         "3.1746"
        ],
        [
         "Roach",
         "120",
         "18.6",
         "20",
         "22.2",
         "6.216",
         "3.5742"
        ],
        [
         "Roach",
         "0",
         "19",
         "20.5",
         "22.8",
         "6.4752",
         "3.3516"
        ],
        [
         "Roach",
         "110",
         "19.1",
         "20.8",
         "23.1",
         "6.1677",
         "3.3957"
        ],
        [
         "Roach",
         "120",
         "19.4",
         "21",
         "23.7",
         "6.1146",
         "3.2943"
        ],
        [
         "Roach",
         "150",
         "20.4",
         "22",
         "24.7",
         "5.8045",
         "3.7544"
        ],
        [
         "Roach",
         "145",
         "20.5",
         "22",
         "24.3",
         "6.6339",
         "3.5478"
        ],
        [
         "Roach",
         "160",
         "20.5",
         "22.5",
         "25.3",
         "7.0334",
         "3.8203"
        ],
        [
         "Roach",
         "140",
         "21",
         "22.5",
         "25",
         "6.55",
         "3.325"
        ],
        [
         "Roach",
         "160",
         "21.1",
         "22.5",
         "25",
         "6.4",
         "3.8"
        ],
        [
         "Roach",
         "169",
         "22",
         "24",
         "27.2",
         "7.5344",
         "3.8352"
        ],
        [
         "Roach",
         "161",
         "22",
         "23.4",
         "26.7",
         "6.9153",
         "3.6312"
        ],
        [
         "Roach",
         "200",
         "22.1",
         "23.5",
         "26.8",
         "7.3968",
         "4.1272"
        ],
        [
         "Roach",
         "180",
         "23.6",
         "25.2",
         "27.9",
         "7.0866",
         "3.906"
        ],
        [
         "Roach",
         "290",
         "24",
         "26",
         "29.2",
         "8.8768",
         "4.4968"
        ],
        [
         "Roach",
         "272",
         "25",
         "27",
         "30.6",
         "8.568",
         "4.7736"
        ],
        [
         "Roach",
         "390",
         "29.5",
         "31.7",
         "35",
         "9.485",
         "5.355"
        ],
        [
         "Whitefish",
         "270",
         "23.6",
         "26",
         "28.7",
         "8.3804",
         "4.2476"
        ],
        [
         "Whitefish",
         "270",
         "24.1",
         "26.5",
         "29.3",
         "8.1454",
         "4.2485"
        ],
        [
         "Whitefish",
         "306",
         "25.6",
         "28",
         "30.8",
         "8.778",
         "4.6816"
        ],
        [
         "Whitefish",
         "540",
         "28.5",
         "31",
         "34",
         "10.744",
         "6.562"
        ],
        [
         "Whitefish",
         "800",
         "33.7",
         "36.4",
         "39.6",
         "11.7612",
         "6.5736"
        ],
        [
         "Whitefish",
         "1000",
         "37.3",
         "40",
         "43.5",
         "12.354",
         "6.525"
        ],
        [
         "Parkki",
         "55",
         "13.5",
         "14.7",
         "16.5",
         "6.8475",
         "2.3265"
        ],
        [
         "Parkki",
         "60",
         "14.3",
         "15.5",
         "17.4",
         "6.5772",
         "2.3142"
        ],
        [
         "Parkki",
         "90",
         "16.3",
         "17.7",
         "19.8",
         "7.4052",
         "2.673"
        ],
        [
         "Parkki",
         "120",
         "17.5",
         "19",
         "21.3",
         "8.3922",
         "2.9181"
        ],
        [
         "Parkki",
         "150",
         "18.4",
         "20",
         "22.4",
         "8.8928",
         "3.2928"
        ],
        [
         "Parkki",
         "140",
         "19",
         "20.7",
         "23.2",
         "8.5376",
         "3.2944"
        ],
        [
         "Parkki",
         "170",
         "19",
         "20.7",
         "23.2",
         "9.396",
         "3.4104"
        ],
        [
         "Parkki",
         "145",
         "19.8",
         "21.5",
         "24.1",
         "9.7364",
         "3.1571"
        ],
        [
         "Parkki",
         "200",
         "21.2",
         "23",
         "25.8",
         "10.3458",
         "3.6636"
        ],
        [
         "Parkki",
         "273",
         "23",
         "25",
         "28",
         "11.088",
         "4.144"
        ],
        [
         "Parkki",
         "300",
         "24",
         "26",
         "29",
         "11.368",
         "4.234"
        ],
        [
         "Perch",
         "5.9",
         "7.5",
         "8.4",
         "8.8",
         "2.112",
         "1.408"
        ],
        [
         "Perch",
         "32",
         "12.5",
         "13.7",
         "14.7",
         "3.528",
         "1.9992"
        ],
        [
         "Perch",
         "40",
         "13.8",
         "15",
         "16",
         "3.824",
         "2.432"
        ],
        [
         "Perch",
         "51.5",
         "15",
         "16.2",
         "17.2",
         "4.5924",
         "2.6316"
        ],
        [
         "Perch",
         "70",
         "15.7",
         "17.4",
         "18.5",
         "4.588",
         "2.9415"
        ],
        [
         "Perch",
         "100",
         "16.2",
         "18",
         "19.2",
         "5.2224",
         "3.3216"
        ],
        [
         "Perch",
         "78",
         "16.8",
         "18.7",
         "19.4",
         "5.1992",
         "3.1234"
        ],
        [
         "Perch",
         "80",
         "17.2",
         "19",
         "20.2",
         "5.6358",
         "3.0502"
        ],
        [
         "Perch",
         "85",
         "17.8",
         "19.6",
         "20.8",
         "5.1376",
         "3.0368"
        ],
        [
         "Perch",
         "85",
         "18.2",
         "20",
         "21",
         "5.082",
         "2.772"
        ],
        [
         "Perch",
         "110",
         "19",
         "21",
         "22.5",
         "5.6925",
         "3.555"
        ],
        [
         "Perch",
         "115",
         "19",
         "21",
         "22.5",
         "5.9175",
         "3.3075"
        ],
        [
         "Perch",
         "125",
         "19",
         "21",
         "22.5",
         "5.6925",
         "3.6675"
        ],
        [
         "Perch",
         "130",
         "19.3",
         "21.3",
         "22.8",
         "6.384",
         "3.534"
        ],
        [
         "Perch",
         "120",
         "20",
         "22",
         "23.5",
         "6.11",
         "3.4075"
        ],
        [
         "Perch",
         "120",
         "20",
         "22",
         "23.5",
         "5.64",
         "3.525"
        ],
        [
         "Perch",
         "130",
         "20",
         "22",
         "23.5",
         "6.11",
         "3.525"
        ],
        [
         "Perch",
         "135",
         "20",
         "22",
         "23.5",
         "5.875",
         "3.525"
        ],
        [
         "Perch",
         "110",
         "20",
         "22",
         "23.5",
         "5.5225",
         "3.995"
        ],
        [
         "Perch",
         "130",
         "20.5",
         "22.5",
         "24",
         "5.856",
         "3.624"
        ],
        [
         "Perch",
         "150",
         "20.5",
         "22.5",
         "24",
         "6.792",
         "3.624"
        ],
        [
         "Perch",
         "145",
         "20.7",
         "22.7",
         "24.2",
         "5.9532",
         "3.63"
        ],
        [
         "Perch",
         "150",
         "21",
         "23",
         "24.5",
         "5.2185",
         "3.626"
        ],
        [
         "Perch",
         "170",
         "21.5",
         "23.5",
         "25",
         "6.275",
         "3.725"
        ],
        [
         "Perch",
         "225",
         "22",
         "24",
         "25.5",
         "7.293",
         "3.723"
        ],
        [
         "Perch",
         "145",
         "22",
         "24",
         "25.5",
         "6.375",
         "3.825"
        ],
        [
         "Perch",
         "188",
         "22.6",
         "24.6",
         "26.2",
         "6.7334",
         "4.1658"
        ],
        [
         "Perch",
         "180",
         "23",
         "25",
         "26.5",
         "6.4395",
         "3.6835"
        ],
        [
         "Perch",
         "197",
         "23.5",
         "25.6",
         "27",
         "6.561",
         "4.239"
        ],
        [
         "Perch",
         "218",
         "25",
         "26.5",
         "28",
         "7.168",
         "4.144"
        ],
        [
         "Perch",
         "300",
         "25.2",
         "27.3",
         "28.7",
         "8.323",
         "5.1373"
        ],
        [
         "Perch",
         "260",
         "25.4",
         "27.5",
         "28.9",
         "7.1672",
         "4.335"
        ],
        [
         "Perch",
         "265",
         "25.4",
         "27.5",
         "28.9",
         "7.0516",
         "4.335"
        ],
        [
         "Perch",
         "250",
         "25.4",
         "27.5",
         "28.9",
         "7.2828",
         "4.5662"
        ],
        [
         "Perch",
         "250",
         "25.9",
         "28",
         "29.4",
         "7.8204",
         "4.2042"
        ],
        [
         "Perch",
         "300",
         "26.9",
         "28.7",
         "30.1",
         "7.5852",
         "4.6354"
        ],
        [
         "Perch",
         "320",
         "27.8",
         "30",
         "31.6",
         "7.6156",
         "4.7716"
        ],
        [
         "Perch",
         "514",
         "30.5",
         "32.8",
         "34",
         "10.03",
         "6.018"
        ],
        [
         "Perch",
         "556",
         "32",
         "34.5",
         "36.5",
         "10.2565",
         "6.3875"
        ],
        [
         "Perch",
         "840",
         "32.5",
         "35",
         "37.3",
         "11.4884",
         "7.7957"
        ],
        [
         "Perch",
         "685",
         "34",
         "36.5",
         "39",
         "10.881",
         "6.864"
        ],
        [
         "Perch",
         "700",
         "34",
         "36",
         "38.3",
         "10.6091",
         "6.7408"
        ],
        [
         "Perch",
         "700",
         "34.5",
         "37",
         "39.4",
         "10.835",
         "6.2646"
        ],
        [
         "Perch",
         "690",
         "34.6",
         "37",
         "39.3",
         "10.5717",
         "6.3666"
        ],
        [
         "Perch",
         "900",
         "36.5",
         "39",
         "41.4",
         "11.1366",
         "7.4934"
        ],
        [
         "Perch",
         "650",
         "36.5",
         "39",
         "41.4",
         "11.1366",
         "6.003"
        ],
        [
         "Perch",
         "820",
         "36.6",
         "39",
         "41.3",
         "12.4313",
         "7.3514"
        ],
        [
         "Perch",
         "850",
         "36.9",
         "40",
         "42.3",
         "11.9286",
         "7.1064"
        ],
        [
         "Perch",
         "900",
         "37",
         "40",
         "42.5",
         "11.73",
         "7.225"
        ],
        [
         "Perch",
         "1015",
         "37",
         "40",
         "42.4",
         "12.3808",
         "7.4624"
        ],
        [
         "Perch",
         "820",
         "37.1",
         "40",
         "42.5",
         "11.135",
         "6.63"
        ],
        [
         "Perch",
         "1100",
         "39",
         "42",
         "44.6",
         "12.8002",
         "6.8684"
        ],
        [
         "Perch",
         "1000",
         "39.8",
         "43",
         "45.2",
         "11.9328",
         "7.2772"
        ],
        [
         "Perch",
         "1100",
         "40.1",
         "43",
         "45.5",
         "12.5125",
         "7.4165"
        ],
        [
         "Perch",
         "1000",
         "40.2",
         "43.5",
         "46",
         "12.604",
         "8.142"
        ],
        [
         "Perch",
         "1000",
         "41.1",
         "44",
         "46.6",
         "12.4888",
         "7.5958"
        ],
        [
         "Pike",
         "200",
         "30",
         "32.3",
         "34.8",
         "5.568",
         "3.3756"
        ],
        [
         "Pike",
         "300",
         "31.7",
         "34",
         "37.8",
         "5.7078",
         "4.158"
        ],
        [
         "Pike",
         "300",
         "32.7",
         "35",
         "38.8",
         "5.9364",
         "4.3844"
        ],
        [
         "Pike",
         "300",
         "34.8",
         "37.3",
         "39.8",
         "6.2884",
         "4.0198"
        ],
        [
         "Pike",
         "430",
         "35.5",
         "38",
         "40.5",
         "7.29",
         "4.5765"
        ],
        [
         "Pike",
         "345",
         "36",
         "38.5",
         "41",
         "6.396",
         "3.977"
        ],
        [
         "Pike",
         "456",
         "40",
         "42.5",
         "45.5",
         "7.28",
         "4.3225"
        ],
        [
         "Pike",
         "510",
         "40",
         "42.5",
         "45.5",
         "6.825",
         "4.459"
        ],
        [
         "Pike",
         "540",
         "40.1",
         "43",
         "45.8",
         "7.786",
         "5.1296"
        ],
        [
         "Pike",
         "500",
         "42",
         "45",
         "48",
         "6.96",
         "4.896"
        ],
        [
         "Pike",
         "567",
         "43.2",
         "46",
         "48.7",
         "7.792",
         "4.87"
        ],
        [
         "Pike",
         "770",
         "44.8",
         "48",
         "51.2",
         "7.68",
         "5.376"
        ],
        [
         "Pike",
         "950",
         "48.3",
         "51.7",
         "55.1",
         "8.9262",
         "6.1712"
        ],
        [
         "Pike",
         "1250",
         "52",
         "56",
         "59.7",
         "10.6863",
         "6.9849"
        ],
        [
         "Pike",
         "1600",
         "56",
         "60",
         "64",
         "9.6",
         "6.144"
        ],
        [
         "Pike",
         "1550",
         "56",
         "60",
         "64",
         "9.6",
         "6.144"
        ],
        [
         "Pike",
         "1650",
         "59",
         "63.4",
         "68",
         "10.812",
         "7.48"
        ],
        [
         "Smelt",
         "6.7",
         "9.3",
         "9.8",
         "10.8",
         "1.7388",
         "1.0476"
        ],
        [
         "Smelt",
         "7.5",
         "10",
         "10.5",
         "11.6",
         "1.972",
         "1.16"
        ],
        [
         "Smelt",
         "7",
         "10.1",
         "10.6",
         "11.6",
         "1.7284",
         "1.1484"
        ],
        [
         "Smelt",
         "9.7",
         "10.4",
         "11",
         "12",
         "2.196",
         "1.38"
        ],
        [
         "Smelt",
         "9.8",
         "10.7",
         "11.2",
         "12.4",
         "2.0832",
         "1.2772"
        ],
        [
         "Smelt",
         "8.7",
         "10.8",
         "11.3",
         "12.6",
         "1.9782",
         "1.2852"
        ],
        [
         "Smelt",
         "10",
         "11.3",
         "11.8",
         "13.1",
         "2.2139",
         "1.2838"
        ],
        [
         "Smelt",
         "9.9",
         "11.3",
         "11.8",
         "13.1",
         "2.2139",
         "1.1659"
        ],
        [
         "Smelt",
         "9.8",
         "11.4",
         "12",
         "13.2",
         "2.2044",
         "1.1484"
        ],
        [
         "Smelt",
         "12.2",
         "11.5",
         "12.2",
         "13.4",
         "2.0904",
         "1.3936"
        ],
        [
         "Smelt",
         "13.4",
         "11.7",
         "12.4",
         "13.5",
         "2.43",
         "1.269"
        ],
        [
         "Smelt",
         "12.2",
         "12.1",
         "13",
         "13.8",
         "2.277",
         "1.2558"
        ],
        [
         "Smelt",
         "19.7",
         "13.2",
         "14.3",
         "15.2",
         "2.8728",
         "2.0672"
        ],
        [
         "Smelt",
         "19.9",
         "13.8",
         "15",
         "16.2",
         "2.9322",
         "1.8792"
        ]
       ],
       "datasetInfos": [],
       "dbfsResultPath": null,
       "isJsonSchema": true,
       "metadata": {},
       "overflow": false,
       "plotOptions": {
        "customPlotOptions": {},
        "displayType": "table",
        "pivotAggregation": null,
        "pivotColumns": null,
        "xColumns": null,
        "yColumns": null
       },
       "removedWidgets": [],
       "schema": [
        {
         "metadata": "{}",
         "name": "Species",
         "type": "\"string\""
        },
        {
         "metadata": "{}",
         "name": "Weight",
         "type": "\"string\""
        },
        {
         "metadata": "{}",
         "name": "Length1",
         "type": "\"string\""
        },
        {
         "metadata": "{}",
         "name": "Length2",
         "type": "\"string\""
        },
        {
         "metadata": "{}",
         "name": "Length3",
         "type": "\"string\""
        },
        {
         "metadata": "{}",
         "name": "Height",
         "type": "\"string\""
        },
        {
         "metadata": "{}",
         "name": "Width",
         "type": "\"string\""
        }
       ],
       "type": "table"
      }
     },
     "output_type": "display_data"
    }
   ],
   "source": [
    "# load data\n",
    "url = \"https://raw.githubusercontent.com/bridg3r/guide_template/main/Fish.csv\"\n",
    "r = requests.get(url)\n",
    "\n",
    "# Split the content into lines and convert it into an RDD\n",
    "rdd = spark.sparkContext.parallelize(r.text.splitlines())\n",
    "df = spark.read.csv(rdd, header=True)\n",
    "\n",
    "display(df)"
   ]
  },
  {
   "cell_type": "markdown",
   "metadata": {
    "application/vnd.databricks.v1+cell": {
     "cellMetadata": {
      "byteLimit": 2048000,
      "rowLimit": 10000
     },
     "inputWidgets": {},
     "nuid": "c93461d4-d6ec-4040-be26-efdd0c2e2f22",
     "showTitle": false,
     "title": ""
    }
   },
   "source": [
    "#### Preparing the Data\n",
    "To prepare the data for the model, we need to one-hot encode the 'Species' column and make sure all the columns are integers. Then we will add all of our features to a single vector column."
   ]
  },
  {
   "cell_type": "code",
   "execution_count": 0,
   "metadata": {
    "application/vnd.databricks.v1+cell": {
     "cellMetadata": {
      "byteLimit": 2048000,
      "rowLimit": 10000
     },
     "inputWidgets": {},
     "nuid": "f0c1d45c-c508-45ff-84d8-950db6bbc819",
     "showTitle": false,
     "title": ""
    }
   },
   "outputs": [
    {
     "output_type": "display_data",
     "data": {
      "text/html": [
       "<style scoped>\n",
       "  .table-result-container {\n",
       "    max-height: 300px;\n",
       "    overflow: auto;\n",
       "  }\n",
       "  table, th, td {\n",
       "    border: 1px solid black;\n",
       "    border-collapse: collapse;\n",
       "  }\n",
       "  th, td {\n",
       "    padding: 5px;\n",
       "  }\n",
       "  th {\n",
       "    text-align: left;\n",
       "  }\n",
       "</style><div class='table-result-container'><table class='table-result'><thead style='background-color: white'><tr><th>Weight</th><th>Length1</th><th>Length2</th><th>Length3</th><th>Height</th><th>Width</th><th>Species_Perch</th><th>Species_Bream</th><th>Species_Roach</th><th>Species_Pike</th><th>Species_Smelt</th><th>Species_Parkki</th><th>Species_Whitefish</th></tr></thead><tbody><tr><td>242</td><td>23</td><td>25</td><td>30</td><td>11</td><td>4</td><td>0</td><td>1</td><td>0</td><td>0</td><td>0</td><td>0</td><td>0</td></tr><tr><td>290</td><td>24</td><td>26</td><td>31</td><td>12</td><td>4</td><td>0</td><td>1</td><td>0</td><td>0</td><td>0</td><td>0</td><td>0</td></tr><tr><td>340</td><td>23</td><td>26</td><td>31</td><td>12</td><td>4</td><td>0</td><td>1</td><td>0</td><td>0</td><td>0</td><td>0</td><td>0</td></tr><tr><td>363</td><td>26</td><td>29</td><td>33</td><td>12</td><td>4</td><td>0</td><td>1</td><td>0</td><td>0</td><td>0</td><td>0</td><td>0</td></tr><tr><td>430</td><td>26</td><td>29</td><td>34</td><td>12</td><td>5</td><td>0</td><td>1</td><td>0</td><td>0</td><td>0</td><td>0</td><td>0</td></tr><tr><td>450</td><td>26</td><td>29</td><td>34</td><td>13</td><td>4</td><td>0</td><td>1</td><td>0</td><td>0</td><td>0</td><td>0</td><td>0</td></tr><tr><td>500</td><td>26</td><td>29</td><td>34</td><td>14</td><td>5</td><td>0</td><td>1</td><td>0</td><td>0</td><td>0</td><td>0</td><td>0</td></tr><tr><td>390</td><td>27</td><td>30</td><td>35</td><td>12</td><td>4</td><td>0</td><td>1</td><td>0</td><td>0</td><td>0</td><td>0</td><td>0</td></tr><tr><td>450</td><td>27</td><td>30</td><td>35</td><td>14</td><td>4</td><td>0</td><td>1</td><td>0</td><td>0</td><td>0</td><td>0</td><td>0</td></tr><tr><td>500</td><td>28</td><td>30</td><td>36</td><td>14</td><td>4</td><td>0</td><td>1</td><td>0</td><td>0</td><td>0</td><td>0</td><td>0</td></tr><tr><td>475</td><td>28</td><td>31</td><td>36</td><td>14</td><td>5</td><td>0</td><td>1</td><td>0</td><td>0</td><td>0</td><td>0</td><td>0</td></tr><tr><td>500</td><td>28</td><td>31</td><td>36</td><td>14</td><td>4</td><td>0</td><td>1</td><td>0</td><td>0</td><td>0</td><td>0</td><td>0</td></tr><tr><td>500</td><td>29</td><td>31</td><td>36</td><td>13</td><td>4</td><td>0</td><td>1</td><td>0</td><td>0</td><td>0</td><td>0</td><td>0</td></tr><tr><td>340</td><td>29</td><td>32</td><td>37</td><td>13</td><td>5</td><td>0</td><td>1</td><td>0</td><td>0</td><td>0</td><td>0</td><td>0</td></tr><tr><td>600</td><td>29</td><td>32</td><td>37</td><td>14</td><td>5</td><td>0</td><td>1</td><td>0</td><td>0</td><td>0</td><td>0</td><td>0</td></tr><tr><td>600</td><td>29</td><td>32</td><td>37</td><td>15</td><td>5</td><td>0</td><td>1</td><td>0</td><td>0</td><td>0</td><td>0</td><td>0</td></tr><tr><td>700</td><td>30</td><td>33</td><td>38</td><td>14</td><td>5</td><td>0</td><td>1</td><td>0</td><td>0</td><td>0</td><td>0</td><td>0</td></tr><tr><td>700</td><td>30</td><td>33</td><td>38</td><td>14</td><td>5</td><td>0</td><td>1</td><td>0</td><td>0</td><td>0</td><td>0</td><td>0</td></tr><tr><td>610</td><td>30</td><td>33</td><td>38</td><td>15</td><td>5</td><td>0</td><td>1</td><td>0</td><td>0</td><td>0</td><td>0</td><td>0</td></tr><tr><td>650</td><td>31</td><td>33</td><td>38</td><td>14</td><td>5</td><td>0</td><td>1</td><td>0</td><td>0</td><td>0</td><td>0</td><td>0</td></tr><tr><td>575</td><td>31</td><td>34</td><td>39</td><td>15</td><td>5</td><td>0</td><td>1</td><td>0</td><td>0</td><td>0</td><td>0</td><td>0</td></tr><tr><td>685</td><td>31</td><td>34</td><td>39</td><td>15</td><td>5</td><td>0</td><td>1</td><td>0</td><td>0</td><td>0</td><td>0</td><td>0</td></tr><tr><td>620</td><td>31</td><td>34</td><td>39</td><td>15</td><td>5</td><td>0</td><td>1</td><td>0</td><td>0</td><td>0</td><td>0</td><td>0</td></tr><tr><td>680</td><td>31</td><td>35</td><td>40</td><td>15</td><td>6</td><td>0</td><td>1</td><td>0</td><td>0</td><td>0</td><td>0</td><td>0</td></tr><tr><td>700</td><td>31</td><td>35</td><td>40</td><td>16</td><td>5</td><td>0</td><td>1</td><td>0</td><td>0</td><td>0</td><td>0</td><td>0</td></tr><tr><td>725</td><td>31</td><td>35</td><td>40</td><td>16</td><td>6</td><td>0</td><td>1</td><td>0</td><td>0</td><td>0</td><td>0</td><td>0</td></tr><tr><td>720</td><td>32</td><td>35</td><td>40</td><td>16</td><td>6</td><td>0</td><td>1</td><td>0</td><td>0</td><td>0</td><td>0</td><td>0</td></tr><tr><td>714</td><td>32</td><td>36</td><td>41</td><td>16</td><td>5</td><td>0</td><td>1</td><td>0</td><td>0</td><td>0</td><td>0</td><td>0</td></tr><tr><td>850</td><td>32</td><td>36</td><td>41</td><td>16</td><td>6</td><td>0</td><td>1</td><td>0</td><td>0</td><td>0</td><td>0</td><td>0</td></tr><tr><td>1000</td><td>33</td><td>37</td><td>42</td><td>18</td><td>6</td><td>0</td><td>1</td><td>0</td><td>0</td><td>0</td><td>0</td><td>0</td></tr><tr><td>920</td><td>35</td><td>38</td><td>44</td><td>18</td><td>6</td><td>0</td><td>1</td><td>0</td><td>0</td><td>0</td><td>0</td><td>0</td></tr><tr><td>955</td><td>35</td><td>38</td><td>44</td><td>18</td><td>6</td><td>0</td><td>1</td><td>0</td><td>0</td><td>0</td><td>0</td><td>0</td></tr><tr><td>925</td><td>36</td><td>39</td><td>45</td><td>18</td><td>6</td><td>0</td><td>1</td><td>0</td><td>0</td><td>0</td><td>0</td><td>0</td></tr><tr><td>975</td><td>37</td><td>41</td><td>45</td><td>18</td><td>6</td><td>0</td><td>1</td><td>0</td><td>0</td><td>0</td><td>0</td><td>0</td></tr><tr><td>950</td><td>38</td><td>41</td><td>46</td><td>17</td><td>6</td><td>0</td><td>1</td><td>0</td><td>0</td><td>0</td><td>0</td><td>0</td></tr><tr><td>40</td><td>12</td><td>14</td><td>16</td><td>4</td><td>2</td><td>0</td><td>0</td><td>1</td><td>0</td><td>0</td><td>0</td><td>0</td></tr><tr><td>69</td><td>16</td><td>18</td><td>20</td><td>5</td><td>2</td><td>0</td><td>0</td><td>1</td><td>0</td><td>0</td><td>0</td><td>0</td></tr><tr><td>78</td><td>17</td><td>18</td><td>21</td><td>5</td><td>2</td><td>0</td><td>0</td><td>1</td><td>0</td><td>0</td><td>0</td><td>0</td></tr><tr><td>87</td><td>18</td><td>19</td><td>22</td><td>5</td><td>3</td><td>0</td><td>0</td><td>1</td><td>0</td><td>0</td><td>0</td><td>0</td></tr><tr><td>120</td><td>18</td><td>20</td><td>22</td><td>6</td><td>3</td><td>0</td><td>0</td><td>1</td><td>0</td><td>0</td><td>0</td><td>0</td></tr><tr><td>0</td><td>19</td><td>20</td><td>22</td><td>6</td><td>3</td><td>0</td><td>0</td><td>1</td><td>0</td><td>0</td><td>0</td><td>0</td></tr><tr><td>110</td><td>19</td><td>20</td><td>23</td><td>6</td><td>3</td><td>0</td><td>0</td><td>1</td><td>0</td><td>0</td><td>0</td><td>0</td></tr><tr><td>120</td><td>19</td><td>21</td><td>23</td><td>6</td><td>3</td><td>0</td><td>0</td><td>1</td><td>0</td><td>0</td><td>0</td><td>0</td></tr><tr><td>150</td><td>20</td><td>22</td><td>24</td><td>5</td><td>3</td><td>0</td><td>0</td><td>1</td><td>0</td><td>0</td><td>0</td><td>0</td></tr><tr><td>145</td><td>20</td><td>22</td><td>24</td><td>6</td><td>3</td><td>0</td><td>0</td><td>1</td><td>0</td><td>0</td><td>0</td><td>0</td></tr><tr><td>160</td><td>20</td><td>22</td><td>25</td><td>7</td><td>3</td><td>0</td><td>0</td><td>1</td><td>0</td><td>0</td><td>0</td><td>0</td></tr><tr><td>140</td><td>21</td><td>22</td><td>25</td><td>6</td><td>3</td><td>0</td><td>0</td><td>1</td><td>0</td><td>0</td><td>0</td><td>0</td></tr><tr><td>160</td><td>21</td><td>22</td><td>25</td><td>6</td><td>3</td><td>0</td><td>0</td><td>1</td><td>0</td><td>0</td><td>0</td><td>0</td></tr><tr><td>169</td><td>22</td><td>24</td><td>27</td><td>7</td><td>3</td><td>0</td><td>0</td><td>1</td><td>0</td><td>0</td><td>0</td><td>0</td></tr><tr><td>161</td><td>22</td><td>23</td><td>26</td><td>6</td><td>3</td><td>0</td><td>0</td><td>1</td><td>0</td><td>0</td><td>0</td><td>0</td></tr><tr><td>200</td><td>22</td><td>23</td><td>26</td><td>7</td><td>4</td><td>0</td><td>0</td><td>1</td><td>0</td><td>0</td><td>0</td><td>0</td></tr><tr><td>180</td><td>23</td><td>25</td><td>27</td><td>7</td><td>3</td><td>0</td><td>0</td><td>1</td><td>0</td><td>0</td><td>0</td><td>0</td></tr><tr><td>290</td><td>24</td><td>26</td><td>29</td><td>8</td><td>4</td><td>0</td><td>0</td><td>1</td><td>0</td><td>0</td><td>0</td><td>0</td></tr><tr><td>272</td><td>25</td><td>27</td><td>30</td><td>8</td><td>4</td><td>0</td><td>0</td><td>1</td><td>0</td><td>0</td><td>0</td><td>0</td></tr><tr><td>390</td><td>29</td><td>31</td><td>35</td><td>9</td><td>5</td><td>0</td><td>0</td><td>1</td><td>0</td><td>0</td><td>0</td><td>0</td></tr><tr><td>270</td><td>23</td><td>26</td><td>28</td><td>8</td><td>4</td><td>0</td><td>0</td><td>0</td><td>0</td><td>0</td><td>0</td><td>1</td></tr><tr><td>270</td><td>24</td><td>26</td><td>29</td><td>8</td><td>4</td><td>0</td><td>0</td><td>0</td><td>0</td><td>0</td><td>0</td><td>1</td></tr><tr><td>306</td><td>25</td><td>28</td><td>30</td><td>8</td><td>4</td><td>0</td><td>0</td><td>0</td><td>0</td><td>0</td><td>0</td><td>1</td></tr><tr><td>540</td><td>28</td><td>31</td><td>34</td><td>10</td><td>6</td><td>0</td><td>0</td><td>0</td><td>0</td><td>0</td><td>0</td><td>1</td></tr><tr><td>800</td><td>33</td><td>36</td><td>39</td><td>11</td><td>6</td><td>0</td><td>0</td><td>0</td><td>0</td><td>0</td><td>0</td><td>1</td></tr><tr><td>1000</td><td>37</td><td>40</td><td>43</td><td>12</td><td>6</td><td>0</td><td>0</td><td>0</td><td>0</td><td>0</td><td>0</td><td>1</td></tr><tr><td>55</td><td>13</td><td>14</td><td>16</td><td>6</td><td>2</td><td>0</td><td>0</td><td>0</td><td>0</td><td>0</td><td>1</td><td>0</td></tr><tr><td>60</td><td>14</td><td>15</td><td>17</td><td>6</td><td>2</td><td>0</td><td>0</td><td>0</td><td>0</td><td>0</td><td>1</td><td>0</td></tr><tr><td>90</td><td>16</td><td>17</td><td>19</td><td>7</td><td>2</td><td>0</td><td>0</td><td>0</td><td>0</td><td>0</td><td>1</td><td>0</td></tr><tr><td>120</td><td>17</td><td>19</td><td>21</td><td>8</td><td>2</td><td>0</td><td>0</td><td>0</td><td>0</td><td>0</td><td>1</td><td>0</td></tr><tr><td>150</td><td>18</td><td>20</td><td>22</td><td>8</td><td>3</td><td>0</td><td>0</td><td>0</td><td>0</td><td>0</td><td>1</td><td>0</td></tr><tr><td>140</td><td>19</td><td>20</td><td>23</td><td>8</td><td>3</td><td>0</td><td>0</td><td>0</td><td>0</td><td>0</td><td>1</td><td>0</td></tr><tr><td>170</td><td>19</td><td>20</td><td>23</td><td>9</td><td>3</td><td>0</td><td>0</td><td>0</td><td>0</td><td>0</td><td>1</td><td>0</td></tr><tr><td>145</td><td>19</td><td>21</td><td>24</td><td>9</td><td>3</td><td>0</td><td>0</td><td>0</td><td>0</td><td>0</td><td>1</td><td>0</td></tr><tr><td>200</td><td>21</td><td>23</td><td>25</td><td>10</td><td>3</td><td>0</td><td>0</td><td>0</td><td>0</td><td>0</td><td>1</td><td>0</td></tr><tr><td>273</td><td>23</td><td>25</td><td>28</td><td>11</td><td>4</td><td>0</td><td>0</td><td>0</td><td>0</td><td>0</td><td>1</td><td>0</td></tr><tr><td>300</td><td>24</td><td>26</td><td>29</td><td>11</td><td>4</td><td>0</td><td>0</td><td>0</td><td>0</td><td>0</td><td>1</td><td>0</td></tr><tr><td>5</td><td>7</td><td>8</td><td>8</td><td>2</td><td>1</td><td>1</td><td>0</td><td>0</td><td>0</td><td>0</td><td>0</td><td>0</td></tr><tr><td>32</td><td>12</td><td>13</td><td>14</td><td>3</td><td>1</td><td>1</td><td>0</td><td>0</td><td>0</td><td>0</td><td>0</td><td>0</td></tr><tr><td>40</td><td>13</td><td>15</td><td>16</td><td>3</td><td>2</td><td>1</td><td>0</td><td>0</td><td>0</td><td>0</td><td>0</td><td>0</td></tr><tr><td>51</td><td>15</td><td>16</td><td>17</td><td>4</td><td>2</td><td>1</td><td>0</td><td>0</td><td>0</td><td>0</td><td>0</td><td>0</td></tr><tr><td>70</td><td>15</td><td>17</td><td>18</td><td>4</td><td>2</td><td>1</td><td>0</td><td>0</td><td>0</td><td>0</td><td>0</td><td>0</td></tr><tr><td>100</td><td>16</td><td>18</td><td>19</td><td>5</td><td>3</td><td>1</td><td>0</td><td>0</td><td>0</td><td>0</td><td>0</td><td>0</td></tr><tr><td>78</td><td>16</td><td>18</td><td>19</td><td>5</td><td>3</td><td>1</td><td>0</td><td>0</td><td>0</td><td>0</td><td>0</td><td>0</td></tr><tr><td>80</td><td>17</td><td>19</td><td>20</td><td>5</td><td>3</td><td>1</td><td>0</td><td>0</td><td>0</td><td>0</td><td>0</td><td>0</td></tr><tr><td>85</td><td>17</td><td>19</td><td>20</td><td>5</td><td>3</td><td>1</td><td>0</td><td>0</td><td>0</td><td>0</td><td>0</td><td>0</td></tr><tr><td>85</td><td>18</td><td>20</td><td>21</td><td>5</td><td>2</td><td>1</td><td>0</td><td>0</td><td>0</td><td>0</td><td>0</td><td>0</td></tr><tr><td>110</td><td>19</td><td>21</td><td>22</td><td>5</td><td>3</td><td>1</td><td>0</td><td>0</td><td>0</td><td>0</td><td>0</td><td>0</td></tr><tr><td>115</td><td>19</td><td>21</td><td>22</td><td>5</td><td>3</td><td>1</td><td>0</td><td>0</td><td>0</td><td>0</td><td>0</td><td>0</td></tr><tr><td>125</td><td>19</td><td>21</td><td>22</td><td>5</td><td>3</td><td>1</td><td>0</td><td>0</td><td>0</td><td>0</td><td>0</td><td>0</td></tr><tr><td>130</td><td>19</td><td>21</td><td>22</td><td>6</td><td>3</td><td>1</td><td>0</td><td>0</td><td>0</td><td>0</td><td>0</td><td>0</td></tr><tr><td>120</td><td>20</td><td>22</td><td>23</td><td>6</td><td>3</td><td>1</td><td>0</td><td>0</td><td>0</td><td>0</td><td>0</td><td>0</td></tr><tr><td>120</td><td>20</td><td>22</td><td>23</td><td>5</td><td>3</td><td>1</td><td>0</td><td>0</td><td>0</td><td>0</td><td>0</td><td>0</td></tr><tr><td>130</td><td>20</td><td>22</td><td>23</td><td>6</td><td>3</td><td>1</td><td>0</td><td>0</td><td>0</td><td>0</td><td>0</td><td>0</td></tr><tr><td>135</td><td>20</td><td>22</td><td>23</td><td>5</td><td>3</td><td>1</td><td>0</td><td>0</td><td>0</td><td>0</td><td>0</td><td>0</td></tr><tr><td>110</td><td>20</td><td>22</td><td>23</td><td>5</td><td>3</td><td>1</td><td>0</td><td>0</td><td>0</td><td>0</td><td>0</td><td>0</td></tr><tr><td>130</td><td>20</td><td>22</td><td>24</td><td>5</td><td>3</td><td>1</td><td>0</td><td>0</td><td>0</td><td>0</td><td>0</td><td>0</td></tr><tr><td>150</td><td>20</td><td>22</td><td>24</td><td>6</td><td>3</td><td>1</td><td>0</td><td>0</td><td>0</td><td>0</td><td>0</td><td>0</td></tr><tr><td>145</td><td>20</td><td>22</td><td>24</td><td>5</td><td>3</td><td>1</td><td>0</td><td>0</td><td>0</td><td>0</td><td>0</td><td>0</td></tr><tr><td>150</td><td>21</td><td>23</td><td>24</td><td>5</td><td>3</td><td>1</td><td>0</td><td>0</td><td>0</td><td>0</td><td>0</td><td>0</td></tr><tr><td>170</td><td>21</td><td>23</td><td>25</td><td>6</td><td>3</td><td>1</td><td>0</td><td>0</td><td>0</td><td>0</td><td>0</td><td>0</td></tr><tr><td>225</td><td>22</td><td>24</td><td>25</td><td>7</td><td>3</td><td>1</td><td>0</td><td>0</td><td>0</td><td>0</td><td>0</td><td>0</td></tr><tr><td>145</td><td>22</td><td>24</td><td>25</td><td>6</td><td>3</td><td>1</td><td>0</td><td>0</td><td>0</td><td>0</td><td>0</td><td>0</td></tr><tr><td>188</td><td>22</td><td>24</td><td>26</td><td>6</td><td>4</td><td>1</td><td>0</td><td>0</td><td>0</td><td>0</td><td>0</td><td>0</td></tr><tr><td>180</td><td>23</td><td>25</td><td>26</td><td>6</td><td>3</td><td>1</td><td>0</td><td>0</td><td>0</td><td>0</td><td>0</td><td>0</td></tr><tr><td>197</td><td>23</td><td>25</td><td>27</td><td>6</td><td>4</td><td>1</td><td>0</td><td>0</td><td>0</td><td>0</td><td>0</td><td>0</td></tr><tr><td>218</td><td>25</td><td>26</td><td>28</td><td>7</td><td>4</td><td>1</td><td>0</td><td>0</td><td>0</td><td>0</td><td>0</td><td>0</td></tr><tr><td>300</td><td>25</td><td>27</td><td>28</td><td>8</td><td>5</td><td>1</td><td>0</td><td>0</td><td>0</td><td>0</td><td>0</td><td>0</td></tr><tr><td>260</td><td>25</td><td>27</td><td>28</td><td>7</td><td>4</td><td>1</td><td>0</td><td>0</td><td>0</td><td>0</td><td>0</td><td>0</td></tr><tr><td>265</td><td>25</td><td>27</td><td>28</td><td>7</td><td>4</td><td>1</td><td>0</td><td>0</td><td>0</td><td>0</td><td>0</td><td>0</td></tr><tr><td>250</td><td>25</td><td>27</td><td>28</td><td>7</td><td>4</td><td>1</td><td>0</td><td>0</td><td>0</td><td>0</td><td>0</td><td>0</td></tr><tr><td>250</td><td>25</td><td>28</td><td>29</td><td>7</td><td>4</td><td>1</td><td>0</td><td>0</td><td>0</td><td>0</td><td>0</td><td>0</td></tr><tr><td>300</td><td>26</td><td>28</td><td>30</td><td>7</td><td>4</td><td>1</td><td>0</td><td>0</td><td>0</td><td>0</td><td>0</td><td>0</td></tr><tr><td>320</td><td>27</td><td>30</td><td>31</td><td>7</td><td>4</td><td>1</td><td>0</td><td>0</td><td>0</td><td>0</td><td>0</td><td>0</td></tr><tr><td>514</td><td>30</td><td>32</td><td>34</td><td>10</td><td>6</td><td>1</td><td>0</td><td>0</td><td>0</td><td>0</td><td>0</td><td>0</td></tr><tr><td>556</td><td>32</td><td>34</td><td>36</td><td>10</td><td>6</td><td>1</td><td>0</td><td>0</td><td>0</td><td>0</td><td>0</td><td>0</td></tr><tr><td>840</td><td>32</td><td>35</td><td>37</td><td>11</td><td>7</td><td>1</td><td>0</td><td>0</td><td>0</td><td>0</td><td>0</td><td>0</td></tr><tr><td>685</td><td>34</td><td>36</td><td>39</td><td>10</td><td>6</td><td>1</td><td>0</td><td>0</td><td>0</td><td>0</td><td>0</td><td>0</td></tr><tr><td>700</td><td>34</td><td>36</td><td>38</td><td>10</td><td>6</td><td>1</td><td>0</td><td>0</td><td>0</td><td>0</td><td>0</td><td>0</td></tr><tr><td>700</td><td>34</td><td>37</td><td>39</td><td>10</td><td>6</td><td>1</td><td>0</td><td>0</td><td>0</td><td>0</td><td>0</td><td>0</td></tr><tr><td>690</td><td>34</td><td>37</td><td>39</td><td>10</td><td>6</td><td>1</td><td>0</td><td>0</td><td>0</td><td>0</td><td>0</td><td>0</td></tr><tr><td>900</td><td>36</td><td>39</td><td>41</td><td>11</td><td>7</td><td>1</td><td>0</td><td>0</td><td>0</td><td>0</td><td>0</td><td>0</td></tr><tr><td>650</td><td>36</td><td>39</td><td>41</td><td>11</td><td>6</td><td>1</td><td>0</td><td>0</td><td>0</td><td>0</td><td>0</td><td>0</td></tr><tr><td>820</td><td>36</td><td>39</td><td>41</td><td>12</td><td>7</td><td>1</td><td>0</td><td>0</td><td>0</td><td>0</td><td>0</td><td>0</td></tr><tr><td>850</td><td>36</td><td>40</td><td>42</td><td>11</td><td>7</td><td>1</td><td>0</td><td>0</td><td>0</td><td>0</td><td>0</td><td>0</td></tr><tr><td>900</td><td>37</td><td>40</td><td>42</td><td>11</td><td>7</td><td>1</td><td>0</td><td>0</td><td>0</td><td>0</td><td>0</td><td>0</td></tr><tr><td>1015</td><td>37</td><td>40</td><td>42</td><td>12</td><td>7</td><td>1</td><td>0</td><td>0</td><td>0</td><td>0</td><td>0</td><td>0</td></tr><tr><td>820</td><td>37</td><td>40</td><td>42</td><td>11</td><td>6</td><td>1</td><td>0</td><td>0</td><td>0</td><td>0</td><td>0</td><td>0</td></tr><tr><td>1100</td><td>39</td><td>42</td><td>44</td><td>12</td><td>6</td><td>1</td><td>0</td><td>0</td><td>0</td><td>0</td><td>0</td><td>0</td></tr><tr><td>1000</td><td>39</td><td>43</td><td>45</td><td>11</td><td>7</td><td>1</td><td>0</td><td>0</td><td>0</td><td>0</td><td>0</td><td>0</td></tr><tr><td>1100</td><td>40</td><td>43</td><td>45</td><td>12</td><td>7</td><td>1</td><td>0</td><td>0</td><td>0</td><td>0</td><td>0</td><td>0</td></tr><tr><td>1000</td><td>40</td><td>43</td><td>46</td><td>12</td><td>8</td><td>1</td><td>0</td><td>0</td><td>0</td><td>0</td><td>0</td><td>0</td></tr><tr><td>1000</td><td>41</td><td>44</td><td>46</td><td>12</td><td>7</td><td>1</td><td>0</td><td>0</td><td>0</td><td>0</td><td>0</td><td>0</td></tr><tr><td>200</td><td>30</td><td>32</td><td>34</td><td>5</td><td>3</td><td>0</td><td>0</td><td>0</td><td>1</td><td>0</td><td>0</td><td>0</td></tr><tr><td>300</td><td>31</td><td>34</td><td>37</td><td>5</td><td>4</td><td>0</td><td>0</td><td>0</td><td>1</td><td>0</td><td>0</td><td>0</td></tr><tr><td>300</td><td>32</td><td>35</td><td>38</td><td>5</td><td>4</td><td>0</td><td>0</td><td>0</td><td>1</td><td>0</td><td>0</td><td>0</td></tr><tr><td>300</td><td>34</td><td>37</td><td>39</td><td>6</td><td>4</td><td>0</td><td>0</td><td>0</td><td>1</td><td>0</td><td>0</td><td>0</td></tr><tr><td>430</td><td>35</td><td>38</td><td>40</td><td>7</td><td>4</td><td>0</td><td>0</td><td>0</td><td>1</td><td>0</td><td>0</td><td>0</td></tr><tr><td>345</td><td>36</td><td>38</td><td>41</td><td>6</td><td>3</td><td>0</td><td>0</td><td>0</td><td>1</td><td>0</td><td>0</td><td>0</td></tr><tr><td>456</td><td>40</td><td>42</td><td>45</td><td>7</td><td>4</td><td>0</td><td>0</td><td>0</td><td>1</td><td>0</td><td>0</td><td>0</td></tr><tr><td>510</td><td>40</td><td>42</td><td>45</td><td>6</td><td>4</td><td>0</td><td>0</td><td>0</td><td>1</td><td>0</td><td>0</td><td>0</td></tr><tr><td>540</td><td>40</td><td>43</td><td>45</td><td>7</td><td>5</td><td>0</td><td>0</td><td>0</td><td>1</td><td>0</td><td>0</td><td>0</td></tr><tr><td>500</td><td>42</td><td>45</td><td>48</td><td>6</td><td>4</td><td>0</td><td>0</td><td>0</td><td>1</td><td>0</td><td>0</td><td>0</td></tr><tr><td>567</td><td>43</td><td>46</td><td>48</td><td>7</td><td>4</td><td>0</td><td>0</td><td>0</td><td>1</td><td>0</td><td>0</td><td>0</td></tr><tr><td>770</td><td>44</td><td>48</td><td>51</td><td>7</td><td>5</td><td>0</td><td>0</td><td>0</td><td>1</td><td>0</td><td>0</td><td>0</td></tr><tr><td>950</td><td>48</td><td>51</td><td>55</td><td>8</td><td>6</td><td>0</td><td>0</td><td>0</td><td>1</td><td>0</td><td>0</td><td>0</td></tr><tr><td>1250</td><td>52</td><td>56</td><td>59</td><td>10</td><td>6</td><td>0</td><td>0</td><td>0</td><td>1</td><td>0</td><td>0</td><td>0</td></tr><tr><td>1600</td><td>56</td><td>60</td><td>64</td><td>9</td><td>6</td><td>0</td><td>0</td><td>0</td><td>1</td><td>0</td><td>0</td><td>0</td></tr><tr><td>1550</td><td>56</td><td>60</td><td>64</td><td>9</td><td>6</td><td>0</td><td>0</td><td>0</td><td>1</td><td>0</td><td>0</td><td>0</td></tr><tr><td>1650</td><td>59</td><td>63</td><td>68</td><td>10</td><td>7</td><td>0</td><td>0</td><td>0</td><td>1</td><td>0</td><td>0</td><td>0</td></tr><tr><td>6</td><td>9</td><td>9</td><td>10</td><td>1</td><td>1</td><td>0</td><td>0</td><td>0</td><td>0</td><td>1</td><td>0</td><td>0</td></tr><tr><td>7</td><td>10</td><td>10</td><td>11</td><td>1</td><td>1</td><td>0</td><td>0</td><td>0</td><td>0</td><td>1</td><td>0</td><td>0</td></tr><tr><td>7</td><td>10</td><td>10</td><td>11</td><td>1</td><td>1</td><td>0</td><td>0</td><td>0</td><td>0</td><td>1</td><td>0</td><td>0</td></tr><tr><td>9</td><td>10</td><td>11</td><td>12</td><td>2</td><td>1</td><td>0</td><td>0</td><td>0</td><td>0</td><td>1</td><td>0</td><td>0</td></tr><tr><td>9</td><td>10</td><td>11</td><td>12</td><td>2</td><td>1</td><td>0</td><td>0</td><td>0</td><td>0</td><td>1</td><td>0</td><td>0</td></tr><tr><td>8</td><td>10</td><td>11</td><td>12</td><td>1</td><td>1</td><td>0</td><td>0</td><td>0</td><td>0</td><td>1</td><td>0</td><td>0</td></tr><tr><td>10</td><td>11</td><td>11</td><td>13</td><td>2</td><td>1</td><td>0</td><td>0</td><td>0</td><td>0</td><td>1</td><td>0</td><td>0</td></tr><tr><td>9</td><td>11</td><td>11</td><td>13</td><td>2</td><td>1</td><td>0</td><td>0</td><td>0</td><td>0</td><td>1</td><td>0</td><td>0</td></tr><tr><td>9</td><td>11</td><td>12</td><td>13</td><td>2</td><td>1</td><td>0</td><td>0</td><td>0</td><td>0</td><td>1</td><td>0</td><td>0</td></tr><tr><td>12</td><td>11</td><td>12</td><td>13</td><td>2</td><td>1</td><td>0</td><td>0</td><td>0</td><td>0</td><td>1</td><td>0</td><td>0</td></tr><tr><td>13</td><td>11</td><td>12</td><td>13</td><td>2</td><td>1</td><td>0</td><td>0</td><td>0</td><td>0</td><td>1</td><td>0</td><td>0</td></tr><tr><td>12</td><td>12</td><td>13</td><td>13</td><td>2</td><td>1</td><td>0</td><td>0</td><td>0</td><td>0</td><td>1</td><td>0</td><td>0</td></tr><tr><td>19</td><td>13</td><td>14</td><td>15</td><td>2</td><td>2</td><td>0</td><td>0</td><td>0</td><td>0</td><td>1</td><td>0</td><td>0</td></tr><tr><td>19</td><td>13</td><td>15</td><td>16</td><td>2</td><td>1</td><td>0</td><td>0</td><td>0</td><td>0</td><td>1</td><td>0</td><td>0</td></tr></tbody></table></div>"
      ]
     },
     "metadata": {
      "application/vnd.databricks.v1+output": {
       "addedWidgets": {},
       "aggData": [],
       "aggError": "",
       "aggOverflow": false,
       "aggSchema": [],
       "aggSeriesLimitReached": false,
       "aggType": "",
       "arguments": {},
       "columnCustomDisplayInfos": {},
       "data": [
        [
         242,
         23,
         25,
         30,
         11,
         4,
         0,
         1,
         0,
         0,
         0,
         0,
         0
        ],
        [
         290,
         24,
         26,
         31,
         12,
         4,
         0,
         1,
         0,
         0,
         0,
         0,
         0
        ],
        [
         340,
         23,
         26,
         31,
         12,
         4,
         0,
         1,
         0,
         0,
         0,
         0,
         0
        ],
        [
         363,
         26,
         29,
         33,
         12,
         4,
         0,
         1,
         0,
         0,
         0,
         0,
         0
        ],
        [
         430,
         26,
         29,
         34,
         12,
         5,
         0,
         1,
         0,
         0,
         0,
         0,
         0
        ],
        [
         450,
         26,
         29,
         34,
         13,
         4,
         0,
         1,
         0,
         0,
         0,
         0,
         0
        ],
        [
         500,
         26,
         29,
         34,
         14,
         5,
         0,
         1,
         0,
         0,
         0,
         0,
         0
        ],
        [
         390,
         27,
         30,
         35,
         12,
         4,
         0,
         1,
         0,
         0,
         0,
         0,
         0
        ],
        [
         450,
         27,
         30,
         35,
         14,
         4,
         0,
         1,
         0,
         0,
         0,
         0,
         0
        ],
        [
         500,
         28,
         30,
         36,
         14,
         4,
         0,
         1,
         0,
         0,
         0,
         0,
         0
        ],
        [
         475,
         28,
         31,
         36,
         14,
         5,
         0,
         1,
         0,
         0,
         0,
         0,
         0
        ],
        [
         500,
         28,
         31,
         36,
         14,
         4,
         0,
         1,
         0,
         0,
         0,
         0,
         0
        ],
        [
         500,
         29,
         31,
         36,
         13,
         4,
         0,
         1,
         0,
         0,
         0,
         0,
         0
        ],
        [
         340,
         29,
         32,
         37,
         13,
         5,
         0,
         1,
         0,
         0,
         0,
         0,
         0
        ],
        [
         600,
         29,
         32,
         37,
         14,
         5,
         0,
         1,
         0,
         0,
         0,
         0,
         0
        ],
        [
         600,
         29,
         32,
         37,
         15,
         5,
         0,
         1,
         0,
         0,
         0,
         0,
         0
        ],
        [
         700,
         30,
         33,
         38,
         14,
         5,
         0,
         1,
         0,
         0,
         0,
         0,
         0
        ],
        [
         700,
         30,
         33,
         38,
         14,
         5,
         0,
         1,
         0,
         0,
         0,
         0,
         0
        ],
        [
         610,
         30,
         33,
         38,
         15,
         5,
         0,
         1,
         0,
         0,
         0,
         0,
         0
        ],
        [
         650,
         31,
         33,
         38,
         14,
         5,
         0,
         1,
         0,
         0,
         0,
         0,
         0
        ],
        [
         575,
         31,
         34,
         39,
         15,
         5,
         0,
         1,
         0,
         0,
         0,
         0,
         0
        ],
        [
         685,
         31,
         34,
         39,
         15,
         5,
         0,
         1,
         0,
         0,
         0,
         0,
         0
        ],
        [
         620,
         31,
         34,
         39,
         15,
         5,
         0,
         1,
         0,
         0,
         0,
         0,
         0
        ],
        [
         680,
         31,
         35,
         40,
         15,
         6,
         0,
         1,
         0,
         0,
         0,
         0,
         0
        ],
        [
         700,
         31,
         35,
         40,
         16,
         5,
         0,
         1,
         0,
         0,
         0,
         0,
         0
        ],
        [
         725,
         31,
         35,
         40,
         16,
         6,
         0,
         1,
         0,
         0,
         0,
         0,
         0
        ],
        [
         720,
         32,
         35,
         40,
         16,
         6,
         0,
         1,
         0,
         0,
         0,
         0,
         0
        ],
        [
         714,
         32,
         36,
         41,
         16,
         5,
         0,
         1,
         0,
         0,
         0,
         0,
         0
        ],
        [
         850,
         32,
         36,
         41,
         16,
         6,
         0,
         1,
         0,
         0,
         0,
         0,
         0
        ],
        [
         1000,
         33,
         37,
         42,
         18,
         6,
         0,
         1,
         0,
         0,
         0,
         0,
         0
        ],
        [
         920,
         35,
         38,
         44,
         18,
         6,
         0,
         1,
         0,
         0,
         0,
         0,
         0
        ],
        [
         955,
         35,
         38,
         44,
         18,
         6,
         0,
         1,
         0,
         0,
         0,
         0,
         0
        ],
        [
         925,
         36,
         39,
         45,
         18,
         6,
         0,
         1,
         0,
         0,
         0,
         0,
         0
        ],
        [
         975,
         37,
         41,
         45,
         18,
         6,
         0,
         1,
         0,
         0,
         0,
         0,
         0
        ],
        [
         950,
         38,
         41,
         46,
         17,
         6,
         0,
         1,
         0,
         0,
         0,
         0,
         0
        ],
        [
         40,
         12,
         14,
         16,
         4,
         2,
         0,
         0,
         1,
         0,
         0,
         0,
         0
        ],
        [
         69,
         16,
         18,
         20,
         5,
         2,
         0,
         0,
         1,
         0,
         0,
         0,
         0
        ],
        [
         78,
         17,
         18,
         21,
         5,
         2,
         0,
         0,
         1,
         0,
         0,
         0,
         0
        ],
        [
         87,
         18,
         19,
         22,
         5,
         3,
         0,
         0,
         1,
         0,
         0,
         0,
         0
        ],
        [
         120,
         18,
         20,
         22,
         6,
         3,
         0,
         0,
         1,
         0,
         0,
         0,
         0
        ],
        [
         0,
         19,
         20,
         22,
         6,
         3,
         0,
         0,
         1,
         0,
         0,
         0,
         0
        ],
        [
         110,
         19,
         20,
         23,
         6,
         3,
         0,
         0,
         1,
         0,
         0,
         0,
         0
        ],
        [
         120,
         19,
         21,
         23,
         6,
         3,
         0,
         0,
         1,
         0,
         0,
         0,
         0
        ],
        [
         150,
         20,
         22,
         24,
         5,
         3,
         0,
         0,
         1,
         0,
         0,
         0,
         0
        ],
        [
         145,
         20,
         22,
         24,
         6,
         3,
         0,
         0,
         1,
         0,
         0,
         0,
         0
        ],
        [
         160,
         20,
         22,
         25,
         7,
         3,
         0,
         0,
         1,
         0,
         0,
         0,
         0
        ],
        [
         140,
         21,
         22,
         25,
         6,
         3,
         0,
         0,
         1,
         0,
         0,
         0,
         0
        ],
        [
         160,
         21,
         22,
         25,
         6,
         3,
         0,
         0,
         1,
         0,
         0,
         0,
         0
        ],
        [
         169,
         22,
         24,
         27,
         7,
         3,
         0,
         0,
         1,
         0,
         0,
         0,
         0
        ],
        [
         161,
         22,
         23,
         26,
         6,
         3,
         0,
         0,
         1,
         0,
         0,
         0,
         0
        ],
        [
         200,
         22,
         23,
         26,
         7,
         4,
         0,
         0,
         1,
         0,
         0,
         0,
         0
        ],
        [
         180,
         23,
         25,
         27,
         7,
         3,
         0,
         0,
         1,
         0,
         0,
         0,
         0
        ],
        [
         290,
         24,
         26,
         29,
         8,
         4,
         0,
         0,
         1,
         0,
         0,
         0,
         0
        ],
        [
         272,
         25,
         27,
         30,
         8,
         4,
         0,
         0,
         1,
         0,
         0,
         0,
         0
        ],
        [
         390,
         29,
         31,
         35,
         9,
         5,
         0,
         0,
         1,
         0,
         0,
         0,
         0
        ],
        [
         270,
         23,
         26,
         28,
         8,
         4,
         0,
         0,
         0,
         0,
         0,
         0,
         1
        ],
        [
         270,
         24,
         26,
         29,
         8,
         4,
         0,
         0,
         0,
         0,
         0,
         0,
         1
        ],
        [
         306,
         25,
         28,
         30,
         8,
         4,
         0,
         0,
         0,
         0,
         0,
         0,
         1
        ],
        [
         540,
         28,
         31,
         34,
         10,
         6,
         0,
         0,
         0,
         0,
         0,
         0,
         1
        ],
        [
         800,
         33,
         36,
         39,
         11,
         6,
         0,
         0,
         0,
         0,
         0,
         0,
         1
        ],
        [
         1000,
         37,
         40,
         43,
         12,
         6,
         0,
         0,
         0,
         0,
         0,
         0,
         1
        ],
        [
         55,
         13,
         14,
         16,
         6,
         2,
         0,
         0,
         0,
         0,
         0,
         1,
         0
        ],
        [
         60,
         14,
         15,
         17,
         6,
         2,
         0,
         0,
         0,
         0,
         0,
         1,
         0
        ],
        [
         90,
         16,
         17,
         19,
         7,
         2,
         0,
         0,
         0,
         0,
         0,
         1,
         0
        ],
        [
         120,
         17,
         19,
         21,
         8,
         2,
         0,
         0,
         0,
         0,
         0,
         1,
         0
        ],
        [
         150,
         18,
         20,
         22,
         8,
         3,
         0,
         0,
         0,
         0,
         0,
         1,
         0
        ],
        [
         140,
         19,
         20,
         23,
         8,
         3,
         0,
         0,
         0,
         0,
         0,
         1,
         0
        ],
        [
         170,
         19,
         20,
         23,
         9,
         3,
         0,
         0,
         0,
         0,
         0,
         1,
         0
        ],
        [
         145,
         19,
         21,
         24,
         9,
         3,
         0,
         0,
         0,
         0,
         0,
         1,
         0
        ],
        [
         200,
         21,
         23,
         25,
         10,
         3,
         0,
         0,
         0,
         0,
         0,
         1,
         0
        ],
        [
         273,
         23,
         25,
         28,
         11,
         4,
         0,
         0,
         0,
         0,
         0,
         1,
         0
        ],
        [
         300,
         24,
         26,
         29,
         11,
         4,
         0,
         0,
         0,
         0,
         0,
         1,
         0
        ],
        [
         5,
         7,
         8,
         8,
         2,
         1,
         1,
         0,
         0,
         0,
         0,
         0,
         0
        ],
        [
         32,
         12,
         13,
         14,
         3,
         1,
         1,
         0,
         0,
         0,
         0,
         0,
         0
        ],
        [
         40,
         13,
         15,
         16,
         3,
         2,
         1,
         0,
         0,
         0,
         0,
         0,
         0
        ],
        [
         51,
         15,
         16,
         17,
         4,
         2,
         1,
         0,
         0,
         0,
         0,
         0,
         0
        ],
        [
         70,
         15,
         17,
         18,
         4,
         2,
         1,
         0,
         0,
         0,
         0,
         0,
         0
        ],
        [
         100,
         16,
         18,
         19,
         5,
         3,
         1,
         0,
         0,
         0,
         0,
         0,
         0
        ],
        [
         78,
         16,
         18,
         19,
         5,
         3,
         1,
         0,
         0,
         0,
         0,
         0,
         0
        ],
        [
         80,
         17,
         19,
         20,
         5,
         3,
         1,
         0,
         0,
         0,
         0,
         0,
         0
        ],
        [
         85,
         17,
         19,
         20,
         5,
         3,
         1,
         0,
         0,
         0,
         0,
         0,
         0
        ],
        [
         85,
         18,
         20,
         21,
         5,
         2,
         1,
         0,
         0,
         0,
         0,
         0,
         0
        ],
        [
         110,
         19,
         21,
         22,
         5,
         3,
         1,
         0,
         0,
         0,
         0,
         0,
         0
        ],
        [
         115,
         19,
         21,
         22,
         5,
         3,
         1,
         0,
         0,
         0,
         0,
         0,
         0
        ],
        [
         125,
         19,
         21,
         22,
         5,
         3,
         1,
         0,
         0,
         0,
         0,
         0,
         0
        ],
        [
         130,
         19,
         21,
         22,
         6,
         3,
         1,
         0,
         0,
         0,
         0,
         0,
         0
        ],
        [
         120,
         20,
         22,
         23,
         6,
         3,
         1,
         0,
         0,
         0,
         0,
         0,
         0
        ],
        [
         120,
         20,
         22,
         23,
         5,
         3,
         1,
         0,
         0,
         0,
         0,
         0,
         0
        ],
        [
         130,
         20,
         22,
         23,
         6,
         3,
         1,
         0,
         0,
         0,
         0,
         0,
         0
        ],
        [
         135,
         20,
         22,
         23,
         5,
         3,
         1,
         0,
         0,
         0,
         0,
         0,
         0
        ],
        [
         110,
         20,
         22,
         23,
         5,
         3,
         1,
         0,
         0,
         0,
         0,
         0,
         0
        ],
        [
         130,
         20,
         22,
         24,
         5,
         3,
         1,
         0,
         0,
         0,
         0,
         0,
         0
        ],
        [
         150,
         20,
         22,
         24,
         6,
         3,
         1,
         0,
         0,
         0,
         0,
         0,
         0
        ],
        [
         145,
         20,
         22,
         24,
         5,
         3,
         1,
         0,
         0,
         0,
         0,
         0,
         0
        ],
        [
         150,
         21,
         23,
         24,
         5,
         3,
         1,
         0,
         0,
         0,
         0,
         0,
         0
        ],
        [
         170,
         21,
         23,
         25,
         6,
         3,
         1,
         0,
         0,
         0,
         0,
         0,
         0
        ],
        [
         225,
         22,
         24,
         25,
         7,
         3,
         1,
         0,
         0,
         0,
         0,
         0,
         0
        ],
        [
         145,
         22,
         24,
         25,
         6,
         3,
         1,
         0,
         0,
         0,
         0,
         0,
         0
        ],
        [
         188,
         22,
         24,
         26,
         6,
         4,
         1,
         0,
         0,
         0,
         0,
         0,
         0
        ],
        [
         180,
         23,
         25,
         26,
         6,
         3,
         1,
         0,
         0,
         0,
         0,
         0,
         0
        ],
        [
         197,
         23,
         25,
         27,
         6,
         4,
         1,
         0,
         0,
         0,
         0,
         0,
         0
        ],
        [
         218,
         25,
         26,
         28,
         7,
         4,
         1,
         0,
         0,
         0,
         0,
         0,
         0
        ],
        [
         300,
         25,
         27,
         28,
         8,
         5,
         1,
         0,
         0,
         0,
         0,
         0,
         0
        ],
        [
         260,
         25,
         27,
         28,
         7,
         4,
         1,
         0,
         0,
         0,
         0,
         0,
         0
        ],
        [
         265,
         25,
         27,
         28,
         7,
         4,
         1,
         0,
         0,
         0,
         0,
         0,
         0
        ],
        [
         250,
         25,
         27,
         28,
         7,
         4,
         1,
         0,
         0,
         0,
         0,
         0,
         0
        ],
        [
         250,
         25,
         28,
         29,
         7,
         4,
         1,
         0,
         0,
         0,
         0,
         0,
         0
        ],
        [
         300,
         26,
         28,
         30,
         7,
         4,
         1,
         0,
         0,
         0,
         0,
         0,
         0
        ],
        [
         320,
         27,
         30,
         31,
         7,
         4,
         1,
         0,
         0,
         0,
         0,
         0,
         0
        ],
        [
         514,
         30,
         32,
         34,
         10,
         6,
         1,
         0,
         0,
         0,
         0,
         0,
         0
        ],
        [
         556,
         32,
         34,
         36,
         10,
         6,
         1,
         0,
         0,
         0,
         0,
         0,
         0
        ],
        [
         840,
         32,
         35,
         37,
         11,
         7,
         1,
         0,
         0,
         0,
         0,
         0,
         0
        ],
        [
         685,
         34,
         36,
         39,
         10,
         6,
         1,
         0,
         0,
         0,
         0,
         0,
         0
        ],
        [
         700,
         34,
         36,
         38,
         10,
         6,
         1,
         0,
         0,
         0,
         0,
         0,
         0
        ],
        [
         700,
         34,
         37,
         39,
         10,
         6,
         1,
         0,
         0,
         0,
         0,
         0,
         0
        ],
        [
         690,
         34,
         37,
         39,
         10,
         6,
         1,
         0,
         0,
         0,
         0,
         0,
         0
        ],
        [
         900,
         36,
         39,
         41,
         11,
         7,
         1,
         0,
         0,
         0,
         0,
         0,
         0
        ],
        [
         650,
         36,
         39,
         41,
         11,
         6,
         1,
         0,
         0,
         0,
         0,
         0,
         0
        ],
        [
         820,
         36,
         39,
         41,
         12,
         7,
         1,
         0,
         0,
         0,
         0,
         0,
         0
        ],
        [
         850,
         36,
         40,
         42,
         11,
         7,
         1,
         0,
         0,
         0,
         0,
         0,
         0
        ],
        [
         900,
         37,
         40,
         42,
         11,
         7,
         1,
         0,
         0,
         0,
         0,
         0,
         0
        ],
        [
         1015,
         37,
         40,
         42,
         12,
         7,
         1,
         0,
         0,
         0,
         0,
         0,
         0
        ],
        [
         820,
         37,
         40,
         42,
         11,
         6,
         1,
         0,
         0,
         0,
         0,
         0,
         0
        ],
        [
         1100,
         39,
         42,
         44,
         12,
         6,
         1,
         0,
         0,
         0,
         0,
         0,
         0
        ],
        [
         1000,
         39,
         43,
         45,
         11,
         7,
         1,
         0,
         0,
         0,
         0,
         0,
         0
        ],
        [
         1100,
         40,
         43,
         45,
         12,
         7,
         1,
         0,
         0,
         0,
         0,
         0,
         0
        ],
        [
         1000,
         40,
         43,
         46,
         12,
         8,
         1,
         0,
         0,
         0,
         0,
         0,
         0
        ],
        [
         1000,
         41,
         44,
         46,
         12,
         7,
         1,
         0,
         0,
         0,
         0,
         0,
         0
        ],
        [
         200,
         30,
         32,
         34,
         5,
         3,
         0,
         0,
         0,
         1,
         0,
         0,
         0
        ],
        [
         300,
         31,
         34,
         37,
         5,
         4,
         0,
         0,
         0,
         1,
         0,
         0,
         0
        ],
        [
         300,
         32,
         35,
         38,
         5,
         4,
         0,
         0,
         0,
         1,
         0,
         0,
         0
        ],
        [
         300,
         34,
         37,
         39,
         6,
         4,
         0,
         0,
         0,
         1,
         0,
         0,
         0
        ],
        [
         430,
         35,
         38,
         40,
         7,
         4,
         0,
         0,
         0,
         1,
         0,
         0,
         0
        ],
        [
         345,
         36,
         38,
         41,
         6,
         3,
         0,
         0,
         0,
         1,
         0,
         0,
         0
        ],
        [
         456,
         40,
         42,
         45,
         7,
         4,
         0,
         0,
         0,
         1,
         0,
         0,
         0
        ],
        [
         510,
         40,
         42,
         45,
         6,
         4,
         0,
         0,
         0,
         1,
         0,
         0,
         0
        ],
        [
         540,
         40,
         43,
         45,
         7,
         5,
         0,
         0,
         0,
         1,
         0,
         0,
         0
        ],
        [
         500,
         42,
         45,
         48,
         6,
         4,
         0,
         0,
         0,
         1,
         0,
         0,
         0
        ],
        [
         567,
         43,
         46,
         48,
         7,
         4,
         0,
         0,
         0,
         1,
         0,
         0,
         0
        ],
        [
         770,
         44,
         48,
         51,
         7,
         5,
         0,
         0,
         0,
         1,
         0,
         0,
         0
        ],
        [
         950,
         48,
         51,
         55,
         8,
         6,
         0,
         0,
         0,
         1,
         0,
         0,
         0
        ],
        [
         1250,
         52,
         56,
         59,
         10,
         6,
         0,
         0,
         0,
         1,
         0,
         0,
         0
        ],
        [
         1600,
         56,
         60,
         64,
         9,
         6,
         0,
         0,
         0,
         1,
         0,
         0,
         0
        ],
        [
         1550,
         56,
         60,
         64,
         9,
         6,
         0,
         0,
         0,
         1,
         0,
         0,
         0
        ],
        [
         1650,
         59,
         63,
         68,
         10,
         7,
         0,
         0,
         0,
         1,
         0,
         0,
         0
        ],
        [
         6,
         9,
         9,
         10,
         1,
         1,
         0,
         0,
         0,
         0,
         1,
         0,
         0
        ],
        [
         7,
         10,
         10,
         11,
         1,
         1,
         0,
         0,
         0,
         0,
         1,
         0,
         0
        ],
        [
         7,
         10,
         10,
         11,
         1,
         1,
         0,
         0,
         0,
         0,
         1,
         0,
         0
        ],
        [
         9,
         10,
         11,
         12,
         2,
         1,
         0,
         0,
         0,
         0,
         1,
         0,
         0
        ],
        [
         9,
         10,
         11,
         12,
         2,
         1,
         0,
         0,
         0,
         0,
         1,
         0,
         0
        ],
        [
         8,
         10,
         11,
         12,
         1,
         1,
         0,
         0,
         0,
         0,
         1,
         0,
         0
        ],
        [
         10,
         11,
         11,
         13,
         2,
         1,
         0,
         0,
         0,
         0,
         1,
         0,
         0
        ],
        [
         9,
         11,
         11,
         13,
         2,
         1,
         0,
         0,
         0,
         0,
         1,
         0,
         0
        ],
        [
         9,
         11,
         12,
         13,
         2,
         1,
         0,
         0,
         0,
         0,
         1,
         0,
         0
        ],
        [
         12,
         11,
         12,
         13,
         2,
         1,
         0,
         0,
         0,
         0,
         1,
         0,
         0
        ],
        [
         13,
         11,
         12,
         13,
         2,
         1,
         0,
         0,
         0,
         0,
         1,
         0,
         0
        ],
        [
         12,
         12,
         13,
         13,
         2,
         1,
         0,
         0,
         0,
         0,
         1,
         0,
         0
        ],
        [
         19,
         13,
         14,
         15,
         2,
         2,
         0,
         0,
         0,
         0,
         1,
         0,
         0
        ],
        [
         19,
         13,
         15,
         16,
         2,
         1,
         0,
         0,
         0,
         0,
         1,
         0,
         0
        ]
       ],
       "datasetInfos": [],
       "dbfsResultPath": null,
       "isJsonSchema": true,
       "metadata": {},
       "overflow": false,
       "plotOptions": {
        "customPlotOptions": {},
        "displayType": "table",
        "pivotAggregation": null,
        "pivotColumns": null,
        "xColumns": null,
        "yColumns": null
       },
       "removedWidgets": [],
       "schema": [
        {
         "metadata": "{}",
         "name": "Weight",
         "type": "\"integer\""
        },
        {
         "metadata": "{}",
         "name": "Length1",
         "type": "\"integer\""
        },
        {
         "metadata": "{}",
         "name": "Length2",
         "type": "\"integer\""
        },
        {
         "metadata": "{}",
         "name": "Length3",
         "type": "\"integer\""
        },
        {
         "metadata": "{}",
         "name": "Height",
         "type": "\"integer\""
        },
        {
         "metadata": "{}",
         "name": "Width",
         "type": "\"integer\""
        },
        {
         "metadata": "{}",
         "name": "Species_Perch",
         "type": "\"integer\""
        },
        {
         "metadata": "{}",
         "name": "Species_Bream",
         "type": "\"integer\""
        },
        {
         "metadata": "{}",
         "name": "Species_Roach",
         "type": "\"integer\""
        },
        {
         "metadata": "{}",
         "name": "Species_Pike",
         "type": "\"integer\""
        },
        {
         "metadata": "{}",
         "name": "Species_Smelt",
         "type": "\"integer\""
        },
        {
         "metadata": "{}",
         "name": "Species_Parkki",
         "type": "\"integer\""
        },
        {
         "metadata": "{}",
         "name": "Species_Whitefish",
         "type": "\"integer\""
        }
       ],
       "type": "table"
      }
     },
     "output_type": "display_data"
    }
   ],
   "source": [
    "# one hot encode the species column\n",
    "# define the values in the species column\n",
    "distinct_species = ['Perch', 'Bream', 'Roach', 'Pike', 'Smelt', 'Parkki', 'Whitefish']\n",
    "\n",
    "# for each value create a column with 1 is species and 0 is not species\n",
    "for value in distinct_species:\n",
    "    df = df.withColumn(f\"Species_{value}\", F.expr(f\"\"\"CASE WHEN Species ='{value}' THEN '1' ELSE '0' END\"\"\"))\n",
    "          \n",
    "# drop the og species column\n",
    "df = df.drop(*['Species'])  \n",
    "\n",
    "# df.printSchema\n",
    "# notice that all the columns are strings\n",
    "# cast each column as integer\n",
    "for column in df.columns:\n",
    "    df = df.withColumn(column, F.col(column).cast(\"integer\"))\n",
    "\n",
    "display(df)"
   ]
  },
  {
   "cell_type": "code",
   "execution_count": 0,
   "metadata": {
    "application/vnd.databricks.v1+cell": {
     "cellMetadata": {
      "byteLimit": 2048000,
      "rowLimit": 10000
     },
     "inputWidgets": {},
     "nuid": "f03e25bf-9273-441e-ba58-cf9e086604ec",
     "showTitle": false,
     "title": ""
    }
   },
   "outputs": [
    {
     "output_type": "display_data",
     "data": {
      "text/html": [
       "<style scoped>\n",
       "  .table-result-container {\n",
       "    max-height: 300px;\n",
       "    overflow: auto;\n",
       "  }\n",
       "  table, th, td {\n",
       "    border: 1px solid black;\n",
       "    border-collapse: collapse;\n",
       "  }\n",
       "  th, td {\n",
       "    padding: 5px;\n",
       "  }\n",
       "  th {\n",
       "    text-align: left;\n",
       "  }\n",
       "</style><div class='table-result-container'><table class='table-result'><thead style='background-color: white'><tr><th>features</th><th>Weight</th></tr></thead><tbody><tr><td>Map(vectorType -> sparse, length -> 12, indices -> List(0, 1, 2, 3, 4, 6), values -> List(23.0, 25.0, 30.0, 11.0, 4.0, 1.0))</td><td>242</td></tr><tr><td>Map(vectorType -> sparse, length -> 12, indices -> List(0, 1, 2, 3, 4, 6), values -> List(24.0, 26.0, 31.0, 12.0, 4.0, 1.0))</td><td>290</td></tr><tr><td>Map(vectorType -> sparse, length -> 12, indices -> List(0, 1, 2, 3, 4, 6), values -> List(23.0, 26.0, 31.0, 12.0, 4.0, 1.0))</td><td>340</td></tr><tr><td>Map(vectorType -> sparse, length -> 12, indices -> List(0, 1, 2, 3, 4, 6), values -> List(26.0, 29.0, 33.0, 12.0, 4.0, 1.0))</td><td>363</td></tr><tr><td>Map(vectorType -> sparse, length -> 12, indices -> List(0, 1, 2, 3, 4, 6), values -> List(26.0, 29.0, 34.0, 12.0, 5.0, 1.0))</td><td>430</td></tr><tr><td>Map(vectorType -> sparse, length -> 12, indices -> List(0, 1, 2, 3, 4, 6), values -> List(26.0, 29.0, 34.0, 13.0, 4.0, 1.0))</td><td>450</td></tr><tr><td>Map(vectorType -> sparse, length -> 12, indices -> List(0, 1, 2, 3, 4, 6), values -> List(26.0, 29.0, 34.0, 14.0, 5.0, 1.0))</td><td>500</td></tr><tr><td>Map(vectorType -> sparse, length -> 12, indices -> List(0, 1, 2, 3, 4, 6), values -> List(27.0, 30.0, 35.0, 12.0, 4.0, 1.0))</td><td>390</td></tr><tr><td>Map(vectorType -> sparse, length -> 12, indices -> List(0, 1, 2, 3, 4, 6), values -> List(27.0, 30.0, 35.0, 14.0, 4.0, 1.0))</td><td>450</td></tr><tr><td>Map(vectorType -> sparse, length -> 12, indices -> List(0, 1, 2, 3, 4, 6), values -> List(28.0, 30.0, 36.0, 14.0, 4.0, 1.0))</td><td>500</td></tr><tr><td>Map(vectorType -> sparse, length -> 12, indices -> List(0, 1, 2, 3, 4, 6), values -> List(28.0, 31.0, 36.0, 14.0, 5.0, 1.0))</td><td>475</td></tr><tr><td>Map(vectorType -> sparse, length -> 12, indices -> List(0, 1, 2, 3, 4, 6), values -> List(28.0, 31.0, 36.0, 14.0, 4.0, 1.0))</td><td>500</td></tr><tr><td>Map(vectorType -> sparse, length -> 12, indices -> List(0, 1, 2, 3, 4, 6), values -> List(29.0, 31.0, 36.0, 13.0, 4.0, 1.0))</td><td>500</td></tr><tr><td>Map(vectorType -> sparse, length -> 12, indices -> List(0, 1, 2, 3, 4, 6), values -> List(29.0, 32.0, 37.0, 13.0, 5.0, 1.0))</td><td>340</td></tr><tr><td>Map(vectorType -> sparse, length -> 12, indices -> List(0, 1, 2, 3, 4, 6), values -> List(29.0, 32.0, 37.0, 14.0, 5.0, 1.0))</td><td>600</td></tr><tr><td>Map(vectorType -> sparse, length -> 12, indices -> List(0, 1, 2, 3, 4, 6), values -> List(29.0, 32.0, 37.0, 15.0, 5.0, 1.0))</td><td>600</td></tr><tr><td>Map(vectorType -> sparse, length -> 12, indices -> List(0, 1, 2, 3, 4, 6), values -> List(30.0, 33.0, 38.0, 14.0, 5.0, 1.0))</td><td>700</td></tr><tr><td>Map(vectorType -> sparse, length -> 12, indices -> List(0, 1, 2, 3, 4, 6), values -> List(30.0, 33.0, 38.0, 14.0, 5.0, 1.0))</td><td>700</td></tr><tr><td>Map(vectorType -> sparse, length -> 12, indices -> List(0, 1, 2, 3, 4, 6), values -> List(30.0, 33.0, 38.0, 15.0, 5.0, 1.0))</td><td>610</td></tr><tr><td>Map(vectorType -> sparse, length -> 12, indices -> List(0, 1, 2, 3, 4, 6), values -> List(31.0, 33.0, 38.0, 14.0, 5.0, 1.0))</td><td>650</td></tr><tr><td>Map(vectorType -> sparse, length -> 12, indices -> List(0, 1, 2, 3, 4, 6), values -> List(31.0, 34.0, 39.0, 15.0, 5.0, 1.0))</td><td>575</td></tr><tr><td>Map(vectorType -> sparse, length -> 12, indices -> List(0, 1, 2, 3, 4, 6), values -> List(31.0, 34.0, 39.0, 15.0, 5.0, 1.0))</td><td>685</td></tr><tr><td>Map(vectorType -> sparse, length -> 12, indices -> List(0, 1, 2, 3, 4, 6), values -> List(31.0, 34.0, 39.0, 15.0, 5.0, 1.0))</td><td>620</td></tr><tr><td>Map(vectorType -> sparse, length -> 12, indices -> List(0, 1, 2, 3, 4, 6), values -> List(31.0, 35.0, 40.0, 15.0, 6.0, 1.0))</td><td>680</td></tr><tr><td>Map(vectorType -> sparse, length -> 12, indices -> List(0, 1, 2, 3, 4, 6), values -> List(31.0, 35.0, 40.0, 16.0, 5.0, 1.0))</td><td>700</td></tr><tr><td>Map(vectorType -> sparse, length -> 12, indices -> List(0, 1, 2, 3, 4, 6), values -> List(31.0, 35.0, 40.0, 16.0, 6.0, 1.0))</td><td>725</td></tr><tr><td>Map(vectorType -> sparse, length -> 12, indices -> List(0, 1, 2, 3, 4, 6), values -> List(32.0, 35.0, 40.0, 16.0, 6.0, 1.0))</td><td>720</td></tr><tr><td>Map(vectorType -> sparse, length -> 12, indices -> List(0, 1, 2, 3, 4, 6), values -> List(32.0, 36.0, 41.0, 16.0, 5.0, 1.0))</td><td>714</td></tr><tr><td>Map(vectorType -> sparse, length -> 12, indices -> List(0, 1, 2, 3, 4, 6), values -> List(32.0, 36.0, 41.0, 16.0, 6.0, 1.0))</td><td>850</td></tr><tr><td>Map(vectorType -> sparse, length -> 12, indices -> List(0, 1, 2, 3, 4, 6), values -> List(33.0, 37.0, 42.0, 18.0, 6.0, 1.0))</td><td>1000</td></tr><tr><td>Map(vectorType -> sparse, length -> 12, indices -> List(0, 1, 2, 3, 4, 6), values -> List(35.0, 38.0, 44.0, 18.0, 6.0, 1.0))</td><td>920</td></tr><tr><td>Map(vectorType -> sparse, length -> 12, indices -> List(0, 1, 2, 3, 4, 6), values -> List(35.0, 38.0, 44.0, 18.0, 6.0, 1.0))</td><td>955</td></tr><tr><td>Map(vectorType -> sparse, length -> 12, indices -> List(0, 1, 2, 3, 4, 6), values -> List(36.0, 39.0, 45.0, 18.0, 6.0, 1.0))</td><td>925</td></tr><tr><td>Map(vectorType -> sparse, length -> 12, indices -> List(0, 1, 2, 3, 4, 6), values -> List(37.0, 41.0, 45.0, 18.0, 6.0, 1.0))</td><td>975</td></tr><tr><td>Map(vectorType -> sparse, length -> 12, indices -> List(0, 1, 2, 3, 4, 6), values -> List(38.0, 41.0, 46.0, 17.0, 6.0, 1.0))</td><td>950</td></tr><tr><td>Map(vectorType -> sparse, length -> 12, indices -> List(0, 1, 2, 3, 4, 7), values -> List(12.0, 14.0, 16.0, 4.0, 2.0, 1.0))</td><td>40</td></tr><tr><td>Map(vectorType -> sparse, length -> 12, indices -> List(0, 1, 2, 3, 4, 7), values -> List(16.0, 18.0, 20.0, 5.0, 2.0, 1.0))</td><td>69</td></tr><tr><td>Map(vectorType -> sparse, length -> 12, indices -> List(0, 1, 2, 3, 4, 7), values -> List(17.0, 18.0, 21.0, 5.0, 2.0, 1.0))</td><td>78</td></tr><tr><td>Map(vectorType -> sparse, length -> 12, indices -> List(0, 1, 2, 3, 4, 7), values -> List(18.0, 19.0, 22.0, 5.0, 3.0, 1.0))</td><td>87</td></tr><tr><td>Map(vectorType -> sparse, length -> 12, indices -> List(0, 1, 2, 3, 4, 7), values -> List(18.0, 20.0, 22.0, 6.0, 3.0, 1.0))</td><td>120</td></tr><tr><td>Map(vectorType -> sparse, length -> 12, indices -> List(0, 1, 2, 3, 4, 7), values -> List(19.0, 20.0, 22.0, 6.0, 3.0, 1.0))</td><td>0</td></tr><tr><td>Map(vectorType -> sparse, length -> 12, indices -> List(0, 1, 2, 3, 4, 7), values -> List(19.0, 20.0, 23.0, 6.0, 3.0, 1.0))</td><td>110</td></tr><tr><td>Map(vectorType -> sparse, length -> 12, indices -> List(0, 1, 2, 3, 4, 7), values -> List(19.0, 21.0, 23.0, 6.0, 3.0, 1.0))</td><td>120</td></tr><tr><td>Map(vectorType -> sparse, length -> 12, indices -> List(0, 1, 2, 3, 4, 7), values -> List(20.0, 22.0, 24.0, 5.0, 3.0, 1.0))</td><td>150</td></tr><tr><td>Map(vectorType -> sparse, length -> 12, indices -> List(0, 1, 2, 3, 4, 7), values -> List(20.0, 22.0, 24.0, 6.0, 3.0, 1.0))</td><td>145</td></tr><tr><td>Map(vectorType -> sparse, length -> 12, indices -> List(0, 1, 2, 3, 4, 7), values -> List(20.0, 22.0, 25.0, 7.0, 3.0, 1.0))</td><td>160</td></tr><tr><td>Map(vectorType -> sparse, length -> 12, indices -> List(0, 1, 2, 3, 4, 7), values -> List(21.0, 22.0, 25.0, 6.0, 3.0, 1.0))</td><td>140</td></tr><tr><td>Map(vectorType -> sparse, length -> 12, indices -> List(0, 1, 2, 3, 4, 7), values -> List(21.0, 22.0, 25.0, 6.0, 3.0, 1.0))</td><td>160</td></tr><tr><td>Map(vectorType -> sparse, length -> 12, indices -> List(0, 1, 2, 3, 4, 7), values -> List(22.0, 24.0, 27.0, 7.0, 3.0, 1.0))</td><td>169</td></tr><tr><td>Map(vectorType -> sparse, length -> 12, indices -> List(0, 1, 2, 3, 4, 7), values -> List(22.0, 23.0, 26.0, 6.0, 3.0, 1.0))</td><td>161</td></tr><tr><td>Map(vectorType -> sparse, length -> 12, indices -> List(0, 1, 2, 3, 4, 7), values -> List(22.0, 23.0, 26.0, 7.0, 4.0, 1.0))</td><td>200</td></tr><tr><td>Map(vectorType -> sparse, length -> 12, indices -> List(0, 1, 2, 3, 4, 7), values -> List(23.0, 25.0, 27.0, 7.0, 3.0, 1.0))</td><td>180</td></tr><tr><td>Map(vectorType -> sparse, length -> 12, indices -> List(0, 1, 2, 3, 4, 7), values -> List(24.0, 26.0, 29.0, 8.0, 4.0, 1.0))</td><td>290</td></tr><tr><td>Map(vectorType -> sparse, length -> 12, indices -> List(0, 1, 2, 3, 4, 7), values -> List(25.0, 27.0, 30.0, 8.0, 4.0, 1.0))</td><td>272</td></tr><tr><td>Map(vectorType -> sparse, length -> 12, indices -> List(0, 1, 2, 3, 4, 7), values -> List(29.0, 31.0, 35.0, 9.0, 5.0, 1.0))</td><td>390</td></tr><tr><td>Map(vectorType -> sparse, length -> 12, indices -> List(0, 1, 2, 3, 4, 11), values -> List(23.0, 26.0, 28.0, 8.0, 4.0, 1.0))</td><td>270</td></tr><tr><td>Map(vectorType -> sparse, length -> 12, indices -> List(0, 1, 2, 3, 4, 11), values -> List(24.0, 26.0, 29.0, 8.0, 4.0, 1.0))</td><td>270</td></tr><tr><td>Map(vectorType -> sparse, length -> 12, indices -> List(0, 1, 2, 3, 4, 11), values -> List(25.0, 28.0, 30.0, 8.0, 4.0, 1.0))</td><td>306</td></tr><tr><td>Map(vectorType -> sparse, length -> 12, indices -> List(0, 1, 2, 3, 4, 11), values -> List(28.0, 31.0, 34.0, 10.0, 6.0, 1.0))</td><td>540</td></tr><tr><td>Map(vectorType -> sparse, length -> 12, indices -> List(0, 1, 2, 3, 4, 11), values -> List(33.0, 36.0, 39.0, 11.0, 6.0, 1.0))</td><td>800</td></tr><tr><td>Map(vectorType -> sparse, length -> 12, indices -> List(0, 1, 2, 3, 4, 11), values -> List(37.0, 40.0, 43.0, 12.0, 6.0, 1.0))</td><td>1000</td></tr><tr><td>Map(vectorType -> sparse, length -> 12, indices -> List(0, 1, 2, 3, 4, 10), values -> List(13.0, 14.0, 16.0, 6.0, 2.0, 1.0))</td><td>55</td></tr><tr><td>Map(vectorType -> sparse, length -> 12, indices -> List(0, 1, 2, 3, 4, 10), values -> List(14.0, 15.0, 17.0, 6.0, 2.0, 1.0))</td><td>60</td></tr><tr><td>Map(vectorType -> sparse, length -> 12, indices -> List(0, 1, 2, 3, 4, 10), values -> List(16.0, 17.0, 19.0, 7.0, 2.0, 1.0))</td><td>90</td></tr><tr><td>Map(vectorType -> sparse, length -> 12, indices -> List(0, 1, 2, 3, 4, 10), values -> List(17.0, 19.0, 21.0, 8.0, 2.0, 1.0))</td><td>120</td></tr><tr><td>Map(vectorType -> sparse, length -> 12, indices -> List(0, 1, 2, 3, 4, 10), values -> List(18.0, 20.0, 22.0, 8.0, 3.0, 1.0))</td><td>150</td></tr><tr><td>Map(vectorType -> sparse, length -> 12, indices -> List(0, 1, 2, 3, 4, 10), values -> List(19.0, 20.0, 23.0, 8.0, 3.0, 1.0))</td><td>140</td></tr><tr><td>Map(vectorType -> sparse, length -> 12, indices -> List(0, 1, 2, 3, 4, 10), values -> List(19.0, 20.0, 23.0, 9.0, 3.0, 1.0))</td><td>170</td></tr><tr><td>Map(vectorType -> sparse, length -> 12, indices -> List(0, 1, 2, 3, 4, 10), values -> List(19.0, 21.0, 24.0, 9.0, 3.0, 1.0))</td><td>145</td></tr><tr><td>Map(vectorType -> sparse, length -> 12, indices -> List(0, 1, 2, 3, 4, 10), values -> List(21.0, 23.0, 25.0, 10.0, 3.0, 1.0))</td><td>200</td></tr><tr><td>Map(vectorType -> sparse, length -> 12, indices -> List(0, 1, 2, 3, 4, 10), values -> List(23.0, 25.0, 28.0, 11.0, 4.0, 1.0))</td><td>273</td></tr><tr><td>Map(vectorType -> sparse, length -> 12, indices -> List(0, 1, 2, 3, 4, 10), values -> List(24.0, 26.0, 29.0, 11.0, 4.0, 1.0))</td><td>300</td></tr><tr><td>Map(vectorType -> sparse, length -> 12, indices -> List(0, 1, 2, 3, 4, 5), values -> List(7.0, 8.0, 8.0, 2.0, 1.0, 1.0))</td><td>5</td></tr><tr><td>Map(vectorType -> sparse, length -> 12, indices -> List(0, 1, 2, 3, 4, 5), values -> List(12.0, 13.0, 14.0, 3.0, 1.0, 1.0))</td><td>32</td></tr><tr><td>Map(vectorType -> sparse, length -> 12, indices -> List(0, 1, 2, 3, 4, 5), values -> List(13.0, 15.0, 16.0, 3.0, 2.0, 1.0))</td><td>40</td></tr><tr><td>Map(vectorType -> sparse, length -> 12, indices -> List(0, 1, 2, 3, 4, 5), values -> List(15.0, 16.0, 17.0, 4.0, 2.0, 1.0))</td><td>51</td></tr><tr><td>Map(vectorType -> sparse, length -> 12, indices -> List(0, 1, 2, 3, 4, 5), values -> List(15.0, 17.0, 18.0, 4.0, 2.0, 1.0))</td><td>70</td></tr><tr><td>Map(vectorType -> sparse, length -> 12, indices -> List(0, 1, 2, 3, 4, 5), values -> List(16.0, 18.0, 19.0, 5.0, 3.0, 1.0))</td><td>100</td></tr><tr><td>Map(vectorType -> sparse, length -> 12, indices -> List(0, 1, 2, 3, 4, 5), values -> List(16.0, 18.0, 19.0, 5.0, 3.0, 1.0))</td><td>78</td></tr><tr><td>Map(vectorType -> sparse, length -> 12, indices -> List(0, 1, 2, 3, 4, 5), values -> List(17.0, 19.0, 20.0, 5.0, 3.0, 1.0))</td><td>80</td></tr><tr><td>Map(vectorType -> sparse, length -> 12, indices -> List(0, 1, 2, 3, 4, 5), values -> List(17.0, 19.0, 20.0, 5.0, 3.0, 1.0))</td><td>85</td></tr><tr><td>Map(vectorType -> sparse, length -> 12, indices -> List(0, 1, 2, 3, 4, 5), values -> List(18.0, 20.0, 21.0, 5.0, 2.0, 1.0))</td><td>85</td></tr><tr><td>Map(vectorType -> sparse, length -> 12, indices -> List(0, 1, 2, 3, 4, 5), values -> List(19.0, 21.0, 22.0, 5.0, 3.0, 1.0))</td><td>110</td></tr><tr><td>Map(vectorType -> sparse, length -> 12, indices -> List(0, 1, 2, 3, 4, 5), values -> List(19.0, 21.0, 22.0, 5.0, 3.0, 1.0))</td><td>115</td></tr><tr><td>Map(vectorType -> sparse, length -> 12, indices -> List(0, 1, 2, 3, 4, 5), values -> List(19.0, 21.0, 22.0, 5.0, 3.0, 1.0))</td><td>125</td></tr><tr><td>Map(vectorType -> sparse, length -> 12, indices -> List(0, 1, 2, 3, 4, 5), values -> List(19.0, 21.0, 22.0, 6.0, 3.0, 1.0))</td><td>130</td></tr><tr><td>Map(vectorType -> sparse, length -> 12, indices -> List(0, 1, 2, 3, 4, 5), values -> List(20.0, 22.0, 23.0, 6.0, 3.0, 1.0))</td><td>120</td></tr><tr><td>Map(vectorType -> sparse, length -> 12, indices -> List(0, 1, 2, 3, 4, 5), values -> List(20.0, 22.0, 23.0, 5.0, 3.0, 1.0))</td><td>120</td></tr><tr><td>Map(vectorType -> sparse, length -> 12, indices -> List(0, 1, 2, 3, 4, 5), values -> List(20.0, 22.0, 23.0, 6.0, 3.0, 1.0))</td><td>130</td></tr><tr><td>Map(vectorType -> sparse, length -> 12, indices -> List(0, 1, 2, 3, 4, 5), values -> List(20.0, 22.0, 23.0, 5.0, 3.0, 1.0))</td><td>135</td></tr><tr><td>Map(vectorType -> sparse, length -> 12, indices -> List(0, 1, 2, 3, 4, 5), values -> List(20.0, 22.0, 23.0, 5.0, 3.0, 1.0))</td><td>110</td></tr><tr><td>Map(vectorType -> sparse, length -> 12, indices -> List(0, 1, 2, 3, 4, 5), values -> List(20.0, 22.0, 24.0, 5.0, 3.0, 1.0))</td><td>130</td></tr><tr><td>Map(vectorType -> sparse, length -> 12, indices -> List(0, 1, 2, 3, 4, 5), values -> List(20.0, 22.0, 24.0, 6.0, 3.0, 1.0))</td><td>150</td></tr><tr><td>Map(vectorType -> sparse, length -> 12, indices -> List(0, 1, 2, 3, 4, 5), values -> List(20.0, 22.0, 24.0, 5.0, 3.0, 1.0))</td><td>145</td></tr><tr><td>Map(vectorType -> sparse, length -> 12, indices -> List(0, 1, 2, 3, 4, 5), values -> List(21.0, 23.0, 24.0, 5.0, 3.0, 1.0))</td><td>150</td></tr><tr><td>Map(vectorType -> sparse, length -> 12, indices -> List(0, 1, 2, 3, 4, 5), values -> List(21.0, 23.0, 25.0, 6.0, 3.0, 1.0))</td><td>170</td></tr><tr><td>Map(vectorType -> sparse, length -> 12, indices -> List(0, 1, 2, 3, 4, 5), values -> List(22.0, 24.0, 25.0, 7.0, 3.0, 1.0))</td><td>225</td></tr><tr><td>Map(vectorType -> sparse, length -> 12, indices -> List(0, 1, 2, 3, 4, 5), values -> List(22.0, 24.0, 25.0, 6.0, 3.0, 1.0))</td><td>145</td></tr><tr><td>Map(vectorType -> sparse, length -> 12, indices -> List(0, 1, 2, 3, 4, 5), values -> List(22.0, 24.0, 26.0, 6.0, 4.0, 1.0))</td><td>188</td></tr><tr><td>Map(vectorType -> sparse, length -> 12, indices -> List(0, 1, 2, 3, 4, 5), values -> List(23.0, 25.0, 26.0, 6.0, 3.0, 1.0))</td><td>180</td></tr><tr><td>Map(vectorType -> sparse, length -> 12, indices -> List(0, 1, 2, 3, 4, 5), values -> List(23.0, 25.0, 27.0, 6.0, 4.0, 1.0))</td><td>197</td></tr><tr><td>Map(vectorType -> sparse, length -> 12, indices -> List(0, 1, 2, 3, 4, 5), values -> List(25.0, 26.0, 28.0, 7.0, 4.0, 1.0))</td><td>218</td></tr><tr><td>Map(vectorType -> sparse, length -> 12, indices -> List(0, 1, 2, 3, 4, 5), values -> List(25.0, 27.0, 28.0, 8.0, 5.0, 1.0))</td><td>300</td></tr><tr><td>Map(vectorType -> sparse, length -> 12, indices -> List(0, 1, 2, 3, 4, 5), values -> List(25.0, 27.0, 28.0, 7.0, 4.0, 1.0))</td><td>260</td></tr><tr><td>Map(vectorType -> sparse, length -> 12, indices -> List(0, 1, 2, 3, 4, 5), values -> List(25.0, 27.0, 28.0, 7.0, 4.0, 1.0))</td><td>265</td></tr><tr><td>Map(vectorType -> sparse, length -> 12, indices -> List(0, 1, 2, 3, 4, 5), values -> List(25.0, 27.0, 28.0, 7.0, 4.0, 1.0))</td><td>250</td></tr><tr><td>Map(vectorType -> sparse, length -> 12, indices -> List(0, 1, 2, 3, 4, 5), values -> List(25.0, 28.0, 29.0, 7.0, 4.0, 1.0))</td><td>250</td></tr><tr><td>Map(vectorType -> sparse, length -> 12, indices -> List(0, 1, 2, 3, 4, 5), values -> List(26.0, 28.0, 30.0, 7.0, 4.0, 1.0))</td><td>300</td></tr><tr><td>Map(vectorType -> sparse, length -> 12, indices -> List(0, 1, 2, 3, 4, 5), values -> List(27.0, 30.0, 31.0, 7.0, 4.0, 1.0))</td><td>320</td></tr><tr><td>Map(vectorType -> sparse, length -> 12, indices -> List(0, 1, 2, 3, 4, 5), values -> List(30.0, 32.0, 34.0, 10.0, 6.0, 1.0))</td><td>514</td></tr><tr><td>Map(vectorType -> sparse, length -> 12, indices -> List(0, 1, 2, 3, 4, 5), values -> List(32.0, 34.0, 36.0, 10.0, 6.0, 1.0))</td><td>556</td></tr><tr><td>Map(vectorType -> sparse, length -> 12, indices -> List(0, 1, 2, 3, 4, 5), values -> List(32.0, 35.0, 37.0, 11.0, 7.0, 1.0))</td><td>840</td></tr><tr><td>Map(vectorType -> sparse, length -> 12, indices -> List(0, 1, 2, 3, 4, 5), values -> List(34.0, 36.0, 39.0, 10.0, 6.0, 1.0))</td><td>685</td></tr><tr><td>Map(vectorType -> sparse, length -> 12, indices -> List(0, 1, 2, 3, 4, 5), values -> List(34.0, 36.0, 38.0, 10.0, 6.0, 1.0))</td><td>700</td></tr><tr><td>Map(vectorType -> sparse, length -> 12, indices -> List(0, 1, 2, 3, 4, 5), values -> List(34.0, 37.0, 39.0, 10.0, 6.0, 1.0))</td><td>700</td></tr><tr><td>Map(vectorType -> sparse, length -> 12, indices -> List(0, 1, 2, 3, 4, 5), values -> List(34.0, 37.0, 39.0, 10.0, 6.0, 1.0))</td><td>690</td></tr><tr><td>Map(vectorType -> sparse, length -> 12, indices -> List(0, 1, 2, 3, 4, 5), values -> List(36.0, 39.0, 41.0, 11.0, 7.0, 1.0))</td><td>900</td></tr><tr><td>Map(vectorType -> sparse, length -> 12, indices -> List(0, 1, 2, 3, 4, 5), values -> List(36.0, 39.0, 41.0, 11.0, 6.0, 1.0))</td><td>650</td></tr><tr><td>Map(vectorType -> sparse, length -> 12, indices -> List(0, 1, 2, 3, 4, 5), values -> List(36.0, 39.0, 41.0, 12.0, 7.0, 1.0))</td><td>820</td></tr><tr><td>Map(vectorType -> sparse, length -> 12, indices -> List(0, 1, 2, 3, 4, 5), values -> List(36.0, 40.0, 42.0, 11.0, 7.0, 1.0))</td><td>850</td></tr><tr><td>Map(vectorType -> sparse, length -> 12, indices -> List(0, 1, 2, 3, 4, 5), values -> List(37.0, 40.0, 42.0, 11.0, 7.0, 1.0))</td><td>900</td></tr><tr><td>Map(vectorType -> sparse, length -> 12, indices -> List(0, 1, 2, 3, 4, 5), values -> List(37.0, 40.0, 42.0, 12.0, 7.0, 1.0))</td><td>1015</td></tr><tr><td>Map(vectorType -> sparse, length -> 12, indices -> List(0, 1, 2, 3, 4, 5), values -> List(37.0, 40.0, 42.0, 11.0, 6.0, 1.0))</td><td>820</td></tr><tr><td>Map(vectorType -> sparse, length -> 12, indices -> List(0, 1, 2, 3, 4, 5), values -> List(39.0, 42.0, 44.0, 12.0, 6.0, 1.0))</td><td>1100</td></tr><tr><td>Map(vectorType -> sparse, length -> 12, indices -> List(0, 1, 2, 3, 4, 5), values -> List(39.0, 43.0, 45.0, 11.0, 7.0, 1.0))</td><td>1000</td></tr><tr><td>Map(vectorType -> sparse, length -> 12, indices -> List(0, 1, 2, 3, 4, 5), values -> List(40.0, 43.0, 45.0, 12.0, 7.0, 1.0))</td><td>1100</td></tr><tr><td>Map(vectorType -> sparse, length -> 12, indices -> List(0, 1, 2, 3, 4, 5), values -> List(40.0, 43.0, 46.0, 12.0, 8.0, 1.0))</td><td>1000</td></tr><tr><td>Map(vectorType -> sparse, length -> 12, indices -> List(0, 1, 2, 3, 4, 5), values -> List(41.0, 44.0, 46.0, 12.0, 7.0, 1.0))</td><td>1000</td></tr><tr><td>Map(vectorType -> sparse, length -> 12, indices -> List(0, 1, 2, 3, 4, 8), values -> List(30.0, 32.0, 34.0, 5.0, 3.0, 1.0))</td><td>200</td></tr><tr><td>Map(vectorType -> sparse, length -> 12, indices -> List(0, 1, 2, 3, 4, 8), values -> List(31.0, 34.0, 37.0, 5.0, 4.0, 1.0))</td><td>300</td></tr><tr><td>Map(vectorType -> sparse, length -> 12, indices -> List(0, 1, 2, 3, 4, 8), values -> List(32.0, 35.0, 38.0, 5.0, 4.0, 1.0))</td><td>300</td></tr><tr><td>Map(vectorType -> sparse, length -> 12, indices -> List(0, 1, 2, 3, 4, 8), values -> List(34.0, 37.0, 39.0, 6.0, 4.0, 1.0))</td><td>300</td></tr><tr><td>Map(vectorType -> sparse, length -> 12, indices -> List(0, 1, 2, 3, 4, 8), values -> List(35.0, 38.0, 40.0, 7.0, 4.0, 1.0))</td><td>430</td></tr><tr><td>Map(vectorType -> sparse, length -> 12, indices -> List(0, 1, 2, 3, 4, 8), values -> List(36.0, 38.0, 41.0, 6.0, 3.0, 1.0))</td><td>345</td></tr><tr><td>Map(vectorType -> sparse, length -> 12, indices -> List(0, 1, 2, 3, 4, 8), values -> List(40.0, 42.0, 45.0, 7.0, 4.0, 1.0))</td><td>456</td></tr><tr><td>Map(vectorType -> sparse, length -> 12, indices -> List(0, 1, 2, 3, 4, 8), values -> List(40.0, 42.0, 45.0, 6.0, 4.0, 1.0))</td><td>510</td></tr><tr><td>Map(vectorType -> sparse, length -> 12, indices -> List(0, 1, 2, 3, 4, 8), values -> List(40.0, 43.0, 45.0, 7.0, 5.0, 1.0))</td><td>540</td></tr><tr><td>Map(vectorType -> sparse, length -> 12, indices -> List(0, 1, 2, 3, 4, 8), values -> List(42.0, 45.0, 48.0, 6.0, 4.0, 1.0))</td><td>500</td></tr><tr><td>Map(vectorType -> sparse, length -> 12, indices -> List(0, 1, 2, 3, 4, 8), values -> List(43.0, 46.0, 48.0, 7.0, 4.0, 1.0))</td><td>567</td></tr><tr><td>Map(vectorType -> sparse, length -> 12, indices -> List(0, 1, 2, 3, 4, 8), values -> List(44.0, 48.0, 51.0, 7.0, 5.0, 1.0))</td><td>770</td></tr><tr><td>Map(vectorType -> sparse, length -> 12, indices -> List(0, 1, 2, 3, 4, 8), values -> List(48.0, 51.0, 55.0, 8.0, 6.0, 1.0))</td><td>950</td></tr><tr><td>Map(vectorType -> sparse, length -> 12, indices -> List(0, 1, 2, 3, 4, 8), values -> List(52.0, 56.0, 59.0, 10.0, 6.0, 1.0))</td><td>1250</td></tr><tr><td>Map(vectorType -> sparse, length -> 12, indices -> List(0, 1, 2, 3, 4, 8), values -> List(56.0, 60.0, 64.0, 9.0, 6.0, 1.0))</td><td>1600</td></tr><tr><td>Map(vectorType -> sparse, length -> 12, indices -> List(0, 1, 2, 3, 4, 8), values -> List(56.0, 60.0, 64.0, 9.0, 6.0, 1.0))</td><td>1550</td></tr><tr><td>Map(vectorType -> sparse, length -> 12, indices -> List(0, 1, 2, 3, 4, 8), values -> List(59.0, 63.0, 68.0, 10.0, 7.0, 1.0))</td><td>1650</td></tr><tr><td>Map(vectorType -> sparse, length -> 12, indices -> List(0, 1, 2, 3, 4, 9), values -> List(9.0, 9.0, 10.0, 1.0, 1.0, 1.0))</td><td>6</td></tr><tr><td>Map(vectorType -> sparse, length -> 12, indices -> List(0, 1, 2, 3, 4, 9), values -> List(10.0, 10.0, 11.0, 1.0, 1.0, 1.0))</td><td>7</td></tr><tr><td>Map(vectorType -> sparse, length -> 12, indices -> List(0, 1, 2, 3, 4, 9), values -> List(10.0, 10.0, 11.0, 1.0, 1.0, 1.0))</td><td>7</td></tr><tr><td>Map(vectorType -> sparse, length -> 12, indices -> List(0, 1, 2, 3, 4, 9), values -> List(10.0, 11.0, 12.0, 2.0, 1.0, 1.0))</td><td>9</td></tr><tr><td>Map(vectorType -> sparse, length -> 12, indices -> List(0, 1, 2, 3, 4, 9), values -> List(10.0, 11.0, 12.0, 2.0, 1.0, 1.0))</td><td>9</td></tr><tr><td>Map(vectorType -> sparse, length -> 12, indices -> List(0, 1, 2, 3, 4, 9), values -> List(10.0, 11.0, 12.0, 1.0, 1.0, 1.0))</td><td>8</td></tr><tr><td>Map(vectorType -> sparse, length -> 12, indices -> List(0, 1, 2, 3, 4, 9), values -> List(11.0, 11.0, 13.0, 2.0, 1.0, 1.0))</td><td>10</td></tr><tr><td>Map(vectorType -> sparse, length -> 12, indices -> List(0, 1, 2, 3, 4, 9), values -> List(11.0, 11.0, 13.0, 2.0, 1.0, 1.0))</td><td>9</td></tr><tr><td>Map(vectorType -> sparse, length -> 12, indices -> List(0, 1, 2, 3, 4, 9), values -> List(11.0, 12.0, 13.0, 2.0, 1.0, 1.0))</td><td>9</td></tr><tr><td>Map(vectorType -> sparse, length -> 12, indices -> List(0, 1, 2, 3, 4, 9), values -> List(11.0, 12.0, 13.0, 2.0, 1.0, 1.0))</td><td>12</td></tr><tr><td>Map(vectorType -> sparse, length -> 12, indices -> List(0, 1, 2, 3, 4, 9), values -> List(11.0, 12.0, 13.0, 2.0, 1.0, 1.0))</td><td>13</td></tr><tr><td>Map(vectorType -> sparse, length -> 12, indices -> List(0, 1, 2, 3, 4, 9), values -> List(12.0, 13.0, 13.0, 2.0, 1.0, 1.0))</td><td>12</td></tr><tr><td>Map(vectorType -> sparse, length -> 12, indices -> List(0, 1, 2, 3, 4, 9), values -> List(13.0, 14.0, 15.0, 2.0, 2.0, 1.0))</td><td>19</td></tr><tr><td>Map(vectorType -> sparse, length -> 12, indices -> List(0, 1, 2, 3, 4, 9), values -> List(13.0, 15.0, 16.0, 2.0, 1.0, 1.0))</td><td>19</td></tr></tbody></table></div>"
      ]
     },
     "metadata": {
      "application/vnd.databricks.v1+output": {
       "addedWidgets": {},
       "aggData": [],
       "aggError": "",
       "aggOverflow": false,
       "aggSchema": [],
       "aggSeriesLimitReached": false,
       "aggType": "",
       "arguments": {},
       "columnCustomDisplayInfos": {},
       "data": [
        [
         {
          "indices": [
           0,
           1,
           2,
           3,
           4,
           6
          ],
          "length": 12,
          "values": [
           23.0,
           25.0,
           30.0,
           11.0,
           4.0,
           1.0
          ],
          "vectorType": "sparse"
         },
         242
        ],
        [
         {
          "indices": [
           0,
           1,
           2,
           3,
           4,
           6
          ],
          "length": 12,
          "values": [
           24.0,
           26.0,
           31.0,
           12.0,
           4.0,
           1.0
          ],
          "vectorType": "sparse"
         },
         290
        ],
        [
         {
          "indices": [
           0,
           1,
           2,
           3,
           4,
           6
          ],
          "length": 12,
          "values": [
           23.0,
           26.0,
           31.0,
           12.0,
           4.0,
           1.0
          ],
          "vectorType": "sparse"
         },
         340
        ],
        [
         {
          "indices": [
           0,
           1,
           2,
           3,
           4,
           6
          ],
          "length": 12,
          "values": [
           26.0,
           29.0,
           33.0,
           12.0,
           4.0,
           1.0
          ],
          "vectorType": "sparse"
         },
         363
        ],
        [
         {
          "indices": [
           0,
           1,
           2,
           3,
           4,
           6
          ],
          "length": 12,
          "values": [
           26.0,
           29.0,
           34.0,
           12.0,
           5.0,
           1.0
          ],
          "vectorType": "sparse"
         },
         430
        ],
        [
         {
          "indices": [
           0,
           1,
           2,
           3,
           4,
           6
          ],
          "length": 12,
          "values": [
           26.0,
           29.0,
           34.0,
           13.0,
           4.0,
           1.0
          ],
          "vectorType": "sparse"
         },
         450
        ],
        [
         {
          "indices": [
           0,
           1,
           2,
           3,
           4,
           6
          ],
          "length": 12,
          "values": [
           26.0,
           29.0,
           34.0,
           14.0,
           5.0,
           1.0
          ],
          "vectorType": "sparse"
         },
         500
        ],
        [
         {
          "indices": [
           0,
           1,
           2,
           3,
           4,
           6
          ],
          "length": 12,
          "values": [
           27.0,
           30.0,
           35.0,
           12.0,
           4.0,
           1.0
          ],
          "vectorType": "sparse"
         },
         390
        ],
        [
         {
          "indices": [
           0,
           1,
           2,
           3,
           4,
           6
          ],
          "length": 12,
          "values": [
           27.0,
           30.0,
           35.0,
           14.0,
           4.0,
           1.0
          ],
          "vectorType": "sparse"
         },
         450
        ],
        [
         {
          "indices": [
           0,
           1,
           2,
           3,
           4,
           6
          ],
          "length": 12,
          "values": [
           28.0,
           30.0,
           36.0,
           14.0,
           4.0,
           1.0
          ],
          "vectorType": "sparse"
         },
         500
        ],
        [
         {
          "indices": [
           0,
           1,
           2,
           3,
           4,
           6
          ],
          "length": 12,
          "values": [
           28.0,
           31.0,
           36.0,
           14.0,
           5.0,
           1.0
          ],
          "vectorType": "sparse"
         },
         475
        ],
        [
         {
          "indices": [
           0,
           1,
           2,
           3,
           4,
           6
          ],
          "length": 12,
          "values": [
           28.0,
           31.0,
           36.0,
           14.0,
           4.0,
           1.0
          ],
          "vectorType": "sparse"
         },
         500
        ],
        [
         {
          "indices": [
           0,
           1,
           2,
           3,
           4,
           6
          ],
          "length": 12,
          "values": [
           29.0,
           31.0,
           36.0,
           13.0,
           4.0,
           1.0
          ],
          "vectorType": "sparse"
         },
         500
        ],
        [
         {
          "indices": [
           0,
           1,
           2,
           3,
           4,
           6
          ],
          "length": 12,
          "values": [
           29.0,
           32.0,
           37.0,
           13.0,
           5.0,
           1.0
          ],
          "vectorType": "sparse"
         },
         340
        ],
        [
         {
          "indices": [
           0,
           1,
           2,
           3,
           4,
           6
          ],
          "length": 12,
          "values": [
           29.0,
           32.0,
           37.0,
           14.0,
           5.0,
           1.0
          ],
          "vectorType": "sparse"
         },
         600
        ],
        [
         {
          "indices": [
           0,
           1,
           2,
           3,
           4,
           6
          ],
          "length": 12,
          "values": [
           29.0,
           32.0,
           37.0,
           15.0,
           5.0,
           1.0
          ],
          "vectorType": "sparse"
         },
         600
        ],
        [
         {
          "indices": [
           0,
           1,
           2,
           3,
           4,
           6
          ],
          "length": 12,
          "values": [
           30.0,
           33.0,
           38.0,
           14.0,
           5.0,
           1.0
          ],
          "vectorType": "sparse"
         },
         700
        ],
        [
         {
          "indices": [
           0,
           1,
           2,
           3,
           4,
           6
          ],
          "length": 12,
          "values": [
           30.0,
           33.0,
           38.0,
           14.0,
           5.0,
           1.0
          ],
          "vectorType": "sparse"
         },
         700
        ],
        [
         {
          "indices": [
           0,
           1,
           2,
           3,
           4,
           6
          ],
          "length": 12,
          "values": [
           30.0,
           33.0,
           38.0,
           15.0,
           5.0,
           1.0
          ],
          "vectorType": "sparse"
         },
         610
        ],
        [
         {
          "indices": [
           0,
           1,
           2,
           3,
           4,
           6
          ],
          "length": 12,
          "values": [
           31.0,
           33.0,
           38.0,
           14.0,
           5.0,
           1.0
          ],
          "vectorType": "sparse"
         },
         650
        ],
        [
         {
          "indices": [
           0,
           1,
           2,
           3,
           4,
           6
          ],
          "length": 12,
          "values": [
           31.0,
           34.0,
           39.0,
           15.0,
           5.0,
           1.0
          ],
          "vectorType": "sparse"
         },
         575
        ],
        [
         {
          "indices": [
           0,
           1,
           2,
           3,
           4,
           6
          ],
          "length": 12,
          "values": [
           31.0,
           34.0,
           39.0,
           15.0,
           5.0,
           1.0
          ],
          "vectorType": "sparse"
         },
         685
        ],
        [
         {
          "indices": [
           0,
           1,
           2,
           3,
           4,
           6
          ],
          "length": 12,
          "values": [
           31.0,
           34.0,
           39.0,
           15.0,
           5.0,
           1.0
          ],
          "vectorType": "sparse"
         },
         620
        ],
        [
         {
          "indices": [
           0,
           1,
           2,
           3,
           4,
           6
          ],
          "length": 12,
          "values": [
           31.0,
           35.0,
           40.0,
           15.0,
           6.0,
           1.0
          ],
          "vectorType": "sparse"
         },
         680
        ],
        [
         {
          "indices": [
           0,
           1,
           2,
           3,
           4,
           6
          ],
          "length": 12,
          "values": [
           31.0,
           35.0,
           40.0,
           16.0,
           5.0,
           1.0
          ],
          "vectorType": "sparse"
         },
         700
        ],
        [
         {
          "indices": [
           0,
           1,
           2,
           3,
           4,
           6
          ],
          "length": 12,
          "values": [
           31.0,
           35.0,
           40.0,
           16.0,
           6.0,
           1.0
          ],
          "vectorType": "sparse"
         },
         725
        ],
        [
         {
          "indices": [
           0,
           1,
           2,
           3,
           4,
           6
          ],
          "length": 12,
          "values": [
           32.0,
           35.0,
           40.0,
           16.0,
           6.0,
           1.0
          ],
          "vectorType": "sparse"
         },
         720
        ],
        [
         {
          "indices": [
           0,
           1,
           2,
           3,
           4,
           6
          ],
          "length": 12,
          "values": [
           32.0,
           36.0,
           41.0,
           16.0,
           5.0,
           1.0
          ],
          "vectorType": "sparse"
         },
         714
        ],
        [
         {
          "indices": [
           0,
           1,
           2,
           3,
           4,
           6
          ],
          "length": 12,
          "values": [
           32.0,
           36.0,
           41.0,
           16.0,
           6.0,
           1.0
          ],
          "vectorType": "sparse"
         },
         850
        ],
        [
         {
          "indices": [
           0,
           1,
           2,
           3,
           4,
           6
          ],
          "length": 12,
          "values": [
           33.0,
           37.0,
           42.0,
           18.0,
           6.0,
           1.0
          ],
          "vectorType": "sparse"
         },
         1000
        ],
        [
         {
          "indices": [
           0,
           1,
           2,
           3,
           4,
           6
          ],
          "length": 12,
          "values": [
           35.0,
           38.0,
           44.0,
           18.0,
           6.0,
           1.0
          ],
          "vectorType": "sparse"
         },
         920
        ],
        [
         {
          "indices": [
           0,
           1,
           2,
           3,
           4,
           6
          ],
          "length": 12,
          "values": [
           35.0,
           38.0,
           44.0,
           18.0,
           6.0,
           1.0
          ],
          "vectorType": "sparse"
         },
         955
        ],
        [
         {
          "indices": [
           0,
           1,
           2,
           3,
           4,
           6
          ],
          "length": 12,
          "values": [
           36.0,
           39.0,
           45.0,
           18.0,
           6.0,
           1.0
          ],
          "vectorType": "sparse"
         },
         925
        ],
        [
         {
          "indices": [
           0,
           1,
           2,
           3,
           4,
           6
          ],
          "length": 12,
          "values": [
           37.0,
           41.0,
           45.0,
           18.0,
           6.0,
           1.0
          ],
          "vectorType": "sparse"
         },
         975
        ],
        [
         {
          "indices": [
           0,
           1,
           2,
           3,
           4,
           6
          ],
          "length": 12,
          "values": [
           38.0,
           41.0,
           46.0,
           17.0,
           6.0,
           1.0
          ],
          "vectorType": "sparse"
         },
         950
        ],
        [
         {
          "indices": [
           0,
           1,
           2,
           3,
           4,
           7
          ],
          "length": 12,
          "values": [
           12.0,
           14.0,
           16.0,
           4.0,
           2.0,
           1.0
          ],
          "vectorType": "sparse"
         },
         40
        ],
        [
         {
          "indices": [
           0,
           1,
           2,
           3,
           4,
           7
          ],
          "length": 12,
          "values": [
           16.0,
           18.0,
           20.0,
           5.0,
           2.0,
           1.0
          ],
          "vectorType": "sparse"
         },
         69
        ],
        [
         {
          "indices": [
           0,
           1,
           2,
           3,
           4,
           7
          ],
          "length": 12,
          "values": [
           17.0,
           18.0,
           21.0,
           5.0,
           2.0,
           1.0
          ],
          "vectorType": "sparse"
         },
         78
        ],
        [
         {
          "indices": [
           0,
           1,
           2,
           3,
           4,
           7
          ],
          "length": 12,
          "values": [
           18.0,
           19.0,
           22.0,
           5.0,
           3.0,
           1.0
          ],
          "vectorType": "sparse"
         },
         87
        ],
        [
         {
          "indices": [
           0,
           1,
           2,
           3,
           4,
           7
          ],
          "length": 12,
          "values": [
           18.0,
           20.0,
           22.0,
           6.0,
           3.0,
           1.0
          ],
          "vectorType": "sparse"
         },
         120
        ],
        [
         {
          "indices": [
           0,
           1,
           2,
           3,
           4,
           7
          ],
          "length": 12,
          "values": [
           19.0,
           20.0,
           22.0,
           6.0,
           3.0,
           1.0
          ],
          "vectorType": "sparse"
         },
         0
        ],
        [
         {
          "indices": [
           0,
           1,
           2,
           3,
           4,
           7
          ],
          "length": 12,
          "values": [
           19.0,
           20.0,
           23.0,
           6.0,
           3.0,
           1.0
          ],
          "vectorType": "sparse"
         },
         110
        ],
        [
         {
          "indices": [
           0,
           1,
           2,
           3,
           4,
           7
          ],
          "length": 12,
          "values": [
           19.0,
           21.0,
           23.0,
           6.0,
           3.0,
           1.0
          ],
          "vectorType": "sparse"
         },
         120
        ],
        [
         {
          "indices": [
           0,
           1,
           2,
           3,
           4,
           7
          ],
          "length": 12,
          "values": [
           20.0,
           22.0,
           24.0,
           5.0,
           3.0,
           1.0
          ],
          "vectorType": "sparse"
         },
         150
        ],
        [
         {
          "indices": [
           0,
           1,
           2,
           3,
           4,
           7
          ],
          "length": 12,
          "values": [
           20.0,
           22.0,
           24.0,
           6.0,
           3.0,
           1.0
          ],
          "vectorType": "sparse"
         },
         145
        ],
        [
         {
          "indices": [
           0,
           1,
           2,
           3,
           4,
           7
          ],
          "length": 12,
          "values": [
           20.0,
           22.0,
           25.0,
           7.0,
           3.0,
           1.0
          ],
          "vectorType": "sparse"
         },
         160
        ],
        [
         {
          "indices": [
           0,
           1,
           2,
           3,
           4,
           7
          ],
          "length": 12,
          "values": [
           21.0,
           22.0,
           25.0,
           6.0,
           3.0,
           1.0
          ],
          "vectorType": "sparse"
         },
         140
        ],
        [
         {
          "indices": [
           0,
           1,
           2,
           3,
           4,
           7
          ],
          "length": 12,
          "values": [
           21.0,
           22.0,
           25.0,
           6.0,
           3.0,
           1.0
          ],
          "vectorType": "sparse"
         },
         160
        ],
        [
         {
          "indices": [
           0,
           1,
           2,
           3,
           4,
           7
          ],
          "length": 12,
          "values": [
           22.0,
           24.0,
           27.0,
           7.0,
           3.0,
           1.0
          ],
          "vectorType": "sparse"
         },
         169
        ],
        [
         {
          "indices": [
           0,
           1,
           2,
           3,
           4,
           7
          ],
          "length": 12,
          "values": [
           22.0,
           23.0,
           26.0,
           6.0,
           3.0,
           1.0
          ],
          "vectorType": "sparse"
         },
         161
        ],
        [
         {
          "indices": [
           0,
           1,
           2,
           3,
           4,
           7
          ],
          "length": 12,
          "values": [
           22.0,
           23.0,
           26.0,
           7.0,
           4.0,
           1.0
          ],
          "vectorType": "sparse"
         },
         200
        ],
        [
         {
          "indices": [
           0,
           1,
           2,
           3,
           4,
           7
          ],
          "length": 12,
          "values": [
           23.0,
           25.0,
           27.0,
           7.0,
           3.0,
           1.0
          ],
          "vectorType": "sparse"
         },
         180
        ],
        [
         {
          "indices": [
           0,
           1,
           2,
           3,
           4,
           7
          ],
          "length": 12,
          "values": [
           24.0,
           26.0,
           29.0,
           8.0,
           4.0,
           1.0
          ],
          "vectorType": "sparse"
         },
         290
        ],
        [
         {
          "indices": [
           0,
           1,
           2,
           3,
           4,
           7
          ],
          "length": 12,
          "values": [
           25.0,
           27.0,
           30.0,
           8.0,
           4.0,
           1.0
          ],
          "vectorType": "sparse"
         },
         272
        ],
        [
         {
          "indices": [
           0,
           1,
           2,
           3,
           4,
           7
          ],
          "length": 12,
          "values": [
           29.0,
           31.0,
           35.0,
           9.0,
           5.0,
           1.0
          ],
          "vectorType": "sparse"
         },
         390
        ],
        [
         {
          "indices": [
           0,
           1,
           2,
           3,
           4,
           11
          ],
          "length": 12,
          "values": [
           23.0,
           26.0,
           28.0,
           8.0,
           4.0,
           1.0
          ],
          "vectorType": "sparse"
         },
         270
        ],
        [
         {
          "indices": [
           0,
           1,
           2,
           3,
           4,
           11
          ],
          "length": 12,
          "values": [
           24.0,
           26.0,
           29.0,
           8.0,
           4.0,
           1.0
          ],
          "vectorType": "sparse"
         },
         270
        ],
        [
         {
          "indices": [
           0,
           1,
           2,
           3,
           4,
           11
          ],
          "length": 12,
          "values": [
           25.0,
           28.0,
           30.0,
           8.0,
           4.0,
           1.0
          ],
          "vectorType": "sparse"
         },
         306
        ],
        [
         {
          "indices": [
           0,
           1,
           2,
           3,
           4,
           11
          ],
          "length": 12,
          "values": [
           28.0,
           31.0,
           34.0,
           10.0,
           6.0,
           1.0
          ],
          "vectorType": "sparse"
         },
         540
        ],
        [
         {
          "indices": [
           0,
           1,
           2,
           3,
           4,
           11
          ],
          "length": 12,
          "values": [
           33.0,
           36.0,
           39.0,
           11.0,
           6.0,
           1.0
          ],
          "vectorType": "sparse"
         },
         800
        ],
        [
         {
          "indices": [
           0,
           1,
           2,
           3,
           4,
           11
          ],
          "length": 12,
          "values": [
           37.0,
           40.0,
           43.0,
           12.0,
           6.0,
           1.0
          ],
          "vectorType": "sparse"
         },
         1000
        ],
        [
         {
          "indices": [
           0,
           1,
           2,
           3,
           4,
           10
          ],
          "length": 12,
          "values": [
           13.0,
           14.0,
           16.0,
           6.0,
           2.0,
           1.0
          ],
          "vectorType": "sparse"
         },
         55
        ],
        [
         {
          "indices": [
           0,
           1,
           2,
           3,
           4,
           10
          ],
          "length": 12,
          "values": [
           14.0,
           15.0,
           17.0,
           6.0,
           2.0,
           1.0
          ],
          "vectorType": "sparse"
         },
         60
        ],
        [
         {
          "indices": [
           0,
           1,
           2,
           3,
           4,
           10
          ],
          "length": 12,
          "values": [
           16.0,
           17.0,
           19.0,
           7.0,
           2.0,
           1.0
          ],
          "vectorType": "sparse"
         },
         90
        ],
        [
         {
          "indices": [
           0,
           1,
           2,
           3,
           4,
           10
          ],
          "length": 12,
          "values": [
           17.0,
           19.0,
           21.0,
           8.0,
           2.0,
           1.0
          ],
          "vectorType": "sparse"
         },
         120
        ],
        [
         {
          "indices": [
           0,
           1,
           2,
           3,
           4,
           10
          ],
          "length": 12,
          "values": [
           18.0,
           20.0,
           22.0,
           8.0,
           3.0,
           1.0
          ],
          "vectorType": "sparse"
         },
         150
        ],
        [
         {
          "indices": [
           0,
           1,
           2,
           3,
           4,
           10
          ],
          "length": 12,
          "values": [
           19.0,
           20.0,
           23.0,
           8.0,
           3.0,
           1.0
          ],
          "vectorType": "sparse"
         },
         140
        ],
        [
         {
          "indices": [
           0,
           1,
           2,
           3,
           4,
           10
          ],
          "length": 12,
          "values": [
           19.0,
           20.0,
           23.0,
           9.0,
           3.0,
           1.0
          ],
          "vectorType": "sparse"
         },
         170
        ],
        [
         {
          "indices": [
           0,
           1,
           2,
           3,
           4,
           10
          ],
          "length": 12,
          "values": [
           19.0,
           21.0,
           24.0,
           9.0,
           3.0,
           1.0
          ],
          "vectorType": "sparse"
         },
         145
        ],
        [
         {
          "indices": [
           0,
           1,
           2,
           3,
           4,
           10
          ],
          "length": 12,
          "values": [
           21.0,
           23.0,
           25.0,
           10.0,
           3.0,
           1.0
          ],
          "vectorType": "sparse"
         },
         200
        ],
        [
         {
          "indices": [
           0,
           1,
           2,
           3,
           4,
           10
          ],
          "length": 12,
          "values": [
           23.0,
           25.0,
           28.0,
           11.0,
           4.0,
           1.0
          ],
          "vectorType": "sparse"
         },
         273
        ],
        [
         {
          "indices": [
           0,
           1,
           2,
           3,
           4,
           10
          ],
          "length": 12,
          "values": [
           24.0,
           26.0,
           29.0,
           11.0,
           4.0,
           1.0
          ],
          "vectorType": "sparse"
         },
         300
        ],
        [
         {
          "indices": [
           0,
           1,
           2,
           3,
           4,
           5
          ],
          "length": 12,
          "values": [
           7.0,
           8.0,
           8.0,
           2.0,
           1.0,
           1.0
          ],
          "vectorType": "sparse"
         },
         5
        ],
        [
         {
          "indices": [
           0,
           1,
           2,
           3,
           4,
           5
          ],
          "length": 12,
          "values": [
           12.0,
           13.0,
           14.0,
           3.0,
           1.0,
           1.0
          ],
          "vectorType": "sparse"
         },
         32
        ],
        [
         {
          "indices": [
           0,
           1,
           2,
           3,
           4,
           5
          ],
          "length": 12,
          "values": [
           13.0,
           15.0,
           16.0,
           3.0,
           2.0,
           1.0
          ],
          "vectorType": "sparse"
         },
         40
        ],
        [
         {
          "indices": [
           0,
           1,
           2,
           3,
           4,
           5
          ],
          "length": 12,
          "values": [
           15.0,
           16.0,
           17.0,
           4.0,
           2.0,
           1.0
          ],
          "vectorType": "sparse"
         },
         51
        ],
        [
         {
          "indices": [
           0,
           1,
           2,
           3,
           4,
           5
          ],
          "length": 12,
          "values": [
           15.0,
           17.0,
           18.0,
           4.0,
           2.0,
           1.0
          ],
          "vectorType": "sparse"
         },
         70
        ],
        [
         {
          "indices": [
           0,
           1,
           2,
           3,
           4,
           5
          ],
          "length": 12,
          "values": [
           16.0,
           18.0,
           19.0,
           5.0,
           3.0,
           1.0
          ],
          "vectorType": "sparse"
         },
         100
        ],
        [
         {
          "indices": [
           0,
           1,
           2,
           3,
           4,
           5
          ],
          "length": 12,
          "values": [
           16.0,
           18.0,
           19.0,
           5.0,
           3.0,
           1.0
          ],
          "vectorType": "sparse"
         },
         78
        ],
        [
         {
          "indices": [
           0,
           1,
           2,
           3,
           4,
           5
          ],
          "length": 12,
          "values": [
           17.0,
           19.0,
           20.0,
           5.0,
           3.0,
           1.0
          ],
          "vectorType": "sparse"
         },
         80
        ],
        [
         {
          "indices": [
           0,
           1,
           2,
           3,
           4,
           5
          ],
          "length": 12,
          "values": [
           17.0,
           19.0,
           20.0,
           5.0,
           3.0,
           1.0
          ],
          "vectorType": "sparse"
         },
         85
        ],
        [
         {
          "indices": [
           0,
           1,
           2,
           3,
           4,
           5
          ],
          "length": 12,
          "values": [
           18.0,
           20.0,
           21.0,
           5.0,
           2.0,
           1.0
          ],
          "vectorType": "sparse"
         },
         85
        ],
        [
         {
          "indices": [
           0,
           1,
           2,
           3,
           4,
           5
          ],
          "length": 12,
          "values": [
           19.0,
           21.0,
           22.0,
           5.0,
           3.0,
           1.0
          ],
          "vectorType": "sparse"
         },
         110
        ],
        [
         {
          "indices": [
           0,
           1,
           2,
           3,
           4,
           5
          ],
          "length": 12,
          "values": [
           19.0,
           21.0,
           22.0,
           5.0,
           3.0,
           1.0
          ],
          "vectorType": "sparse"
         },
         115
        ],
        [
         {
          "indices": [
           0,
           1,
           2,
           3,
           4,
           5
          ],
          "length": 12,
          "values": [
           19.0,
           21.0,
           22.0,
           5.0,
           3.0,
           1.0
          ],
          "vectorType": "sparse"
         },
         125
        ],
        [
         {
          "indices": [
           0,
           1,
           2,
           3,
           4,
           5
          ],
          "length": 12,
          "values": [
           19.0,
           21.0,
           22.0,
           6.0,
           3.0,
           1.0
          ],
          "vectorType": "sparse"
         },
         130
        ],
        [
         {
          "indices": [
           0,
           1,
           2,
           3,
           4,
           5
          ],
          "length": 12,
          "values": [
           20.0,
           22.0,
           23.0,
           6.0,
           3.0,
           1.0
          ],
          "vectorType": "sparse"
         },
         120
        ],
        [
         {
          "indices": [
           0,
           1,
           2,
           3,
           4,
           5
          ],
          "length": 12,
          "values": [
           20.0,
           22.0,
           23.0,
           5.0,
           3.0,
           1.0
          ],
          "vectorType": "sparse"
         },
         120
        ],
        [
         {
          "indices": [
           0,
           1,
           2,
           3,
           4,
           5
          ],
          "length": 12,
          "values": [
           20.0,
           22.0,
           23.0,
           6.0,
           3.0,
           1.0
          ],
          "vectorType": "sparse"
         },
         130
        ],
        [
         {
          "indices": [
           0,
           1,
           2,
           3,
           4,
           5
          ],
          "length": 12,
          "values": [
           20.0,
           22.0,
           23.0,
           5.0,
           3.0,
           1.0
          ],
          "vectorType": "sparse"
         },
         135
        ],
        [
         {
          "indices": [
           0,
           1,
           2,
           3,
           4,
           5
          ],
          "length": 12,
          "values": [
           20.0,
           22.0,
           23.0,
           5.0,
           3.0,
           1.0
          ],
          "vectorType": "sparse"
         },
         110
        ],
        [
         {
          "indices": [
           0,
           1,
           2,
           3,
           4,
           5
          ],
          "length": 12,
          "values": [
           20.0,
           22.0,
           24.0,
           5.0,
           3.0,
           1.0
          ],
          "vectorType": "sparse"
         },
         130
        ],
        [
         {
          "indices": [
           0,
           1,
           2,
           3,
           4,
           5
          ],
          "length": 12,
          "values": [
           20.0,
           22.0,
           24.0,
           6.0,
           3.0,
           1.0
          ],
          "vectorType": "sparse"
         },
         150
        ],
        [
         {
          "indices": [
           0,
           1,
           2,
           3,
           4,
           5
          ],
          "length": 12,
          "values": [
           20.0,
           22.0,
           24.0,
           5.0,
           3.0,
           1.0
          ],
          "vectorType": "sparse"
         },
         145
        ],
        [
         {
          "indices": [
           0,
           1,
           2,
           3,
           4,
           5
          ],
          "length": 12,
          "values": [
           21.0,
           23.0,
           24.0,
           5.0,
           3.0,
           1.0
          ],
          "vectorType": "sparse"
         },
         150
        ],
        [
         {
          "indices": [
           0,
           1,
           2,
           3,
           4,
           5
          ],
          "length": 12,
          "values": [
           21.0,
           23.0,
           25.0,
           6.0,
           3.0,
           1.0
          ],
          "vectorType": "sparse"
         },
         170
        ],
        [
         {
          "indices": [
           0,
           1,
           2,
           3,
           4,
           5
          ],
          "length": 12,
          "values": [
           22.0,
           24.0,
           25.0,
           7.0,
           3.0,
           1.0
          ],
          "vectorType": "sparse"
         },
         225
        ],
        [
         {
          "indices": [
           0,
           1,
           2,
           3,
           4,
           5
          ],
          "length": 12,
          "values": [
           22.0,
           24.0,
           25.0,
           6.0,
           3.0,
           1.0
          ],
          "vectorType": "sparse"
         },
         145
        ],
        [
         {
          "indices": [
           0,
           1,
           2,
           3,
           4,
           5
          ],
          "length": 12,
          "values": [
           22.0,
           24.0,
           26.0,
           6.0,
           4.0,
           1.0
          ],
          "vectorType": "sparse"
         },
         188
        ],
        [
         {
          "indices": [
           0,
           1,
           2,
           3,
           4,
           5
          ],
          "length": 12,
          "values": [
           23.0,
           25.0,
           26.0,
           6.0,
           3.0,
           1.0
          ],
          "vectorType": "sparse"
         },
         180
        ],
        [
         {
          "indices": [
           0,
           1,
           2,
           3,
           4,
           5
          ],
          "length": 12,
          "values": [
           23.0,
           25.0,
           27.0,
           6.0,
           4.0,
           1.0
          ],
          "vectorType": "sparse"
         },
         197
        ],
        [
         {
          "indices": [
           0,
           1,
           2,
           3,
           4,
           5
          ],
          "length": 12,
          "values": [
           25.0,
           26.0,
           28.0,
           7.0,
           4.0,
           1.0
          ],
          "vectorType": "sparse"
         },
         218
        ],
        [
         {
          "indices": [
           0,
           1,
           2,
           3,
           4,
           5
          ],
          "length": 12,
          "values": [
           25.0,
           27.0,
           28.0,
           8.0,
           5.0,
           1.0
          ],
          "vectorType": "sparse"
         },
         300
        ],
        [
         {
          "indices": [
           0,
           1,
           2,
           3,
           4,
           5
          ],
          "length": 12,
          "values": [
           25.0,
           27.0,
           28.0,
           7.0,
           4.0,
           1.0
          ],
          "vectorType": "sparse"
         },
         260
        ],
        [
         {
          "indices": [
           0,
           1,
           2,
           3,
           4,
           5
          ],
          "length": 12,
          "values": [
           25.0,
           27.0,
           28.0,
           7.0,
           4.0,
           1.0
          ],
          "vectorType": "sparse"
         },
         265
        ],
        [
         {
          "indices": [
           0,
           1,
           2,
           3,
           4,
           5
          ],
          "length": 12,
          "values": [
           25.0,
           27.0,
           28.0,
           7.0,
           4.0,
           1.0
          ],
          "vectorType": "sparse"
         },
         250
        ],
        [
         {
          "indices": [
           0,
           1,
           2,
           3,
           4,
           5
          ],
          "length": 12,
          "values": [
           25.0,
           28.0,
           29.0,
           7.0,
           4.0,
           1.0
          ],
          "vectorType": "sparse"
         },
         250
        ],
        [
         {
          "indices": [
           0,
           1,
           2,
           3,
           4,
           5
          ],
          "length": 12,
          "values": [
           26.0,
           28.0,
           30.0,
           7.0,
           4.0,
           1.0
          ],
          "vectorType": "sparse"
         },
         300
        ],
        [
         {
          "indices": [
           0,
           1,
           2,
           3,
           4,
           5
          ],
          "length": 12,
          "values": [
           27.0,
           30.0,
           31.0,
           7.0,
           4.0,
           1.0
          ],
          "vectorType": "sparse"
         },
         320
        ],
        [
         {
          "indices": [
           0,
           1,
           2,
           3,
           4,
           5
          ],
          "length": 12,
          "values": [
           30.0,
           32.0,
           34.0,
           10.0,
           6.0,
           1.0
          ],
          "vectorType": "sparse"
         },
         514
        ],
        [
         {
          "indices": [
           0,
           1,
           2,
           3,
           4,
           5
          ],
          "length": 12,
          "values": [
           32.0,
           34.0,
           36.0,
           10.0,
           6.0,
           1.0
          ],
          "vectorType": "sparse"
         },
         556
        ],
        [
         {
          "indices": [
           0,
           1,
           2,
           3,
           4,
           5
          ],
          "length": 12,
          "values": [
           32.0,
           35.0,
           37.0,
           11.0,
           7.0,
           1.0
          ],
          "vectorType": "sparse"
         },
         840
        ],
        [
         {
          "indices": [
           0,
           1,
           2,
           3,
           4,
           5
          ],
          "length": 12,
          "values": [
           34.0,
           36.0,
           39.0,
           10.0,
           6.0,
           1.0
          ],
          "vectorType": "sparse"
         },
         685
        ],
        [
         {
          "indices": [
           0,
           1,
           2,
           3,
           4,
           5
          ],
          "length": 12,
          "values": [
           34.0,
           36.0,
           38.0,
           10.0,
           6.0,
           1.0
          ],
          "vectorType": "sparse"
         },
         700
        ],
        [
         {
          "indices": [
           0,
           1,
           2,
           3,
           4,
           5
          ],
          "length": 12,
          "values": [
           34.0,
           37.0,
           39.0,
           10.0,
           6.0,
           1.0
          ],
          "vectorType": "sparse"
         },
         700
        ],
        [
         {
          "indices": [
           0,
           1,
           2,
           3,
           4,
           5
          ],
          "length": 12,
          "values": [
           34.0,
           37.0,
           39.0,
           10.0,
           6.0,
           1.0
          ],
          "vectorType": "sparse"
         },
         690
        ],
        [
         {
          "indices": [
           0,
           1,
           2,
           3,
           4,
           5
          ],
          "length": 12,
          "values": [
           36.0,
           39.0,
           41.0,
           11.0,
           7.0,
           1.0
          ],
          "vectorType": "sparse"
         },
         900
        ],
        [
         {
          "indices": [
           0,
           1,
           2,
           3,
           4,
           5
          ],
          "length": 12,
          "values": [
           36.0,
           39.0,
           41.0,
           11.0,
           6.0,
           1.0
          ],
          "vectorType": "sparse"
         },
         650
        ],
        [
         {
          "indices": [
           0,
           1,
           2,
           3,
           4,
           5
          ],
          "length": 12,
          "values": [
           36.0,
           39.0,
           41.0,
           12.0,
           7.0,
           1.0
          ],
          "vectorType": "sparse"
         },
         820
        ],
        [
         {
          "indices": [
           0,
           1,
           2,
           3,
           4,
           5
          ],
          "length": 12,
          "values": [
           36.0,
           40.0,
           42.0,
           11.0,
           7.0,
           1.0
          ],
          "vectorType": "sparse"
         },
         850
        ],
        [
         {
          "indices": [
           0,
           1,
           2,
           3,
           4,
           5
          ],
          "length": 12,
          "values": [
           37.0,
           40.0,
           42.0,
           11.0,
           7.0,
           1.0
          ],
          "vectorType": "sparse"
         },
         900
        ],
        [
         {
          "indices": [
           0,
           1,
           2,
           3,
           4,
           5
          ],
          "length": 12,
          "values": [
           37.0,
           40.0,
           42.0,
           12.0,
           7.0,
           1.0
          ],
          "vectorType": "sparse"
         },
         1015
        ],
        [
         {
          "indices": [
           0,
           1,
           2,
           3,
           4,
           5
          ],
          "length": 12,
          "values": [
           37.0,
           40.0,
           42.0,
           11.0,
           6.0,
           1.0
          ],
          "vectorType": "sparse"
         },
         820
        ],
        [
         {
          "indices": [
           0,
           1,
           2,
           3,
           4,
           5
          ],
          "length": 12,
          "values": [
           39.0,
           42.0,
           44.0,
           12.0,
           6.0,
           1.0
          ],
          "vectorType": "sparse"
         },
         1100
        ],
        [
         {
          "indices": [
           0,
           1,
           2,
           3,
           4,
           5
          ],
          "length": 12,
          "values": [
           39.0,
           43.0,
           45.0,
           11.0,
           7.0,
           1.0
          ],
          "vectorType": "sparse"
         },
         1000
        ],
        [
         {
          "indices": [
           0,
           1,
           2,
           3,
           4,
           5
          ],
          "length": 12,
          "values": [
           40.0,
           43.0,
           45.0,
           12.0,
           7.0,
           1.0
          ],
          "vectorType": "sparse"
         },
         1100
        ],
        [
         {
          "indices": [
           0,
           1,
           2,
           3,
           4,
           5
          ],
          "length": 12,
          "values": [
           40.0,
           43.0,
           46.0,
           12.0,
           8.0,
           1.0
          ],
          "vectorType": "sparse"
         },
         1000
        ],
        [
         {
          "indices": [
           0,
           1,
           2,
           3,
           4,
           5
          ],
          "length": 12,
          "values": [
           41.0,
           44.0,
           46.0,
           12.0,
           7.0,
           1.0
          ],
          "vectorType": "sparse"
         },
         1000
        ],
        [
         {
          "indices": [
           0,
           1,
           2,
           3,
           4,
           8
          ],
          "length": 12,
          "values": [
           30.0,
           32.0,
           34.0,
           5.0,
           3.0,
           1.0
          ],
          "vectorType": "sparse"
         },
         200
        ],
        [
         {
          "indices": [
           0,
           1,
           2,
           3,
           4,
           8
          ],
          "length": 12,
          "values": [
           31.0,
           34.0,
           37.0,
           5.0,
           4.0,
           1.0
          ],
          "vectorType": "sparse"
         },
         300
        ],
        [
         {
          "indices": [
           0,
           1,
           2,
           3,
           4,
           8
          ],
          "length": 12,
          "values": [
           32.0,
           35.0,
           38.0,
           5.0,
           4.0,
           1.0
          ],
          "vectorType": "sparse"
         },
         300
        ],
        [
         {
          "indices": [
           0,
           1,
           2,
           3,
           4,
           8
          ],
          "length": 12,
          "values": [
           34.0,
           37.0,
           39.0,
           6.0,
           4.0,
           1.0
          ],
          "vectorType": "sparse"
         },
         300
        ],
        [
         {
          "indices": [
           0,
           1,
           2,
           3,
           4,
           8
          ],
          "length": 12,
          "values": [
           35.0,
           38.0,
           40.0,
           7.0,
           4.0,
           1.0
          ],
          "vectorType": "sparse"
         },
         430
        ],
        [
         {
          "indices": [
           0,
           1,
           2,
           3,
           4,
           8
          ],
          "length": 12,
          "values": [
           36.0,
           38.0,
           41.0,
           6.0,
           3.0,
           1.0
          ],
          "vectorType": "sparse"
         },
         345
        ],
        [
         {
          "indices": [
           0,
           1,
           2,
           3,
           4,
           8
          ],
          "length": 12,
          "values": [
           40.0,
           42.0,
           45.0,
           7.0,
           4.0,
           1.0
          ],
          "vectorType": "sparse"
         },
         456
        ],
        [
         {
          "indices": [
           0,
           1,
           2,
           3,
           4,
           8
          ],
          "length": 12,
          "values": [
           40.0,
           42.0,
           45.0,
           6.0,
           4.0,
           1.0
          ],
          "vectorType": "sparse"
         },
         510
        ],
        [
         {
          "indices": [
           0,
           1,
           2,
           3,
           4,
           8
          ],
          "length": 12,
          "values": [
           40.0,
           43.0,
           45.0,
           7.0,
           5.0,
           1.0
          ],
          "vectorType": "sparse"
         },
         540
        ],
        [
         {
          "indices": [
           0,
           1,
           2,
           3,
           4,
           8
          ],
          "length": 12,
          "values": [
           42.0,
           45.0,
           48.0,
           6.0,
           4.0,
           1.0
          ],
          "vectorType": "sparse"
         },
         500
        ],
        [
         {
          "indices": [
           0,
           1,
           2,
           3,
           4,
           8
          ],
          "length": 12,
          "values": [
           43.0,
           46.0,
           48.0,
           7.0,
           4.0,
           1.0
          ],
          "vectorType": "sparse"
         },
         567
        ],
        [
         {
          "indices": [
           0,
           1,
           2,
           3,
           4,
           8
          ],
          "length": 12,
          "values": [
           44.0,
           48.0,
           51.0,
           7.0,
           5.0,
           1.0
          ],
          "vectorType": "sparse"
         },
         770
        ],
        [
         {
          "indices": [
           0,
           1,
           2,
           3,
           4,
           8
          ],
          "length": 12,
          "values": [
           48.0,
           51.0,
           55.0,
           8.0,
           6.0,
           1.0
          ],
          "vectorType": "sparse"
         },
         950
        ],
        [
         {
          "indices": [
           0,
           1,
           2,
           3,
           4,
           8
          ],
          "length": 12,
          "values": [
           52.0,
           56.0,
           59.0,
           10.0,
           6.0,
           1.0
          ],
          "vectorType": "sparse"
         },
         1250
        ],
        [
         {
          "indices": [
           0,
           1,
           2,
           3,
           4,
           8
          ],
          "length": 12,
          "values": [
           56.0,
           60.0,
           64.0,
           9.0,
           6.0,
           1.0
          ],
          "vectorType": "sparse"
         },
         1600
        ],
        [
         {
          "indices": [
           0,
           1,
           2,
           3,
           4,
           8
          ],
          "length": 12,
          "values": [
           56.0,
           60.0,
           64.0,
           9.0,
           6.0,
           1.0
          ],
          "vectorType": "sparse"
         },
         1550
        ],
        [
         {
          "indices": [
           0,
           1,
           2,
           3,
           4,
           8
          ],
          "length": 12,
          "values": [
           59.0,
           63.0,
           68.0,
           10.0,
           7.0,
           1.0
          ],
          "vectorType": "sparse"
         },
         1650
        ],
        [
         {
          "indices": [
           0,
           1,
           2,
           3,
           4,
           9
          ],
          "length": 12,
          "values": [
           9.0,
           9.0,
           10.0,
           1.0,
           1.0,
           1.0
          ],
          "vectorType": "sparse"
         },
         6
        ],
        [
         {
          "indices": [
           0,
           1,
           2,
           3,
           4,
           9
          ],
          "length": 12,
          "values": [
           10.0,
           10.0,
           11.0,
           1.0,
           1.0,
           1.0
          ],
          "vectorType": "sparse"
         },
         7
        ],
        [
         {
          "indices": [
           0,
           1,
           2,
           3,
           4,
           9
          ],
          "length": 12,
          "values": [
           10.0,
           10.0,
           11.0,
           1.0,
           1.0,
           1.0
          ],
          "vectorType": "sparse"
         },
         7
        ],
        [
         {
          "indices": [
           0,
           1,
           2,
           3,
           4,
           9
          ],
          "length": 12,
          "values": [
           10.0,
           11.0,
           12.0,
           2.0,
           1.0,
           1.0
          ],
          "vectorType": "sparse"
         },
         9
        ],
        [
         {
          "indices": [
           0,
           1,
           2,
           3,
           4,
           9
          ],
          "length": 12,
          "values": [
           10.0,
           11.0,
           12.0,
           2.0,
           1.0,
           1.0
          ],
          "vectorType": "sparse"
         },
         9
        ],
        [
         {
          "indices": [
           0,
           1,
           2,
           3,
           4,
           9
          ],
          "length": 12,
          "values": [
           10.0,
           11.0,
           12.0,
           1.0,
           1.0,
           1.0
          ],
          "vectorType": "sparse"
         },
         8
        ],
        [
         {
          "indices": [
           0,
           1,
           2,
           3,
           4,
           9
          ],
          "length": 12,
          "values": [
           11.0,
           11.0,
           13.0,
           2.0,
           1.0,
           1.0
          ],
          "vectorType": "sparse"
         },
         10
        ],
        [
         {
          "indices": [
           0,
           1,
           2,
           3,
           4,
           9
          ],
          "length": 12,
          "values": [
           11.0,
           11.0,
           13.0,
           2.0,
           1.0,
           1.0
          ],
          "vectorType": "sparse"
         },
         9
        ],
        [
         {
          "indices": [
           0,
           1,
           2,
           3,
           4,
           9
          ],
          "length": 12,
          "values": [
           11.0,
           12.0,
           13.0,
           2.0,
           1.0,
           1.0
          ],
          "vectorType": "sparse"
         },
         9
        ],
        [
         {
          "indices": [
           0,
           1,
           2,
           3,
           4,
           9
          ],
          "length": 12,
          "values": [
           11.0,
           12.0,
           13.0,
           2.0,
           1.0,
           1.0
          ],
          "vectorType": "sparse"
         },
         12
        ],
        [
         {
          "indices": [
           0,
           1,
           2,
           3,
           4,
           9
          ],
          "length": 12,
          "values": [
           11.0,
           12.0,
           13.0,
           2.0,
           1.0,
           1.0
          ],
          "vectorType": "sparse"
         },
         13
        ],
        [
         {
          "indices": [
           0,
           1,
           2,
           3,
           4,
           9
          ],
          "length": 12,
          "values": [
           12.0,
           13.0,
           13.0,
           2.0,
           1.0,
           1.0
          ],
          "vectorType": "sparse"
         },
         12
        ],
        [
         {
          "indices": [
           0,
           1,
           2,
           3,
           4,
           9
          ],
          "length": 12,
          "values": [
           13.0,
           14.0,
           15.0,
           2.0,
           2.0,
           1.0
          ],
          "vectorType": "sparse"
         },
         19
        ],
        [
         {
          "indices": [
           0,
           1,
           2,
           3,
           4,
           9
          ],
          "length": 12,
          "values": [
           13.0,
           15.0,
           16.0,
           2.0,
           1.0,
           1.0
          ],
          "vectorType": "sparse"
         },
         19
        ]
       ],
       "datasetInfos": [],
       "dbfsResultPath": null,
       "isJsonSchema": true,
       "metadata": {},
       "overflow": false,
       "plotOptions": {
        "customPlotOptions": {},
        "displayType": "table",
        "pivotAggregation": null,
        "pivotColumns": null,
        "xColumns": null,
        "yColumns": null
       },
       "removedWidgets": [],
       "schema": [
        {
         "metadata": "{\"ml_attr\":{\"attrs\":{\"numeric\":[{\"idx\":0,\"name\":\"Length1\"},{\"idx\":1,\"name\":\"Length2\"},{\"idx\":2,\"name\":\"Length3\"},{\"idx\":3,\"name\":\"Height\"},{\"idx\":4,\"name\":\"Width\"},{\"idx\":5,\"name\":\"Species_Perch\"},{\"idx\":6,\"name\":\"Species_Bream\"},{\"idx\":7,\"name\":\"Species_Roach\"},{\"idx\":8,\"name\":\"Species_Pike\"},{\"idx\":9,\"name\":\"Species_Smelt\"},{\"idx\":10,\"name\":\"Species_Parkki\"},{\"idx\":11,\"name\":\"Species_Whitefish\"}]},\"num_attrs\":12}}",
         "name": "features",
         "type": "{\"type\":\"udt\",\"class\":\"org.apache.spark.ml.linalg.VectorUDT\",\"pyClass\":\"pyspark.ml.linalg.VectorUDT\",\"sqlType\":{\"type\":\"struct\",\"fields\":[{\"name\":\"type\",\"type\":\"byte\",\"nullable\":false,\"metadata\":{}},{\"name\":\"size\",\"type\":\"integer\",\"nullable\":true,\"metadata\":{}},{\"name\":\"indices\",\"type\":{\"type\":\"array\",\"elementType\":\"integer\",\"containsNull\":false},\"nullable\":true,\"metadata\":{}},{\"name\":\"values\",\"type\":{\"type\":\"array\",\"elementType\":\"double\",\"containsNull\":false},\"nullable\":true,\"metadata\":{}}]}}"
        },
        {
         "metadata": "{}",
         "name": "Weight",
         "type": "\"integer\""
        }
       ],
       "type": "table"
      }
     },
     "output_type": "display_data"
    }
   ],
   "source": [
    "# all features should be in one vector column\n",
    "from pyspark.ml.feature import VectorAssembler\n",
    "\n",
    "# define which cols are features and what the output column should be\n",
    "vectorAssembler = VectorAssembler(inputCols = ['Length1', 'Length2', 'Length3', 'Height', 'Width', 'Species_Perch', 'Species_Bream', 'Species_Roach', 'Species_Pike', 'Species_Smelt', 'Species_Parkki', 'Species_Whitefish'], outputCol = 'features')\n",
    "\n",
    "# apply to df\n",
    "vdf = vectorAssembler.transform(df)\n",
    "\n",
    "# select the features column and the weight coumn\n",
    "vdf = vdf.select(['features', 'Weight'])\n",
    "\n",
    "display(vdf)"
   ]
  },
  {
   "cell_type": "markdown",
   "metadata": {
    "application/vnd.databricks.v1+cell": {
     "cellMetadata": {
      "byteLimit": 2048000,
      "rowLimit": 10000
     },
     "inputWidgets": {},
     "nuid": "93915654-1d5d-48e8-b283-6df68415371d",
     "showTitle": false,
     "title": ""
    }
   },
   "source": [
    "#### MLflow Autolog for Tracking\n",
    "The logging function mlflow.autolog() allows for easy pyspark.ml model tracking in DataBricks. Since we are using pyspark.ml, the code in Cmd 9 connects your model to the MLflow experiments tab on the right panel. \n",
    "\n",
    "Notice that after running Cmd 9 and Cmd 10, a green dot appears on the MLflow experiments tab. Click on the tab and notice the features that show up. As the model runs, you can expand the orange square to see the parameters that were set and expand the blue square to see the metrics that we defined (it may take a moment for the metrics to show up). This is what MLflow tracking is. Adjust any of the parameters and rerun the model. You will see a new run show up in the experiments tab, where you can see the new parameters and metrics. \n",
    "\n",
    "If you are using a different model library such as sklearn, the logging function will be different, like mlflow.sklearn.autolog(). [This link](https://mlflow.org/docs/latest/tracking.html#automatic-logging) shows the logging functions you'll need for different libraries."
   ]
  },
  {
   "cell_type": "code",
   "execution_count": 0,
   "metadata": {
    "application/vnd.databricks.v1+cell": {
     "cellMetadata": {
      "byteLimit": 2048000,
      "rowLimit": 10000
     },
     "inputWidgets": {},
     "nuid": "5fcb437e-b59a-4e15-9ac9-0822f5cf1864",
     "showTitle": false,
     "title": ""
    }
   },
   "outputs": [
    {
     "output_type": "stream",
     "name": "stdout",
     "output_type": "stream",
     "text": [
      "2023/06/18 02:49:21 INFO mlflow._spark_autologging: Autologging successfully enabled for spark.\n2023/06/18 02:49:21 INFO mlflow.tracking.fluent: Autologging successfully enabled for pyspark.\n2023/06/18 02:49:21 INFO mlflow.tracking.fluent: Autologging successfully enabled for pyspark.ml.\n"
     ]
    }
   ],
   "source": [
    "mlflow.autolog()"
   ]
  },
  {
   "cell_type": "markdown",
   "metadata": {
    "application/vnd.databricks.v1+cell": {
     "cellMetadata": {
      "byteLimit": 2048000,
      "rowLimit": 10000
     },
     "inputWidgets": {},
     "nuid": "2074deee-a1b0-4695-9cb4-40caf7b1a5f5",
     "showTitle": false,
     "title": ""
    }
   },
   "source": [
    "#### The Model\n",
    "We are using a linear Regression model from pyspark.ml to predict the weights of fish."
   ]
  },
  {
   "cell_type": "code",
   "execution_count": 0,
   "metadata": {
    "application/vnd.databricks.v1+cell": {
     "cellMetadata": {
      "byteLimit": 2048000,
      "rowLimit": 10000
     },
     "inputWidgets": {},
     "nuid": "b3dfaa0a-cd37-42b4-b98c-fc82d1b2d742",
     "showTitle": false,
     "title": ""
    }
   },
   "outputs": [
    {
     "output_type": "stream",
     "name": "stdout",
     "output_type": "stream",
     "text": [
      "2023/06/18 02:49:22 INFO mlflow.utils.autologging_utils: Created MLflow autologging run with ID 'e91bafe2b9f24cfeb8e0c549248e83b5', which will track hyperparameters, performance metrics, model artifacts, and lineage information for the current pyspark.ml workflow\n2023/06/18 02:49:22 WARNING mlflow.data.spark_dataset: Failed to infer schema for Spark dataset. Exception: Unsupported Spark Type '<class 'pyspark.ml.linalg.VectorUDT'>', MLflow schema is only supported for scalar Spark types.\n2023/06/18 02:49:39 WARNING mlflow.pyspark.ml: Model inputs contain unsupported Spark data types: [StructField('features', VectorUDT(), True)]. Model signature is not logged.\n2023/06/18 02:49:49 INFO mlflow.spark: Inferring pip requirements by reloading the logged model from the databricks artifact repository, which can be time-consuming. To speed up, explicitly specify the conda_env or pip_requirements when calling log_model().\n2023/06/18 02:50:56 WARNING mlflow.data.spark_dataset: Failed to infer schema for Spark dataset. Exception: Unsupported Spark Type '<class 'pyspark.ml.linalg.VectorUDT'>', MLflow schema is only supported for scalar Spark types.\n2023/06/18 02:51:02 WARNING mlflow.data.spark_dataset: Failed to infer schema for Spark dataset. Exception: Unsupported Spark Type '<class 'pyspark.ml.linalg.VectorUDT'>', MLflow schema is only supported for scalar Spark types.\nOut[6]: 95.79737536112022"
     ]
    }
   ],
   "source": [
    "from pyspark.ml.regression import LinearRegression\n",
    "from pyspark.ml.evaluation import RegressionEvaluator\n",
    "\n",
    "# split to training and testing data\n",
    "splits = vdf.randomSplit([0.7, 0.3])\n",
    "train_df = splits[0]\n",
    "test_df = splits[1]\n",
    "\n",
    "# parameters\n",
    "maxIter = 15\n",
    "regParam = 0.2\n",
    "elasticNetParam = 0.9\n",
    "\n",
    "# model\n",
    "lr = LinearRegression(featuresCol = 'features', labelCol='Weight', maxIter = maxIter, regParam = regParam, elasticNetParam = elasticNetParam)\n",
    "lr_model = lr.fit(train_df)\n",
    "lr_predictions = lr_model.transform(test_df)\n",
    "\n",
    "# metrics must be defined in mllib, but sklearn automatically calculates them\n",
    "r2_metric = RegressionEvaluator(predictionCol=\"prediction\",labelCol=\"Weight\",metricName=\"r2\")\n",
    "r2_metric.evaluate(lr_predictions)\n",
    "rmse_metric = RegressionEvaluator(predictionCol=\"prediction\",labelCol=\"Weight\",metricName=\"rmse\")\n",
    "rmse_metric.evaluate(lr_predictions)"
   ]
  },
  {
   "cell_type": "code",
   "execution_count": 0,
   "metadata": {
    "application/vnd.databricks.v1+cell": {
     "cellMetadata": {
      "byteLimit": 2048000,
      "rowLimit": 10000
     },
     "inputWidgets": {},
     "nuid": "01900772-bbde-41e8-84a6-b4f8ac900d2f",
     "showTitle": false,
     "title": ""
    }
   },
   "outputs": [
    {
     "output_type": "display_data",
     "data": {
      "text/html": [
       "<style scoped>\n",
       "  .table-result-container {\n",
       "    max-height: 300px;\n",
       "    overflow: auto;\n",
       "  }\n",
       "  table, th, td {\n",
       "    border: 1px solid black;\n",
       "    border-collapse: collapse;\n",
       "  }\n",
       "  th, td {\n",
       "    padding: 5px;\n",
       "  }\n",
       "  th {\n",
       "    text-align: left;\n",
       "  }\n",
       "</style><div class='table-result-container'><table class='table-result'><thead style='background-color: white'><tr><th>features</th><th>Weight</th><th>prediction</th></tr></thead><tbody><tr><td>Map(vectorType -> sparse, length -> 12, indices -> List(0, 1, 2, 3, 4, 6), values -> List(26.0, 29.0, 34.0, 14.0, 5.0, 1.0))</td><td>500</td><td>475.77720752861535</td></tr><tr><td>Map(vectorType -> sparse, length -> 12, indices -> List(0, 1, 2, 3, 4, 6), values -> List(31.0, 34.0, 39.0, 15.0, 5.0, 1.0))</td><td>620</td><td>662.1406227269835</td></tr><tr><td>Map(vectorType -> sparse, length -> 12, indices -> List(0, 1, 2, 3, 4, 6), values -> List(31.0, 35.0, 40.0, 15.0, 6.0, 1.0))</td><td>680</td><td>694.0666852170376</td></tr><tr><td>Map(vectorType -> sparse, length -> 12, indices -> List(0, 1, 2, 3, 4, 6), values -> List(32.0, 35.0, 40.0, 16.0, 6.0, 1.0))</td><td>720</td><td>719.4333175596445</td></tr><tr><td>Map(vectorType -> sparse, length -> 12, indices -> List(0, 1, 2, 3, 4, 7), values -> List(12.0, 14.0, 16.0, 4.0, 2.0, 1.0))</td><td>40</td><td>-179.19058619988857</td></tr><tr><td>Map(vectorType -> sparse, length -> 12, indices -> List(0, 1, 2, 3, 4, 7), values -> List(18.0, 19.0, 22.0, 5.0, 3.0, 1.0))</td><td>87</td><td>40.26570719979816</td></tr><tr><td>Map(vectorType -> sparse, length -> 12, indices -> List(0, 1, 2, 3, 4, 7), values -> List(19.0, 21.0, 23.0, 6.0, 3.0, 1.0))</td><td>120</td><td>99.18650037238888</td></tr><tr><td>Map(vectorType -> sparse, length -> 12, indices -> List(0, 1, 2, 3, 4, 7), values -> List(20.0, 22.0, 24.0, 5.0, 3.0, 1.0))</td><td>150</td><td>121.14894442151149</td></tr><tr><td>Map(vectorType -> sparse, length -> 12, indices -> List(0, 1, 2, 3, 4, 7), values -> List(20.0, 22.0, 24.0, 6.0, 3.0, 1.0))</td><td>145</td><td>133.9074769136373</td></tr><tr><td>Map(vectorType -> sparse, length -> 12, indices -> List(0, 1, 2, 3, 4, 7), values -> List(20.0, 22.0, 25.0, 7.0, 3.0, 1.0))</td><td>160</td><td>157.33760195731406</td></tr><tr><td>Map(vectorType -> sparse, length -> 12, indices -> List(0, 1, 2, 3, 4, 7), values -> List(21.0, 22.0, 25.0, 6.0, 3.0, 1.0))</td><td>140</td><td>157.1871693156694</td></tr><tr><td>Map(vectorType -> sparse, length -> 12, indices -> List(0, 1, 2, 3, 4, 7), values -> List(21.0, 22.0, 25.0, 6.0, 3.0, 1.0))</td><td>160</td><td>157.1871693156694</td></tr><tr><td>Map(vectorType -> sparse, length -> 12, indices -> List(0, 1, 2, 3, 4, 7), values -> List(22.0, 23.0, 26.0, 6.0, 3.0, 1.0))</td><td>161</td><td>191.90814585691783</td></tr><tr><td>Map(vectorType -> sparse, length -> 12, indices -> List(0, 1, 2, 3, 4, 7), values -> List(23.0, 25.0, 27.0, 7.0, 3.0, 1.0))</td><td>180</td><td>250.82893902950843</td></tr><tr><td>Map(vectorType -> sparse, length -> 12, indices -> List(0, 1, 2, 3, 4, 7), values -> List(25.0, 27.0, 30.0, 8.0, 4.0, 1.0))</td><td>272</td><td>353.51420295496894</td></tr><tr><td>Map(vectorType -> sparse, length -> 12, indices -> List(0, 1, 2, 3, 4, 11), values -> List(25.0, 28.0, 30.0, 8.0, 4.0, 1.0))</td><td>306</td><td>381.9555065756648</td></tr><tr><td>Map(vectorType -> sparse, length -> 12, indices -> List(0, 1, 2, 3, 4, 11), values -> List(28.0, 31.0, 34.0, 10.0, 6.0, 1.0))</td><td>540</td><td>541.9334653337861</td></tr><tr><td>Map(vectorType -> sparse, length -> 12, indices -> List(0, 1, 2, 3, 4, 10), values -> List(16.0, 17.0, 19.0, 7.0, 2.0, 1.0))</td><td>90</td><td>29.357935488639214</td></tr><tr><td>Map(vectorType -> sparse, length -> 12, indices -> List(0, 1, 2, 3, 4, 11), values -> List(33.0, 36.0, 39.0, 11.0, 6.0, 1.0))</td><td>800</td><td>728.2968805321542</td></tr><tr><td>Map(vectorType -> sparse, length -> 12, indices -> List(0, 1, 2, 3, 4, 10), values -> List(24.0, 26.0, 29.0, 11.0, 4.0, 1.0))</td><td>300</td><td>410.57071862802206</td></tr><tr><td>Map(vectorType -> sparse, length -> 12, indices -> List(0, 1, 2, 3, 4, 5), values -> List(19.0, 21.0, 22.0, 5.0, 3.0, 1.0))</td><td>110</td><td>117.8226588173618</td></tr><tr><td>Map(vectorType -> sparse, length -> 12, indices -> List(0, 1, 2, 3, 4, 5), values -> List(20.0, 22.0, 23.0, 6.0, 3.0, 1.0))</td><td>130</td><td>165.30216785073617</td></tr><tr><td>Map(vectorType -> sparse, length -> 12, indices -> List(0, 1, 2, 3, 4, 5), values -> List(20.0, 22.0, 23.0, 5.0, 3.0, 1.0))</td><td>135</td><td>152.54363535861035</td></tr><tr><td>Map(vectorType -> sparse, length -> 12, indices -> List(0, 1, 2, 3, 4, 5), values -> List(20.0, 22.0, 24.0, 5.0, 3.0, 1.0))</td><td>130</td><td>163.2152279101614</td></tr><tr><td>Map(vectorType -> sparse, length -> 12, indices -> List(0, 1, 2, 3, 4, 5), values -> List(23.0, 25.0, 26.0, 6.0, 3.0, 1.0))</td><td>180</td><td>269.4650974744816</td></tr><tr><td>Map(vectorType -> sparse, length -> 12, indices -> List(0, 1, 2, 3, 4, 5), values -> List(23.0, 25.0, 27.0, 6.0, 4.0, 1.0))</td><td>197</td><td>289.9498758253193</td></tr><tr><td>Map(vectorType -> sparse, length -> 12, indices -> List(0, 1, 2, 3, 4, 5), values -> List(25.0, 26.0, 28.0, 7.0, 4.0, 1.0))</td><td>218</td><td>350.03748470917446</td></tr><tr><td>Map(vectorType -> sparse, length -> 12, indices -> List(0, 1, 2, 3, 4, 5), values -> List(25.0, 27.0, 28.0, 7.0, 4.0, 1.0))</td><td>265</td><td>361.4787688483908</td></tr><tr><td>Map(vectorType -> sparse, length -> 12, indices -> List(0, 1, 2, 3, 4, 5), values -> List(25.0, 27.0, 28.0, 8.0, 5.0, 1.0))</td><td>300</td><td>384.0504871398033</td></tr><tr><td>Map(vectorType -> sparse, length -> 12, indices -> List(0, 1, 2, 3, 4, 5), values -> List(26.0, 28.0, 30.0, 7.0, 4.0, 1.0))</td><td>300</td><td>406.8713379411903</td></tr><tr><td>Map(vectorType -> sparse, length -> 12, indices -> List(0, 1, 2, 3, 4, 5), values -> List(34.0, 36.0, 39.0, 10.0, 6.0, 1.0))</td><td>685</td><td>753.2127118976797</td></tr><tr><td>Map(vectorType -> sparse, length -> 12, indices -> List(0, 1, 2, 3, 4, 5), values -> List(36.0, 39.0, 41.0, 11.0, 6.0, 1.0))</td><td>650</td><td>846.854481611519</td></tr><tr><td>Map(vectorType -> sparse, length -> 12, indices -> List(0, 1, 2, 3, 4, 5), values -> List(36.0, 39.0, 41.0, 11.0, 7.0, 1.0))</td><td>900</td><td>856.6676674108056</td></tr><tr><td>Map(vectorType -> sparse, length -> 12, indices -> List(0, 1, 2, 3, 4, 5), values -> List(37.0, 40.0, 42.0, 11.0, 6.0, 1.0))</td><td>820</td><td>881.5754581527673</td></tr><tr><td>Map(vectorType -> sparse, length -> 12, indices -> List(0, 1, 2, 3, 4, 5), values -> List(37.0, 40.0, 42.0, 12.0, 7.0, 1.0))</td><td>1015</td><td>904.1471764441798</td></tr><tr><td>Map(vectorType -> sparse, length -> 12, indices -> List(0, 1, 2, 3, 4, 8), values -> List(35.0, 38.0, 40.0, 7.0, 4.0, 1.0))</td><td>430</td><td>486.10567641011846</td></tr><tr><td>Map(vectorType -> sparse, length -> 12, indices -> List(0, 1, 2, 3, 4, 8), values -> List(40.0, 42.0, 45.0, 6.0, 4.0, 1.0))</td><td>510</td><td>635.5107424850183</td></tr><tr><td>Map(vectorType -> sparse, length -> 12, indices -> List(0, 1, 2, 3, 4, 8), values -> List(40.0, 42.0, 45.0, 7.0, 4.0, 1.0))</td><td>456</td><td>648.2692749771444</td></tr><tr><td>Map(vectorType -> sparse, length -> 12, indices -> List(0, 1, 2, 3, 4, 8), values -> List(42.0, 45.0, 48.0, 6.0, 4.0, 1.0))</td><td>500</td><td>727.0655722582827</td></tr><tr><td>Map(vectorType -> sparse, length -> 12, indices -> List(0, 1, 2, 3, 4, 8), values -> List(43.0, 46.0, 48.0, 7.0, 4.0, 1.0))</td><td>567</td><td>763.8734887401059</td></tr><tr><td>Map(vectorType -> sparse, length -> 12, indices -> List(0, 1, 2, 3, 4, 8), values -> List(48.0, 51.0, 55.0, 8.0, 6.0, 1.0))</td><td>950</td><td>991.2064606401499</td></tr><tr><td>Map(vectorType -> sparse, length -> 12, indices -> List(0, 1, 2, 3, 4, 8), values -> List(56.0, 60.0, 64.0, 9.0, 6.0, 1.0))</td><td>1550</td><td>1303.8456821530303</td></tr><tr><td>Map(vectorType -> sparse, length -> 12, indices -> List(0, 1, 2, 3, 4, 9), values -> List(9.0, 9.0, 10.0, 1.0, 1.0, 1.0))</td><td>6</td><td>-82.87063290685194</td></tr><tr><td>Map(vectorType -> sparse, length -> 12, indices -> List(0, 1, 2, 3, 4, 9), values -> List(10.0, 10.0, 11.0, 1.0, 1.0, 1.0))</td><td>7</td><td>-48.14965636560339</td></tr><tr><td>Map(vectorType -> sparse, length -> 12, indices -> List(0, 1, 2, 3, 4, 9), values -> List(11.0, 11.0, 13.0, 2.0, 1.0, 1.0))</td><td>9</td><td>10.001445219321795</td></tr><tr><td>Map(vectorType -> sparse, length -> 12, indices -> List(0, 1, 2, 3, 4, 9), values -> List(11.0, 11.0, 13.0, 2.0, 1.0, 1.0))</td><td>10</td><td>10.001445219321795</td></tr><tr><td>Map(vectorType -> sparse, length -> 12, indices -> List(0, 1, 2, 3, 4, 9), values -> List(11.0, 12.0, 13.0, 2.0, 1.0, 1.0))</td><td>12</td><td>21.44272935853826</td></tr><tr><td>Map(vectorType -> sparse, length -> 12, indices -> List(0, 1, 2, 3, 4, 9), values -> List(12.0, 13.0, 13.0, 2.0, 1.0, 1.0))</td><td>12</td><td>45.49211334823565</td></tr></tbody></table></div>"
      ]
     },
     "metadata": {
      "application/vnd.databricks.v1+output": {
       "addedWidgets": {},
       "aggData": [],
       "aggError": "",
       "aggOverflow": false,
       "aggSchema": [],
       "aggSeriesLimitReached": false,
       "aggType": "",
       "arguments": {},
       "columnCustomDisplayInfos": {},
       "data": [
        [
         {
          "indices": [
           0,
           1,
           2,
           3,
           4,
           6
          ],
          "length": 12,
          "values": [
           26.0,
           29.0,
           34.0,
           14.0,
           5.0,
           1.0
          ],
          "vectorType": "sparse"
         },
         500,
         475.77720752861535
        ],
        [
         {
          "indices": [
           0,
           1,
           2,
           3,
           4,
           6
          ],
          "length": 12,
          "values": [
           31.0,
           34.0,
           39.0,
           15.0,
           5.0,
           1.0
          ],
          "vectorType": "sparse"
         },
         620,
         662.1406227269835
        ],
        [
         {
          "indices": [
           0,
           1,
           2,
           3,
           4,
           6
          ],
          "length": 12,
          "values": [
           31.0,
           35.0,
           40.0,
           15.0,
           6.0,
           1.0
          ],
          "vectorType": "sparse"
         },
         680,
         694.0666852170376
        ],
        [
         {
          "indices": [
           0,
           1,
           2,
           3,
           4,
           6
          ],
          "length": 12,
          "values": [
           32.0,
           35.0,
           40.0,
           16.0,
           6.0,
           1.0
          ],
          "vectorType": "sparse"
         },
         720,
         719.4333175596445
        ],
        [
         {
          "indices": [
           0,
           1,
           2,
           3,
           4,
           7
          ],
          "length": 12,
          "values": [
           12.0,
           14.0,
           16.0,
           4.0,
           2.0,
           1.0
          ],
          "vectorType": "sparse"
         },
         40,
         -179.19058619988857
        ],
        [
         {
          "indices": [
           0,
           1,
           2,
           3,
           4,
           7
          ],
          "length": 12,
          "values": [
           18.0,
           19.0,
           22.0,
           5.0,
           3.0,
           1.0
          ],
          "vectorType": "sparse"
         },
         87,
         40.26570719979816
        ],
        [
         {
          "indices": [
           0,
           1,
           2,
           3,
           4,
           7
          ],
          "length": 12,
          "values": [
           19.0,
           21.0,
           23.0,
           6.0,
           3.0,
           1.0
          ],
          "vectorType": "sparse"
         },
         120,
         99.18650037238888
        ],
        [
         {
          "indices": [
           0,
           1,
           2,
           3,
           4,
           7
          ],
          "length": 12,
          "values": [
           20.0,
           22.0,
           24.0,
           5.0,
           3.0,
           1.0
          ],
          "vectorType": "sparse"
         },
         150,
         121.14894442151149
        ],
        [
         {
          "indices": [
           0,
           1,
           2,
           3,
           4,
           7
          ],
          "length": 12,
          "values": [
           20.0,
           22.0,
           24.0,
           6.0,
           3.0,
           1.0
          ],
          "vectorType": "sparse"
         },
         145,
         133.9074769136373
        ],
        [
         {
          "indices": [
           0,
           1,
           2,
           3,
           4,
           7
          ],
          "length": 12,
          "values": [
           20.0,
           22.0,
           25.0,
           7.0,
           3.0,
           1.0
          ],
          "vectorType": "sparse"
         },
         160,
         157.33760195731406
        ],
        [
         {
          "indices": [
           0,
           1,
           2,
           3,
           4,
           7
          ],
          "length": 12,
          "values": [
           21.0,
           22.0,
           25.0,
           6.0,
           3.0,
           1.0
          ],
          "vectorType": "sparse"
         },
         140,
         157.1871693156694
        ],
        [
         {
          "indices": [
           0,
           1,
           2,
           3,
           4,
           7
          ],
          "length": 12,
          "values": [
           21.0,
           22.0,
           25.0,
           6.0,
           3.0,
           1.0
          ],
          "vectorType": "sparse"
         },
         160,
         157.1871693156694
        ],
        [
         {
          "indices": [
           0,
           1,
           2,
           3,
           4,
           7
          ],
          "length": 12,
          "values": [
           22.0,
           23.0,
           26.0,
           6.0,
           3.0,
           1.0
          ],
          "vectorType": "sparse"
         },
         161,
         191.90814585691783
        ],
        [
         {
          "indices": [
           0,
           1,
           2,
           3,
           4,
           7
          ],
          "length": 12,
          "values": [
           23.0,
           25.0,
           27.0,
           7.0,
           3.0,
           1.0
          ],
          "vectorType": "sparse"
         },
         180,
         250.82893902950843
        ],
        [
         {
          "indices": [
           0,
           1,
           2,
           3,
           4,
           7
          ],
          "length": 12,
          "values": [
           25.0,
           27.0,
           30.0,
           8.0,
           4.0,
           1.0
          ],
          "vectorType": "sparse"
         },
         272,
         353.51420295496894
        ],
        [
         {
          "indices": [
           0,
           1,
           2,
           3,
           4,
           11
          ],
          "length": 12,
          "values": [
           25.0,
           28.0,
           30.0,
           8.0,
           4.0,
           1.0
          ],
          "vectorType": "sparse"
         },
         306,
         381.9555065756648
        ],
        [
         {
          "indices": [
           0,
           1,
           2,
           3,
           4,
           11
          ],
          "length": 12,
          "values": [
           28.0,
           31.0,
           34.0,
           10.0,
           6.0,
           1.0
          ],
          "vectorType": "sparse"
         },
         540,
         541.9334653337861
        ],
        [
         {
          "indices": [
           0,
           1,
           2,
           3,
           4,
           10
          ],
          "length": 12,
          "values": [
           16.0,
           17.0,
           19.0,
           7.0,
           2.0,
           1.0
          ],
          "vectorType": "sparse"
         },
         90,
         29.357935488639214
        ],
        [
         {
          "indices": [
           0,
           1,
           2,
           3,
           4,
           11
          ],
          "length": 12,
          "values": [
           33.0,
           36.0,
           39.0,
           11.0,
           6.0,
           1.0
          ],
          "vectorType": "sparse"
         },
         800,
         728.2968805321542
        ],
        [
         {
          "indices": [
           0,
           1,
           2,
           3,
           4,
           10
          ],
          "length": 12,
          "values": [
           24.0,
           26.0,
           29.0,
           11.0,
           4.0,
           1.0
          ],
          "vectorType": "sparse"
         },
         300,
         410.57071862802206
        ],
        [
         {
          "indices": [
           0,
           1,
           2,
           3,
           4,
           5
          ],
          "length": 12,
          "values": [
           19.0,
           21.0,
           22.0,
           5.0,
           3.0,
           1.0
          ],
          "vectorType": "sparse"
         },
         110,
         117.8226588173618
        ],
        [
         {
          "indices": [
           0,
           1,
           2,
           3,
           4,
           5
          ],
          "length": 12,
          "values": [
           20.0,
           22.0,
           23.0,
           6.0,
           3.0,
           1.0
          ],
          "vectorType": "sparse"
         },
         130,
         165.30216785073617
        ],
        [
         {
          "indices": [
           0,
           1,
           2,
           3,
           4,
           5
          ],
          "length": 12,
          "values": [
           20.0,
           22.0,
           23.0,
           5.0,
           3.0,
           1.0
          ],
          "vectorType": "sparse"
         },
         135,
         152.54363535861035
        ],
        [
         {
          "indices": [
           0,
           1,
           2,
           3,
           4,
           5
          ],
          "length": 12,
          "values": [
           20.0,
           22.0,
           24.0,
           5.0,
           3.0,
           1.0
          ],
          "vectorType": "sparse"
         },
         130,
         163.2152279101614
        ],
        [
         {
          "indices": [
           0,
           1,
           2,
           3,
           4,
           5
          ],
          "length": 12,
          "values": [
           23.0,
           25.0,
           26.0,
           6.0,
           3.0,
           1.0
          ],
          "vectorType": "sparse"
         },
         180,
         269.4650974744816
        ],
        [
         {
          "indices": [
           0,
           1,
           2,
           3,
           4,
           5
          ],
          "length": 12,
          "values": [
           23.0,
           25.0,
           27.0,
           6.0,
           4.0,
           1.0
          ],
          "vectorType": "sparse"
         },
         197,
         289.9498758253193
        ],
        [
         {
          "indices": [
           0,
           1,
           2,
           3,
           4,
           5
          ],
          "length": 12,
          "values": [
           25.0,
           26.0,
           28.0,
           7.0,
           4.0,
           1.0
          ],
          "vectorType": "sparse"
         },
         218,
         350.03748470917446
        ],
        [
         {
          "indices": [
           0,
           1,
           2,
           3,
           4,
           5
          ],
          "length": 12,
          "values": [
           25.0,
           27.0,
           28.0,
           7.0,
           4.0,
           1.0
          ],
          "vectorType": "sparse"
         },
         265,
         361.4787688483908
        ],
        [
         {
          "indices": [
           0,
           1,
           2,
           3,
           4,
           5
          ],
          "length": 12,
          "values": [
           25.0,
           27.0,
           28.0,
           8.0,
           5.0,
           1.0
          ],
          "vectorType": "sparse"
         },
         300,
         384.0504871398033
        ],
        [
         {
          "indices": [
           0,
           1,
           2,
           3,
           4,
           5
          ],
          "length": 12,
          "values": [
           26.0,
           28.0,
           30.0,
           7.0,
           4.0,
           1.0
          ],
          "vectorType": "sparse"
         },
         300,
         406.8713379411903
        ],
        [
         {
          "indices": [
           0,
           1,
           2,
           3,
           4,
           5
          ],
          "length": 12,
          "values": [
           34.0,
           36.0,
           39.0,
           10.0,
           6.0,
           1.0
          ],
          "vectorType": "sparse"
         },
         685,
         753.2127118976797
        ],
        [
         {
          "indices": [
           0,
           1,
           2,
           3,
           4,
           5
          ],
          "length": 12,
          "values": [
           36.0,
           39.0,
           41.0,
           11.0,
           6.0,
           1.0
          ],
          "vectorType": "sparse"
         },
         650,
         846.854481611519
        ],
        [
         {
          "indices": [
           0,
           1,
           2,
           3,
           4,
           5
          ],
          "length": 12,
          "values": [
           36.0,
           39.0,
           41.0,
           11.0,
           7.0,
           1.0
          ],
          "vectorType": "sparse"
         },
         900,
         856.6676674108056
        ],
        [
         {
          "indices": [
           0,
           1,
           2,
           3,
           4,
           5
          ],
          "length": 12,
          "values": [
           37.0,
           40.0,
           42.0,
           11.0,
           6.0,
           1.0
          ],
          "vectorType": "sparse"
         },
         820,
         881.5754581527673
        ],
        [
         {
          "indices": [
           0,
           1,
           2,
           3,
           4,
           5
          ],
          "length": 12,
          "values": [
           37.0,
           40.0,
           42.0,
           12.0,
           7.0,
           1.0
          ],
          "vectorType": "sparse"
         },
         1015,
         904.1471764441798
        ],
        [
         {
          "indices": [
           0,
           1,
           2,
           3,
           4,
           8
          ],
          "length": 12,
          "values": [
           35.0,
           38.0,
           40.0,
           7.0,
           4.0,
           1.0
          ],
          "vectorType": "sparse"
         },
         430,
         486.10567641011846
        ],
        [
         {
          "indices": [
           0,
           1,
           2,
           3,
           4,
           8
          ],
          "length": 12,
          "values": [
           40.0,
           42.0,
           45.0,
           6.0,
           4.0,
           1.0
          ],
          "vectorType": "sparse"
         },
         510,
         635.5107424850183
        ],
        [
         {
          "indices": [
           0,
           1,
           2,
           3,
           4,
           8
          ],
          "length": 12,
          "values": [
           40.0,
           42.0,
           45.0,
           7.0,
           4.0,
           1.0
          ],
          "vectorType": "sparse"
         },
         456,
         648.2692749771444
        ],
        [
         {
          "indices": [
           0,
           1,
           2,
           3,
           4,
           8
          ],
          "length": 12,
          "values": [
           42.0,
           45.0,
           48.0,
           6.0,
           4.0,
           1.0
          ],
          "vectorType": "sparse"
         },
         500,
         727.0655722582827
        ],
        [
         {
          "indices": [
           0,
           1,
           2,
           3,
           4,
           8
          ],
          "length": 12,
          "values": [
           43.0,
           46.0,
           48.0,
           7.0,
           4.0,
           1.0
          ],
          "vectorType": "sparse"
         },
         567,
         763.8734887401059
        ],
        [
         {
          "indices": [
           0,
           1,
           2,
           3,
           4,
           8
          ],
          "length": 12,
          "values": [
           48.0,
           51.0,
           55.0,
           8.0,
           6.0,
           1.0
          ],
          "vectorType": "sparse"
         },
         950,
         991.2064606401499
        ],
        [
         {
          "indices": [
           0,
           1,
           2,
           3,
           4,
           8
          ],
          "length": 12,
          "values": [
           56.0,
           60.0,
           64.0,
           9.0,
           6.0,
           1.0
          ],
          "vectorType": "sparse"
         },
         1550,
         1303.8456821530303
        ],
        [
         {
          "indices": [
           0,
           1,
           2,
           3,
           4,
           9
          ],
          "length": 12,
          "values": [
           9.0,
           9.0,
           10.0,
           1.0,
           1.0,
           1.0
          ],
          "vectorType": "sparse"
         },
         6,
         -82.87063290685194
        ],
        [
         {
          "indices": [
           0,
           1,
           2,
           3,
           4,
           9
          ],
          "length": 12,
          "values": [
           10.0,
           10.0,
           11.0,
           1.0,
           1.0,
           1.0
          ],
          "vectorType": "sparse"
         },
         7,
         -48.14965636560339
        ],
        [
         {
          "indices": [
           0,
           1,
           2,
           3,
           4,
           9
          ],
          "length": 12,
          "values": [
           11.0,
           11.0,
           13.0,
           2.0,
           1.0,
           1.0
          ],
          "vectorType": "sparse"
         },
         9,
         10.001445219321795
        ],
        [
         {
          "indices": [
           0,
           1,
           2,
           3,
           4,
           9
          ],
          "length": 12,
          "values": [
           11.0,
           11.0,
           13.0,
           2.0,
           1.0,
           1.0
          ],
          "vectorType": "sparse"
         },
         10,
         10.001445219321795
        ],
        [
         {
          "indices": [
           0,
           1,
           2,
           3,
           4,
           9
          ],
          "length": 12,
          "values": [
           11.0,
           12.0,
           13.0,
           2.0,
           1.0,
           1.0
          ],
          "vectorType": "sparse"
         },
         12,
         21.44272935853826
        ],
        [
         {
          "indices": [
           0,
           1,
           2,
           3,
           4,
           9
          ],
          "length": 12,
          "values": [
           12.0,
           13.0,
           13.0,
           2.0,
           1.0,
           1.0
          ],
          "vectorType": "sparse"
         },
         12,
         45.49211334823565
        ]
       ],
       "datasetInfos": [],
       "dbfsResultPath": null,
       "isJsonSchema": true,
       "metadata": {},
       "overflow": false,
       "plotOptions": {
        "customPlotOptions": {},
        "displayType": "table",
        "pivotAggregation": null,
        "pivotColumns": null,
        "xColumns": null,
        "yColumns": null
       },
       "removedWidgets": [],
       "schema": [
        {
         "metadata": "{\"ml_attr\":{\"attrs\":{\"numeric\":[{\"idx\":0,\"name\":\"Length1\"},{\"idx\":1,\"name\":\"Length2\"},{\"idx\":2,\"name\":\"Length3\"},{\"idx\":3,\"name\":\"Height\"},{\"idx\":4,\"name\":\"Width\"},{\"idx\":5,\"name\":\"Species_Perch\"},{\"idx\":6,\"name\":\"Species_Bream\"},{\"idx\":7,\"name\":\"Species_Roach\"},{\"idx\":8,\"name\":\"Species_Pike\"},{\"idx\":9,\"name\":\"Species_Smelt\"},{\"idx\":10,\"name\":\"Species_Parkki\"},{\"idx\":11,\"name\":\"Species_Whitefish\"}]},\"num_attrs\":12}}",
         "name": "features",
         "type": "{\"type\":\"udt\",\"class\":\"org.apache.spark.ml.linalg.VectorUDT\",\"pyClass\":\"pyspark.ml.linalg.VectorUDT\",\"sqlType\":{\"type\":\"struct\",\"fields\":[{\"name\":\"type\",\"type\":\"byte\",\"nullable\":false,\"metadata\":{}},{\"name\":\"size\",\"type\":\"integer\",\"nullable\":true,\"metadata\":{}},{\"name\":\"indices\",\"type\":{\"type\":\"array\",\"elementType\":\"integer\",\"containsNull\":false},\"nullable\":true,\"metadata\":{}},{\"name\":\"values\",\"type\":{\"type\":\"array\",\"elementType\":\"double\",\"containsNull\":false},\"nullable\":true,\"metadata\":{}}]}}"
        },
        {
         "metadata": "{}",
         "name": "Weight",
         "type": "\"integer\""
        },
        {
         "metadata": "{\"ml_attr\":{}}",
         "name": "prediction",
         "type": "\"double\""
        }
       ],
       "type": "table"
      }
     },
     "output_type": "display_data"
    }
   ],
   "source": [
    "display(lr_predictions)"
   ]
  },
  {
   "cell_type": "markdown",
   "metadata": {
    "application/vnd.databricks.v1+cell": {
     "cellMetadata": {
      "byteLimit": 2048000,
      "rowLimit": 10000
     },
     "inputWidgets": {},
     "nuid": "94276c92-09d3-40c4-a647-1e226a449bb1",
     "showTitle": false,
     "title": ""
    }
   },
   "source": [
    "#### Registering Models\n",
    "\n",
    "Follow along as we learn how to register our models. Registering your model will produce an id that you can share with anyone. The two best models' ids will be sent in Slack. Then uncomment the code below, add the logged_model id, and run the code."
   ]
  },
  {
   "cell_type": "code",
   "execution_count": 0,
   "metadata": {
    "application/vnd.databricks.v1+cell": {
     "cellMetadata": {
      "byteLimit": 2048000,
      "rowLimit": 10000
     },
     "inputWidgets": {},
     "nuid": "dba92407-fd5d-4473-b11c-4f07da1ae1c4",
     "showTitle": false,
     "title": ""
    }
   },
   "outputs": [
    {
     "output_type": "stream",
     "name": "stdout",
     "output_type": "stream",
     "text": [
      "2023/06/18 02:51:09 INFO mlflow.spark: 'runs:/f3b6b7e7ab29494fba4049f23db707ce/model' resolved as 'dbfs:/databricks/mlflow-tracking/3381365783933738/f3b6b7e7ab29494fba4049f23db707ce/artifacts/model'\nOut[8]: DataFrame[features: vector, Weight: int, prediction: double]"
     ]
    }
   ],
   "source": [
    "# import mlflow\n",
    "# logged_model = ''\n",
    "\n",
    "# # Load model\n",
    "# loaded_model = mlflow.spark.load_model(logged_model)\n",
    "\n",
    "# # Perform inference via model.transform()\n",
    "# new_model = loaded_model.transform(test_df)\n",
    "\n",
    "# display(new_model)"
   ]
  }
 ],
 "metadata": {
  "application/vnd.databricks.v1+notebook": {
   "dashboards": [],
   "language": "python",
   "notebookMetadata": {
    "pythonIndentUnit": 4
   },
   "notebookName": "Final MLflow DataBricks Model Example",
   "widgets": {}
  }
 },
 "nbformat": 4,
 "nbformat_minor": 0
}
